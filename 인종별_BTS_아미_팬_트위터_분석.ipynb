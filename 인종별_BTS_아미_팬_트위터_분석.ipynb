{
  "nbformat": 4,
  "nbformat_minor": 0,
  "metadata": {
    "colab": {
      "name": "인종별 BTS 아미 팬 트위터 분석.ipynb",
      "provenance": [],
      "collapsed_sections": [],
      "authorship_tag": "ABX9TyNm5q33rpTe/EmD4aHPOTTD",
      "include_colab_link": true
    },
    "kernelspec": {
      "display_name": "Python 3",
      "name": "python3"
    },
    "language_info": {
      "name": "python"
    }
  },
  "cells": [
    {
      "cell_type": "markdown",
      "metadata": {
        "id": "view-in-github",
        "colab_type": "text"
      },
      "source": [
        "<a href=\"https://colab.research.google.com/github/baaaaamji/bts-army-fandom/blob/main/%EC%9D%B8%EC%A2%85%EB%B3%84_BTS_%EC%95%84%EB%AF%B8_%ED%8C%AC_%ED%8A%B8%EC%9C%84%ED%84%B0_%EB%B6%84%EC%84%9D.ipynb\" target=\"_parent\"><img src=\"https://colab.research.google.com/assets/colab-badge.svg\" alt=\"Open In Colab\"/></a>"
      ]
    },
    {
      "cell_type": "code",
      "metadata": {
        "id": "u2lwERb8IObR"
      },
      "source": [
        "!pip install Textblob &> /dev/null\n",
        "!pip install -U tomotopy &> /dev/null\n",
        "!pip install -U pyldavis==2.1.2 &> /dev/null\n",
        "!pip install -U gensim &> /dev/null"
      ],
      "execution_count": null,
      "outputs": []
    },
    {
      "cell_type": "code",
      "metadata": {
        "colab": {
          "base_uri": "https://localhost:8080/"
        },
        "id": "qw0e_EomJk45",
        "outputId": "92fe0658-14b1-485c-96a8-0b675db9f6d2"
      },
      "source": [
        "import pandas as pd\n",
        "import re\n",
        "import pprint as pp\n",
        "\n",
        "import nltk\n",
        "from nltk.tokenize import TweetTokenizer, RegexpTokenizer\n",
        "from nltk.corpus import stopwords\n",
        "from textblob import TextBlob, Word\n",
        "\n",
        "nltk.download('punkt')\n",
        "nltk.download('words')\n",
        "nltk.download('wordnet')\n",
        "nltk.download('stopwords')\n",
        "nltk.download('averaged_perceptron_tagger')\n",
        "\n",
        "from sklearn.feature_extraction.text import CountVectorizer\n",
        "\n",
        "import matplotlib.pyplot as plt\n",
        "import matplotlib.colors as clr\n",
        "import matplotlib.font_manager as fm\n",
        "\n",
        "pd.options.display.max_colwidth = -1\n",
        "\n",
        "%matplotlib inline "
      ],
      "execution_count": null,
      "outputs": [
        {
          "output_type": "stream",
          "text": [
            "[nltk_data] Downloading package punkt to /root/nltk_data...\n",
            "[nltk_data]   Package punkt is already up-to-date!\n",
            "[nltk_data] Downloading package words to /root/nltk_data...\n",
            "[nltk_data]   Package words is already up-to-date!\n",
            "[nltk_data] Downloading package wordnet to /root/nltk_data...\n",
            "[nltk_data]   Package wordnet is already up-to-date!\n",
            "[nltk_data] Downloading package stopwords to /root/nltk_data...\n",
            "[nltk_data]   Package stopwords is already up-to-date!\n",
            "[nltk_data] Downloading package averaged_perceptron_tagger to\n",
            "[nltk_data]     /root/nltk_data...\n",
            "[nltk_data]   Package averaged_perceptron_tagger is already up-to-\n",
            "[nltk_data]       date!\n"
          ],
          "name": "stdout"
        },
        {
          "output_type": "stream",
          "text": [
            "/usr/local/lib/python3.7/dist-packages/ipykernel_launcher.py:22: FutureWarning: Passing a negative integer is deprecated in version 1.0 and will not be supported in future version. Instead, use None to not limit the column width.\n"
          ],
          "name": "stderr"
        }
      ]
    },
    {
      "cell_type": "code",
      "metadata": {
        "colab": {
          "base_uri": "https://localhost:8080/"
        },
        "id": "E6U_1n__JmDj",
        "outputId": "639c2bf8-b20c-4262-a2c9-cbe483907da3"
      },
      "source": [
        "from google.colab import drive # mount Google Drive\n",
        "drive.mount('/content/drive/', force_remount=True)"
      ],
      "execution_count": null,
      "outputs": [
        {
          "name": "stdout",
          "output_type": "stream",
          "text": [
            "Mounted at /content/drive/\n"
          ]
        }
      ]
    },
    {
      "cell_type": "code",
      "metadata": {
        "colab": {
          "base_uri": "https://localhost:8080/",
          "height": 1000
        },
        "id": "ml_x8-f0JnxV",
        "outputId": "22e904eb-785f-480e-dc59-e75d09f8e7f0"
      },
      "source": [
        "DF = pd.read_csv('/content/drive/MyDrive/han/csv/new/final_latinbtsarmy_nohashtag.csv', encoding='utf-8')\n",
        "\n",
        "DF.head()"
      ],
      "execution_count": null,
      "outputs": [
        {
          "output_type": "execute_result",
          "data": {
            "text/html": [
              "<div>\n",
              "<style scoped>\n",
              "    .dataframe tbody tr th:only-of-type {\n",
              "        vertical-align: middle;\n",
              "    }\n",
              "\n",
              "    .dataframe tbody tr th {\n",
              "        vertical-align: top;\n",
              "    }\n",
              "\n",
              "    .dataframe thead th {\n",
              "        text-align: right;\n",
              "    }\n",
              "</style>\n",
              "<table border=\"1\" class=\"dataframe\">\n",
              "  <thead>\n",
              "    <tr style=\"text-align: right;\">\n",
              "      <th></th>\n",
              "      <th>Unnamed: 0</th>\n",
              "      <th>url</th>\n",
              "      <th>date</th>\n",
              "      <th>content</th>\n",
              "      <th>user</th>\n",
              "      <th>likeCount</th>\n",
              "      <th>lang</th>\n",
              "      <th>hashtags</th>\n",
              "      <th>translated_content</th>\n",
              "      <th>Allwords</th>\n",
              "    </tr>\n",
              "  </thead>\n",
              "  <tbody>\n",
              "    <tr>\n",
              "      <th>0</th>\n",
              "      <td>0</td>\n",
              "      <td>https://twitter.com/Ezzy_658/status/1331427915586695171</td>\n",
              "      <td>2020-11-25 02:42:06+00:00</td>\n",
              "      <td>In case anyone is looking for a new playlist...this is mainly for my #LatinBTSARMY It is focused on #LifeGoesOn , #BTS_Dynamite and #BTS_BE with some Latin flavor😘 \\n\\n@BTS_twt #BTSGrammy #BTSGrammyNomination \\n\\n https://t.co/8qvuVIylve</td>\n",
              "      <td>{'_type': 'snscrape.modules.twitter.User', 'username': 'Ezzy_658', 'id': 1221463452247449600, 'displayname': '💜⟭⟬ Esmeralda 🐋 ⟭⟬💜', 'description': 'Love OT7 but NamJinKook biased, although Wednesdays are still dedicated to Namjoon! Ravenclaw at 💜 Fan Account 🔞', 'rawDescription': 'Love OT7 but NamJinKook biased, although Wednesdays are still dedicated to Namjoon! Ravenclaw at 💜 Fan Account 🔞', 'descriptionUrls': None, 'verified': False, 'created': '2020-01-26T16:02:47+00:00', 'followersCount': 363, 'friendsCount': 334, 'statusesCount': 9365, 'favouritesCount': 42117, 'listedCount': 6, 'mediaCount': 3143, 'location': '', 'protected': False, 'linkUrl': None, 'linkTcourl': None, 'profileImageUrl': 'https://pbs.twimg.com/profile_images/1414300632979107844/weXDDl_F_normal.jpg', 'profileBannerUrl': 'https://pbs.twimg.com/profile_banners/1221463452247449600/1624852841', 'url': 'https://twitter.com/Ezzy_658'}</td>\n",
              "      <td>3</td>\n",
              "      <td>en</td>\n",
              "      <td>['LatinBTSARMY', 'LifeGoesOn', 'BTS_Dynamite', 'BTS_BE', 'BTSGrammy', 'BTSGrammyNomination']</td>\n",
              "      <td>In case anyone is looking for a new playlist ... This is mainly for my #latinbtsarmy it is focused on #Lifegoeson, #BTS_DYNAMITE AND #BTS_BE WITH SOME LATIN FLAVOR😘\\n\\n@BTS_TWT #BTSGRAMMY #BTSGRAMMYNOMEATION.\\n\\n https://t.co/8qvuviylve.</td>\n",
              "      <td>case anyone playlist latinbtsarmy lifegoeson bts_dynamite bts_be latin flavor😘 bts_twt btsgrammy btsgrammynomeation //t.co/8qvuviylve</td>\n",
              "    </tr>\n",
              "    <tr>\n",
              "      <th>1</th>\n",
              "      <td>1</td>\n",
              "      <td>https://twitter.com/Dopaminergiica/status/1306422446824861701</td>\n",
              "      <td>2020-09-17 02:39:18+00:00</td>\n",
              "      <td>OK MAYBE IT'S SO LATE TO ASK THIS BUT PLEASEEE PLEASEEEE CONSIDER A REGGEATON SONG. PRETTY PLEASE🥺💜? @BTS_twt or a Reggeaton collab? #LatinxHeritageMonth #LatinBTSARMY #BTSARMY</td>\n",
              "      <td>{'_type': 'snscrape.modules.twitter.User', 'username': 'Dopaminergiica', 'id': 445169253, 'displayname': '⟬⟭🧜\\u200d♀️G-Mermaidᴮᴱ⁷⟭⟬_\\U0001f9c8👅', 'description': \"🌌🧜🏻\\u200d♀️🔞🌗♋ \\n💜 BTS ARMY ⟬⟭ \\n-92'😼 \\n-Researcher👩\\u200d⚕️💉🏨\\n-Fan Account of BTS/TXT🎵\\n-🐿🐹🐰biased \\n-🐱🐥🐻🐨wrecked\\n-Borahae Crew🎀 -잠시 🤠\", 'rawDescription': \"🌌🧜🏻\\u200d♀️🔞🌗♋ \\n💜 BTS ARMY ⟬⟭ \\n-92'😼 \\n-Researcher👩\\u200d⚕️💉🏨\\n-Fan Account of BTS/TXT🎵\\n-🐿🐹🐰biased \\n-🐱🐥🐻🐨wrecked\\n-Borahae Crew🎀 -잠시 🤠\", 'descriptionUrls': None, 'verified': False, 'created': '2011-12-24T03:04:19+00:00', 'followersCount': 2968, 'friendsCount': 5000, 'statusesCount': 102042, 'favouritesCount': 182593, 'listedCount': 13, 'mediaCount': 15916, 'location': 'Texas, USA', 'protected': False, 'linkUrl': None, 'linkTcourl': None, 'profileImageUrl': 'https://pbs.twimg.com/profile_images/1429670240955293705/10whAJwK_normal.jpg', 'profileBannerUrl': 'https://pbs.twimg.com/profile_banners/445169253/1629694922', 'url': 'https://twitter.com/Dopaminergiica'}</td>\n",
              "      <td>4</td>\n",
              "      <td>en</td>\n",
              "      <td>['LatinxHeritageMonth', 'LatinBTSARMY', 'BTSARMY']</td>\n",
              "      <td>OK MAYBE IT's SO LATE TO ASK THIS BUT PLEASEEE PLEASEEE CONSIDELS REGGEATON SONG.Pretty please🥺💜?@BTS_TWT OR A Reggeaton Collab?#LATINXHERITAGEMONTH #LATINBTSARMY #BTSARMY.</td>\n",
              "      <td>maybe pleaseee pleaseee considels reggeaton song.pretty please🥺💜 bts_twt reggeaton collab latinxheritagemonth latinbtsarmy btsarmy</td>\n",
              "    </tr>\n",
              "    <tr>\n",
              "      <th>2</th>\n",
              "      <td>2</td>\n",
              "      <td>https://twitter.com/Dopaminergiica/status/1305630670853738499</td>\n",
              "      <td>2020-09-14 22:13:04+00:00</td>\n",
              "      <td>Mañana es el día de la Independencia de México y por suerte/destino, no trabajo. Haré un streaming party con música mexicana + #BTS_DYNAMITE  \\nAlguna sugerencia de que debería incluir? #BTSARMY #BTSMexico #LatinBTSARMY</td>\n",
              "      <td>{'_type': 'snscrape.modules.twitter.User', 'username': 'Dopaminergiica', 'id': 445169253, 'displayname': '⟬⟭🧜\\u200d♀️G-Mermaidᴮᴱ⁷⟭⟬_\\U0001f9c8👅', 'description': \"🌌🧜🏻\\u200d♀️🔞🌗♋ \\n💜 BTS ARMY ⟬⟭ \\n-92'😼 \\n-Researcher👩\\u200d⚕️💉🏨\\n-Fan Account of BTS/TXT🎵\\n-🐿🐹🐰biased \\n-🐱🐥🐻🐨wrecked\\n-Borahae Crew🎀 -잠시 🤠\", 'rawDescription': \"🌌🧜🏻\\u200d♀️🔞🌗♋ \\n💜 BTS ARMY ⟬⟭ \\n-92'😼 \\n-Researcher👩\\u200d⚕️💉🏨\\n-Fan Account of BTS/TXT🎵\\n-🐿🐹🐰biased \\n-🐱🐥🐻🐨wrecked\\n-Borahae Crew🎀 -잠시 🤠\", 'descriptionUrls': None, 'verified': False, 'created': '2011-12-24T03:04:19+00:00', 'followersCount': 2968, 'friendsCount': 5000, 'statusesCount': 102042, 'favouritesCount': 182593, 'listedCount': 13, 'mediaCount': 15916, 'location': 'Texas, USA', 'protected': False, 'linkUrl': None, 'linkTcourl': None, 'profileImageUrl': 'https://pbs.twimg.com/profile_images/1429670240955293705/10whAJwK_normal.jpg', 'profileBannerUrl': 'https://pbs.twimg.com/profile_banners/445169253/1629694922', 'url': 'https://twitter.com/Dopaminergiica'}</td>\n",
              "      <td>3</td>\n",
              "      <td>es</td>\n",
              "      <td>['BTS_DYNAMITE', 'BTSARMY', 'BTSMexico', 'LatinBTSARMY']</td>\n",
              "      <td>Tomorrow is the day of Mexico independence and luckily / destination, I do not work.I will do a streaming party with Mexican music + #BTS_DYNAMITE\\nAny suggestion that you should include?#BTSARMY #BTSMEXICO #LATINBTSARMY.</td>\n",
              "      <td>tomorrow mexico independence destination party music bts_dynamite suggestion btsarmy btsmexico latinbtsarmy</td>\n",
              "    </tr>\n",
              "    <tr>\n",
              "      <th>3</th>\n",
              "      <td>3</td>\n",
              "      <td>https://twitter.com/AdorKabLe_Me2/status/968580388472999936</td>\n",
              "      <td>2018-02-27 20:15:34+00:00</td>\n",
              "      <td>When you wanna tweet about \\n#dominicanindependenceday \\nBut you also wanna keep the votes up for @BTS_twt \\n😂😂😂❤❤❤\\n¿Considerando mi armys dominicano? \\n#LATINBTSARMY 🌼🇩🇴🌼\\n\\n🌹💖💝 #BTSARMY #BestFanArmy #iHeartAwards\\n@BTS_twt 💕\\n\\n*hugs* https://t.co/u7Ag9ialRy</td>\n",
              "      <td>{'_type': 'snscrape.modules.twitter.User', 'username': 'AdorKabLe_Me2', 'id': 83841071, 'displayname': '*THE NOSEY (nice) MULTI*🥳🔥🔥', 'description': \"𖧵×𖧵 ⁷MultiStan University\\nへ(._へ)sᴋʀskrrr \\n☆𝐍𝐚𝐦𝐣𝐨𝐨𝐧: 𝕀 𝕒𝕞 𝕒 𝕓𝕝𝕒𝕔𝕜 𝕞𝕒𝕟★\\n#BLM\\nFelix's mum❤🥺\\n#skzSTAY #YOONGICULT\\n20+ \\nproud afrolatina🇩🇴🥰\", 'rawDescription': \"𖧵×𖧵 ⁷MultiStan University\\nへ(._へ)sᴋʀskrrr \\n☆𝐍𝐚𝐦𝐣𝐨𝐨𝐧: 𝕀 𝕒𝕞 𝕒 𝕓𝕝𝕒𝕔𝕜 𝕞𝕒𝕟★\\n#BLM\\nFelix's mum❤🥺\\n#skzSTAY #YOONGICULT\\n20+ \\nproud afrolatina🇩🇴🥰\", 'descriptionUrls': None, 'verified': False, 'created': '2009-10-20T13:14:18+00:00', 'followersCount': 3037, 'friendsCount': 3782, 'statusesCount': 32372, 'favouritesCount': 50875, 'listedCount': 11, 'mediaCount': 1778, 'location': \"Markjin's child💚\", 'protected': False, 'linkUrl': 'https://kpopshop.com?sca_ref=554051.dg61NXHGwN', 'linkTcourl': 'https://t.co/8N3Z9LgueP', 'profileImageUrl': 'https://pbs.twimg.com/profile_images/1384199949231878154/5Co_wVRs_normal.jpg', 'profileBannerUrl': 'https://pbs.twimg.com/profile_banners/83841071/1618853959', 'url': 'https://twitter.com/AdorKabLe_Me2'}</td>\n",
              "      <td>0</td>\n",
              "      <td>en</td>\n",
              "      <td>['dominicanindependenceday', 'LATINBTSARMY', 'BTSARMY', 'BestFanArmy', 'iHeartAwards']</td>\n",
              "      <td>WHEN YOU WANNA TWEET About\\n#Dominicanindependenceteday.\\nBut You Also Wanna Keep The Votes Up for @bts_twt\\n😂😂😂❤❤❤\\nConsidering my Dominican Arms?\\n#LATINBTSARMY 🌼🇩🇴🌼.\\n\\n🌹💖💝 #BTSARMY #BestFanarmy #iHeartaWards\\n@BTS_TWT 💕.\\n\\n* HUGS * https://t.co/u7ag9ialry</td>\n",
              "      <td>tweet dominicanindependenceteday votes bts_twt 😂😂😂❤❤❤ considering latinbtsarmy 🌼🇩🇴🌼 btsarmy bestfanarmy bts_twt hugs //t.co/u7ag9ialry</td>\n",
              "    </tr>\n",
              "  </tbody>\n",
              "</table>\n",
              "</div>"
            ],
            "text/plain": [
              "   Unnamed: 0  ...                                                                                                                                Allwords\n",
              "0  0           ...  case anyone playlist latinbtsarmy lifegoeson bts_dynamite bts_be latin flavor😘 bts_twt btsgrammy btsgrammynomeation //t.co/8qvuviylve \n",
              "1  1           ...  maybe pleaseee pleaseee considels reggeaton song.pretty please🥺💜 bts_twt reggeaton collab latinxheritagemonth latinbtsarmy btsarmy    \n",
              "2  2           ...  tomorrow mexico independence destination party music bts_dynamite suggestion btsarmy btsmexico latinbtsarmy                           \n",
              "3  3           ...  tweet dominicanindependenceteday votes bts_twt 😂😂😂❤❤❤ considering latinbtsarmy 🌼🇩🇴🌼 btsarmy bestfanarmy bts_twt hugs //t.co/u7ag9ialry\n",
              "\n",
              "[4 rows x 10 columns]"
            ]
          },
          "metadata": {},
          "execution_count": 65
        }
      ]
    },
    {
      "cell_type": "code",
      "metadata": {
        "id": "p-1s84TJKeuy",
        "colab": {
          "base_uri": "https://localhost:8080/"
        },
        "outputId": "584f12f4-8cc2-4e04-c786-0abae63af0db"
      },
      "source": [
        "print(len(DF))\n",
        "\n",
        "CONTENT = DF['content']"
      ],
      "execution_count": null,
      "outputs": [
        {
          "output_type": "stream",
          "text": [
            "4\n"
          ],
          "name": "stdout"
        }
      ]
    },
    {
      "cell_type": "markdown",
      "metadata": {
        "id": "NJ-ia0mTKqS0"
      },
      "source": [
        "### **번역**"
      ]
    },
    {
      "cell_type": "code",
      "metadata": {
        "id": "kh5lKZbLORZ8"
      },
      "source": [
        "!pip install googletrans==4.0.0-rc1"
      ],
      "execution_count": null,
      "outputs": []
    },
    {
      "cell_type": "code",
      "metadata": {
        "id": "3Pyyu4_lKyNO"
      },
      "source": [
        "from googletrans import Translator\n",
        "translator = Translator()\n",
        "import pandas as pd"
      ],
      "execution_count": null,
      "outputs": []
    },
    {
      "cell_type": "code",
      "metadata": {
        "colab": {
          "base_uri": "https://localhost:8080/",
          "height": 358
        },
        "id": "TgWOqVVJLFbK",
        "outputId": "a4580065-b1dd-40a2-f599-6c591dbaa48b"
      },
      "source": [
        "DF['translated_content'] = DF['content'].apply(translator.translate, src='es', dest='en').apply(getattr, args =('text',))\n",
        "DF"
      ],
      "execution_count": null,
      "outputs": [
        {
          "ename": "KeyboardInterrupt",
          "evalue": "ignored",
          "output_type": "error",
          "traceback": [
            "\u001b[0;31m---------------------------------------------------------------------------\u001b[0m",
            "\u001b[0;31mKeyboardInterrupt\u001b[0m                         Traceback (most recent call last)",
            "\u001b[0;32m<ipython-input-51-057e0db48732>\u001b[0m in \u001b[0;36m<module>\u001b[0;34m()\u001b[0m\n\u001b[0;32m----> 1\u001b[0;31m \u001b[0mDF\u001b[0m\u001b[0;34m[\u001b[0m\u001b[0;34m'translated_content'\u001b[0m\u001b[0;34m]\u001b[0m \u001b[0;34m=\u001b[0m \u001b[0mDF\u001b[0m\u001b[0;34m[\u001b[0m\u001b[0;34m'content'\u001b[0m\u001b[0;34m]\u001b[0m\u001b[0;34m.\u001b[0m\u001b[0mapply\u001b[0m\u001b[0;34m(\u001b[0m\u001b[0mtranslator\u001b[0m\u001b[0;34m.\u001b[0m\u001b[0mtranslate\u001b[0m\u001b[0;34m,\u001b[0m \u001b[0msrc\u001b[0m\u001b[0;34m=\u001b[0m\u001b[0;34m'es'\u001b[0m\u001b[0;34m,\u001b[0m \u001b[0mdest\u001b[0m\u001b[0;34m=\u001b[0m\u001b[0;34m'en'\u001b[0m\u001b[0;34m)\u001b[0m\u001b[0;34m.\u001b[0m\u001b[0mapply\u001b[0m\u001b[0;34m(\u001b[0m\u001b[0mgetattr\u001b[0m\u001b[0;34m,\u001b[0m \u001b[0margs\u001b[0m \u001b[0;34m=\u001b[0m\u001b[0;34m(\u001b[0m\u001b[0;34m'text'\u001b[0m\u001b[0;34m,\u001b[0m\u001b[0;34m)\u001b[0m\u001b[0;34m)\u001b[0m\u001b[0;34m\u001b[0m\u001b[0;34m\u001b[0m\u001b[0m\n\u001b[0m\u001b[1;32m      2\u001b[0m \u001b[0mDF\u001b[0m\u001b[0;34m\u001b[0m\u001b[0;34m\u001b[0m\u001b[0m\n",
            "\u001b[0;32m/usr/local/lib/python3.7/dist-packages/pandas/core/series.py\u001b[0m in \u001b[0;36mapply\u001b[0;34m(self, func, convert_dtype, args, **kwds)\u001b[0m\n\u001b[1;32m   4211\u001b[0m             \u001b[0;32melse\u001b[0m\u001b[0;34m:\u001b[0m\u001b[0;34m\u001b[0m\u001b[0;34m\u001b[0m\u001b[0m\n\u001b[1;32m   4212\u001b[0m                 \u001b[0mvalues\u001b[0m \u001b[0;34m=\u001b[0m \u001b[0mself\u001b[0m\u001b[0;34m.\u001b[0m\u001b[0mastype\u001b[0m\u001b[0;34m(\u001b[0m\u001b[0mobject\u001b[0m\u001b[0;34m)\u001b[0m\u001b[0;34m.\u001b[0m\u001b[0m_values\u001b[0m\u001b[0;34m\u001b[0m\u001b[0;34m\u001b[0m\u001b[0m\n\u001b[0;32m-> 4213\u001b[0;31m                 \u001b[0mmapped\u001b[0m \u001b[0;34m=\u001b[0m \u001b[0mlib\u001b[0m\u001b[0;34m.\u001b[0m\u001b[0mmap_infer\u001b[0m\u001b[0;34m(\u001b[0m\u001b[0mvalues\u001b[0m\u001b[0;34m,\u001b[0m \u001b[0mf\u001b[0m\u001b[0;34m,\u001b[0m \u001b[0mconvert\u001b[0m\u001b[0;34m=\u001b[0m\u001b[0mconvert_dtype\u001b[0m\u001b[0;34m)\u001b[0m\u001b[0;34m\u001b[0m\u001b[0;34m\u001b[0m\u001b[0m\n\u001b[0m\u001b[1;32m   4214\u001b[0m \u001b[0;34m\u001b[0m\u001b[0m\n\u001b[1;32m   4215\u001b[0m         \u001b[0;32mif\u001b[0m \u001b[0mlen\u001b[0m\u001b[0;34m(\u001b[0m\u001b[0mmapped\u001b[0m\u001b[0;34m)\u001b[0m \u001b[0;32mand\u001b[0m \u001b[0misinstance\u001b[0m\u001b[0;34m(\u001b[0m\u001b[0mmapped\u001b[0m\u001b[0;34m[\u001b[0m\u001b[0;36m0\u001b[0m\u001b[0;34m]\u001b[0m\u001b[0;34m,\u001b[0m \u001b[0mSeries\u001b[0m\u001b[0;34m)\u001b[0m\u001b[0;34m:\u001b[0m\u001b[0;34m\u001b[0m\u001b[0;34m\u001b[0m\u001b[0m\n",
            "\u001b[0;32mpandas/_libs/lib.pyx\u001b[0m in \u001b[0;36mpandas._libs.lib.map_infer\u001b[0;34m()\u001b[0m\n",
            "\u001b[0;32m/usr/local/lib/python3.7/dist-packages/pandas/core/series.py\u001b[0m in \u001b[0;36mf\u001b[0;34m(x)\u001b[0m\n\u001b[1;32m   4196\u001b[0m \u001b[0;34m\u001b[0m\u001b[0m\n\u001b[1;32m   4197\u001b[0m             \u001b[0;32mdef\u001b[0m \u001b[0mf\u001b[0m\u001b[0;34m(\u001b[0m\u001b[0mx\u001b[0m\u001b[0;34m)\u001b[0m\u001b[0;34m:\u001b[0m\u001b[0;34m\u001b[0m\u001b[0;34m\u001b[0m\u001b[0m\n\u001b[0;32m-> 4198\u001b[0;31m                 \u001b[0;32mreturn\u001b[0m \u001b[0mfunc\u001b[0m\u001b[0;34m(\u001b[0m\u001b[0mx\u001b[0m\u001b[0;34m,\u001b[0m \u001b[0;34m*\u001b[0m\u001b[0margs\u001b[0m\u001b[0;34m,\u001b[0m \u001b[0;34m**\u001b[0m\u001b[0mkwds\u001b[0m\u001b[0;34m)\u001b[0m\u001b[0;34m\u001b[0m\u001b[0;34m\u001b[0m\u001b[0m\n\u001b[0m\u001b[1;32m   4199\u001b[0m \u001b[0;34m\u001b[0m\u001b[0m\n\u001b[1;32m   4200\u001b[0m         \u001b[0;32melse\u001b[0m\u001b[0;34m:\u001b[0m\u001b[0;34m\u001b[0m\u001b[0;34m\u001b[0m\u001b[0m\n",
            "\u001b[0;32m/usr/local/lib/python3.7/dist-packages/googletrans/client.py\u001b[0m in \u001b[0;36mtranslate\u001b[0;34m(self, text, dest, src)\u001b[0m\n\u001b[1;32m    192\u001b[0m \u001b[0;34m\u001b[0m\u001b[0m\n\u001b[1;32m    193\u001b[0m         \u001b[0morigin\u001b[0m \u001b[0;34m=\u001b[0m \u001b[0mtext\u001b[0m\u001b[0;34m\u001b[0m\u001b[0;34m\u001b[0m\u001b[0m\n\u001b[0;32m--> 194\u001b[0;31m         \u001b[0mdata\u001b[0m\u001b[0;34m,\u001b[0m \u001b[0mresponse\u001b[0m \u001b[0;34m=\u001b[0m \u001b[0mself\u001b[0m\u001b[0;34m.\u001b[0m\u001b[0m_translate\u001b[0m\u001b[0;34m(\u001b[0m\u001b[0mtext\u001b[0m\u001b[0;34m,\u001b[0m \u001b[0mdest\u001b[0m\u001b[0;34m,\u001b[0m \u001b[0msrc\u001b[0m\u001b[0;34m)\u001b[0m\u001b[0;34m\u001b[0m\u001b[0;34m\u001b[0m\u001b[0m\n\u001b[0m\u001b[1;32m    195\u001b[0m \u001b[0;34m\u001b[0m\u001b[0m\n\u001b[1;32m    196\u001b[0m         \u001b[0mtoken_found\u001b[0m \u001b[0;34m=\u001b[0m \u001b[0;32mFalse\u001b[0m\u001b[0;34m\u001b[0m\u001b[0;34m\u001b[0m\u001b[0m\n",
            "\u001b[0;32m/usr/local/lib/python3.7/dist-packages/googletrans/client.py\u001b[0m in \u001b[0;36m_translate\u001b[0;34m(self, text, dest, src)\u001b[0m\n\u001b[1;32m    118\u001b[0m             \u001b[0;34m'rt'\u001b[0m\u001b[0;34m:\u001b[0m \u001b[0;34m'c'\u001b[0m\u001b[0;34m,\u001b[0m\u001b[0;34m\u001b[0m\u001b[0;34m\u001b[0m\u001b[0m\n\u001b[1;32m    119\u001b[0m         }\n\u001b[0;32m--> 120\u001b[0;31m         \u001b[0mr\u001b[0m \u001b[0;34m=\u001b[0m \u001b[0mself\u001b[0m\u001b[0;34m.\u001b[0m\u001b[0mclient\u001b[0m\u001b[0;34m.\u001b[0m\u001b[0mpost\u001b[0m\u001b[0;34m(\u001b[0m\u001b[0murl\u001b[0m\u001b[0;34m,\u001b[0m \u001b[0mparams\u001b[0m\u001b[0;34m=\u001b[0m\u001b[0mparams\u001b[0m\u001b[0;34m,\u001b[0m \u001b[0mdata\u001b[0m\u001b[0;34m=\u001b[0m\u001b[0mdata\u001b[0m\u001b[0;34m)\u001b[0m\u001b[0;34m\u001b[0m\u001b[0;34m\u001b[0m\u001b[0m\n\u001b[0m\u001b[1;32m    121\u001b[0m \u001b[0;34m\u001b[0m\u001b[0m\n\u001b[1;32m    122\u001b[0m         \u001b[0;32mif\u001b[0m \u001b[0mr\u001b[0m\u001b[0;34m.\u001b[0m\u001b[0mstatus_code\u001b[0m \u001b[0;34m!=\u001b[0m \u001b[0;36m200\u001b[0m \u001b[0;32mand\u001b[0m \u001b[0mself\u001b[0m\u001b[0;34m.\u001b[0m\u001b[0mraise_Exception\u001b[0m\u001b[0;34m:\u001b[0m\u001b[0;34m\u001b[0m\u001b[0;34m\u001b[0m\u001b[0m\n",
            "\u001b[0;32m/usr/local/lib/python3.7/dist-packages/httpx/_client.py\u001b[0m in \u001b[0;36mpost\u001b[0;34m(self, url, data, files, json, params, headers, cookies, auth, allow_redirects, timeout)\u001b[0m\n\u001b[1;32m    833\u001b[0m             \u001b[0mauth\u001b[0m\u001b[0;34m=\u001b[0m\u001b[0mauth\u001b[0m\u001b[0;34m,\u001b[0m\u001b[0;34m\u001b[0m\u001b[0;34m\u001b[0m\u001b[0m\n\u001b[1;32m    834\u001b[0m             \u001b[0mallow_redirects\u001b[0m\u001b[0;34m=\u001b[0m\u001b[0mallow_redirects\u001b[0m\u001b[0;34m,\u001b[0m\u001b[0;34m\u001b[0m\u001b[0;34m\u001b[0m\u001b[0m\n\u001b[0;32m--> 835\u001b[0;31m             \u001b[0mtimeout\u001b[0m\u001b[0;34m=\u001b[0m\u001b[0mtimeout\u001b[0m\u001b[0;34m,\u001b[0m\u001b[0;34m\u001b[0m\u001b[0;34m\u001b[0m\u001b[0m\n\u001b[0m\u001b[1;32m    836\u001b[0m         )\n\u001b[1;32m    837\u001b[0m \u001b[0;34m\u001b[0m\u001b[0m\n",
            "\u001b[0;32m/usr/local/lib/python3.7/dist-packages/httpx/_client.py\u001b[0m in \u001b[0;36mrequest\u001b[0;34m(self, method, url, data, files, json, params, headers, cookies, auth, allow_redirects, timeout)\u001b[0m\n\u001b[1;32m    599\u001b[0m         )\n\u001b[1;32m    600\u001b[0m         return self.send(\n\u001b[0;32m--> 601\u001b[0;31m             \u001b[0mrequest\u001b[0m\u001b[0;34m,\u001b[0m \u001b[0mauth\u001b[0m\u001b[0;34m=\u001b[0m\u001b[0mauth\u001b[0m\u001b[0;34m,\u001b[0m \u001b[0mallow_redirects\u001b[0m\u001b[0;34m=\u001b[0m\u001b[0mallow_redirects\u001b[0m\u001b[0;34m,\u001b[0m \u001b[0mtimeout\u001b[0m\u001b[0;34m=\u001b[0m\u001b[0mtimeout\u001b[0m\u001b[0;34m,\u001b[0m\u001b[0;34m\u001b[0m\u001b[0;34m\u001b[0m\u001b[0m\n\u001b[0m\u001b[1;32m    602\u001b[0m         )\n\u001b[1;32m    603\u001b[0m \u001b[0;34m\u001b[0m\u001b[0m\n",
            "\u001b[0;32m/usr/local/lib/python3.7/dist-packages/httpx/_client.py\u001b[0m in \u001b[0;36msend\u001b[0;34m(self, request, stream, auth, allow_redirects, timeout)\u001b[0m\n\u001b[1;32m    619\u001b[0m \u001b[0;34m\u001b[0m\u001b[0m\n\u001b[1;32m    620\u001b[0m         response = self.send_handling_redirects(\n\u001b[0;32m--> 621\u001b[0;31m             \u001b[0mrequest\u001b[0m\u001b[0;34m,\u001b[0m \u001b[0mauth\u001b[0m\u001b[0;34m=\u001b[0m\u001b[0mauth\u001b[0m\u001b[0;34m,\u001b[0m \u001b[0mtimeout\u001b[0m\u001b[0;34m=\u001b[0m\u001b[0mtimeout\u001b[0m\u001b[0;34m,\u001b[0m \u001b[0mallow_redirects\u001b[0m\u001b[0;34m=\u001b[0m\u001b[0mallow_redirects\u001b[0m\u001b[0;34m,\u001b[0m\u001b[0;34m\u001b[0m\u001b[0;34m\u001b[0m\u001b[0m\n\u001b[0m\u001b[1;32m    622\u001b[0m         )\n\u001b[1;32m    623\u001b[0m \u001b[0;34m\u001b[0m\u001b[0m\n",
            "\u001b[0;32m/usr/local/lib/python3.7/dist-packages/httpx/_client.py\u001b[0m in \u001b[0;36msend_handling_redirects\u001b[0;34m(self, request, auth, timeout, allow_redirects, history)\u001b[0m\n\u001b[1;32m    646\u001b[0m \u001b[0;34m\u001b[0m\u001b[0m\n\u001b[1;32m    647\u001b[0m             response = self.send_handling_auth(\n\u001b[0;32m--> 648\u001b[0;31m                 \u001b[0mrequest\u001b[0m\u001b[0;34m,\u001b[0m \u001b[0mauth\u001b[0m\u001b[0;34m=\u001b[0m\u001b[0mauth\u001b[0m\u001b[0;34m,\u001b[0m \u001b[0mtimeout\u001b[0m\u001b[0;34m=\u001b[0m\u001b[0mtimeout\u001b[0m\u001b[0;34m,\u001b[0m \u001b[0mhistory\u001b[0m\u001b[0;34m=\u001b[0m\u001b[0mhistory\u001b[0m\u001b[0;34m\u001b[0m\u001b[0;34m\u001b[0m\u001b[0m\n\u001b[0m\u001b[1;32m    649\u001b[0m             )\n\u001b[1;32m    650\u001b[0m             \u001b[0mresponse\u001b[0m\u001b[0;34m.\u001b[0m\u001b[0mhistory\u001b[0m \u001b[0;34m=\u001b[0m \u001b[0mlist\u001b[0m\u001b[0;34m(\u001b[0m\u001b[0mhistory\u001b[0m\u001b[0;34m)\u001b[0m\u001b[0;34m\u001b[0m\u001b[0;34m\u001b[0m\u001b[0m\n",
            "\u001b[0;32m/usr/local/lib/python3.7/dist-packages/httpx/_client.py\u001b[0m in \u001b[0;36msend_handling_auth\u001b[0;34m(self, request, history, auth, timeout)\u001b[0m\n\u001b[1;32m    682\u001b[0m         \u001b[0mrequest\u001b[0m \u001b[0;34m=\u001b[0m \u001b[0mnext\u001b[0m\u001b[0;34m(\u001b[0m\u001b[0mauth_flow\u001b[0m\u001b[0;34m)\u001b[0m\u001b[0;34m\u001b[0m\u001b[0;34m\u001b[0m\u001b[0m\n\u001b[1;32m    683\u001b[0m         \u001b[0;32mwhile\u001b[0m \u001b[0;32mTrue\u001b[0m\u001b[0;34m:\u001b[0m\u001b[0;34m\u001b[0m\u001b[0;34m\u001b[0m\u001b[0m\n\u001b[0;32m--> 684\u001b[0;31m             \u001b[0mresponse\u001b[0m \u001b[0;34m=\u001b[0m \u001b[0mself\u001b[0m\u001b[0;34m.\u001b[0m\u001b[0msend_single_request\u001b[0m\u001b[0;34m(\u001b[0m\u001b[0mrequest\u001b[0m\u001b[0;34m,\u001b[0m \u001b[0mtimeout\u001b[0m\u001b[0;34m)\u001b[0m\u001b[0;34m\u001b[0m\u001b[0;34m\u001b[0m\u001b[0m\n\u001b[0m\u001b[1;32m    685\u001b[0m             \u001b[0;32mif\u001b[0m \u001b[0mauth\u001b[0m\u001b[0;34m.\u001b[0m\u001b[0mrequires_response_body\u001b[0m\u001b[0;34m:\u001b[0m\u001b[0;34m\u001b[0m\u001b[0;34m\u001b[0m\u001b[0m\n\u001b[1;32m    686\u001b[0m                 \u001b[0mresponse\u001b[0m\u001b[0;34m.\u001b[0m\u001b[0mread\u001b[0m\u001b[0;34m(\u001b[0m\u001b[0;34m)\u001b[0m\u001b[0;34m\u001b[0m\u001b[0;34m\u001b[0m\u001b[0m\n",
            "\u001b[0;32m/usr/local/lib/python3.7/dist-packages/httpx/_client.py\u001b[0m in \u001b[0;36msend_single_request\u001b[0;34m(self, request, timeout)\u001b[0m\n\u001b[1;32m    717\u001b[0m                 \u001b[0mheaders\u001b[0m\u001b[0;34m=\u001b[0m\u001b[0mrequest\u001b[0m\u001b[0;34m.\u001b[0m\u001b[0mheaders\u001b[0m\u001b[0;34m.\u001b[0m\u001b[0mraw\u001b[0m\u001b[0;34m,\u001b[0m\u001b[0;34m\u001b[0m\u001b[0;34m\u001b[0m\u001b[0m\n\u001b[1;32m    718\u001b[0m                 \u001b[0mstream\u001b[0m\u001b[0;34m=\u001b[0m\u001b[0mrequest\u001b[0m\u001b[0;34m.\u001b[0m\u001b[0mstream\u001b[0m\u001b[0;34m,\u001b[0m\u001b[0;34m\u001b[0m\u001b[0;34m\u001b[0m\u001b[0m\n\u001b[0;32m--> 719\u001b[0;31m                 \u001b[0mtimeout\u001b[0m\u001b[0;34m=\u001b[0m\u001b[0mtimeout\u001b[0m\u001b[0;34m.\u001b[0m\u001b[0mas_dict\u001b[0m\u001b[0;34m(\u001b[0m\u001b[0;34m)\u001b[0m\u001b[0;34m,\u001b[0m\u001b[0;34m\u001b[0m\u001b[0;34m\u001b[0m\u001b[0m\n\u001b[0m\u001b[1;32m    720\u001b[0m             )\n\u001b[1;32m    721\u001b[0m         \u001b[0;32mexcept\u001b[0m \u001b[0mHTTPError\u001b[0m \u001b[0;32mas\u001b[0m \u001b[0mexc\u001b[0m\u001b[0;34m:\u001b[0m\u001b[0;34m\u001b[0m\u001b[0;34m\u001b[0m\u001b[0m\n",
            "\u001b[0;32m/usr/local/lib/python3.7/dist-packages/httpcore/_sync/connection_pool.py\u001b[0m in \u001b[0;36mrequest\u001b[0;34m(self, method, url, headers, stream, timeout)\u001b[0m\n\u001b[1;32m    151\u001b[0m             \u001b[0;32mtry\u001b[0m\u001b[0;34m:\u001b[0m\u001b[0;34m\u001b[0m\u001b[0;34m\u001b[0m\u001b[0m\n\u001b[1;32m    152\u001b[0m                 response = connection.request(\n\u001b[0;32m--> 153\u001b[0;31m                     \u001b[0mmethod\u001b[0m\u001b[0;34m,\u001b[0m \u001b[0murl\u001b[0m\u001b[0;34m,\u001b[0m \u001b[0mheaders\u001b[0m\u001b[0;34m=\u001b[0m\u001b[0mheaders\u001b[0m\u001b[0;34m,\u001b[0m \u001b[0mstream\u001b[0m\u001b[0;34m=\u001b[0m\u001b[0mstream\u001b[0m\u001b[0;34m,\u001b[0m \u001b[0mtimeout\u001b[0m\u001b[0;34m=\u001b[0m\u001b[0mtimeout\u001b[0m\u001b[0;34m\u001b[0m\u001b[0;34m\u001b[0m\u001b[0m\n\u001b[0m\u001b[1;32m    154\u001b[0m                 )\n\u001b[1;32m    155\u001b[0m             \u001b[0;32mexcept\u001b[0m \u001b[0mNewConnectionRequired\u001b[0m\u001b[0;34m:\u001b[0m\u001b[0;34m\u001b[0m\u001b[0;34m\u001b[0m\u001b[0m\n",
            "\u001b[0;32m/usr/local/lib/python3.7/dist-packages/httpcore/_sync/connection.py\u001b[0m in \u001b[0;36mrequest\u001b[0;34m(self, method, url, headers, stream, timeout)\u001b[0m\n\u001b[1;32m     76\u001b[0m             \u001b[0;34m\"connection.request method=%r url=%r headers=%r\"\u001b[0m\u001b[0;34m,\u001b[0m \u001b[0mmethod\u001b[0m\u001b[0;34m,\u001b[0m \u001b[0murl\u001b[0m\u001b[0;34m,\u001b[0m \u001b[0mheaders\u001b[0m\u001b[0;34m\u001b[0m\u001b[0;34m\u001b[0m\u001b[0m\n\u001b[1;32m     77\u001b[0m         )\n\u001b[0;32m---> 78\u001b[0;31m         \u001b[0;32mreturn\u001b[0m \u001b[0mself\u001b[0m\u001b[0;34m.\u001b[0m\u001b[0mconnection\u001b[0m\u001b[0;34m.\u001b[0m\u001b[0mrequest\u001b[0m\u001b[0;34m(\u001b[0m\u001b[0mmethod\u001b[0m\u001b[0;34m,\u001b[0m \u001b[0murl\u001b[0m\u001b[0;34m,\u001b[0m \u001b[0mheaders\u001b[0m\u001b[0;34m,\u001b[0m \u001b[0mstream\u001b[0m\u001b[0;34m,\u001b[0m \u001b[0mtimeout\u001b[0m\u001b[0;34m)\u001b[0m\u001b[0;34m\u001b[0m\u001b[0;34m\u001b[0m\u001b[0m\n\u001b[0m\u001b[1;32m     79\u001b[0m \u001b[0;34m\u001b[0m\u001b[0m\n\u001b[1;32m     80\u001b[0m     \u001b[0;32mdef\u001b[0m \u001b[0m_open_socket\u001b[0m\u001b[0;34m(\u001b[0m\u001b[0mself\u001b[0m\u001b[0;34m,\u001b[0m \u001b[0mtimeout\u001b[0m\u001b[0;34m:\u001b[0m \u001b[0mTimeoutDict\u001b[0m \u001b[0;34m=\u001b[0m \u001b[0;32mNone\u001b[0m\u001b[0;34m)\u001b[0m \u001b[0;34m->\u001b[0m \u001b[0mSyncSocketStream\u001b[0m\u001b[0;34m:\u001b[0m\u001b[0;34m\u001b[0m\u001b[0;34m\u001b[0m\u001b[0m\n",
            "\u001b[0;32m/usr/local/lib/python3.7/dist-packages/httpcore/_sync/http2.py\u001b[0m in \u001b[0;36mrequest\u001b[0;34m(self, method, url, headers, stream, timeout)\u001b[0m\n\u001b[1;32m    116\u001b[0m             \u001b[0mself\u001b[0m\u001b[0;34m.\u001b[0m\u001b[0mstreams\u001b[0m\u001b[0;34m[\u001b[0m\u001b[0mstream_id\u001b[0m\u001b[0;34m]\u001b[0m \u001b[0;34m=\u001b[0m \u001b[0mh2_stream\u001b[0m\u001b[0;34m\u001b[0m\u001b[0;34m\u001b[0m\u001b[0m\n\u001b[1;32m    117\u001b[0m             \u001b[0mself\u001b[0m\u001b[0;34m.\u001b[0m\u001b[0mevents\u001b[0m\u001b[0;34m[\u001b[0m\u001b[0mstream_id\u001b[0m\u001b[0;34m]\u001b[0m \u001b[0;34m=\u001b[0m \u001b[0;34m[\u001b[0m\u001b[0;34m]\u001b[0m\u001b[0;34m\u001b[0m\u001b[0;34m\u001b[0m\u001b[0m\n\u001b[0;32m--> 118\u001b[0;31m             \u001b[0;32mreturn\u001b[0m \u001b[0mh2_stream\u001b[0m\u001b[0;34m.\u001b[0m\u001b[0mrequest\u001b[0m\u001b[0;34m(\u001b[0m\u001b[0mmethod\u001b[0m\u001b[0;34m,\u001b[0m \u001b[0murl\u001b[0m\u001b[0;34m,\u001b[0m \u001b[0mheaders\u001b[0m\u001b[0;34m,\u001b[0m \u001b[0mstream\u001b[0m\u001b[0;34m,\u001b[0m \u001b[0mtimeout\u001b[0m\u001b[0;34m)\u001b[0m\u001b[0;34m\u001b[0m\u001b[0;34m\u001b[0m\u001b[0m\n\u001b[0m\u001b[1;32m    119\u001b[0m         \u001b[0;32mexcept\u001b[0m \u001b[0mException\u001b[0m\u001b[0;34m:\u001b[0m\u001b[0;34m\u001b[0m\u001b[0;34m\u001b[0m\u001b[0m\n\u001b[1;32m    120\u001b[0m             \u001b[0mself\u001b[0m\u001b[0;34m.\u001b[0m\u001b[0mmax_streams_semaphore\u001b[0m\u001b[0;34m.\u001b[0m\u001b[0mrelease\u001b[0m\u001b[0;34m(\u001b[0m\u001b[0;34m)\u001b[0m\u001b[0;34m\u001b[0m\u001b[0;34m\u001b[0m\u001b[0m\n",
            "\u001b[0;32m/usr/local/lib/python3.7/dist-packages/httpcore/_sync/http2.py\u001b[0m in \u001b[0;36mrequest\u001b[0;34m(self, method, url, headers, stream, timeout)\u001b[0m\n\u001b[1;32m    290\u001b[0m \u001b[0;34m\u001b[0m\u001b[0m\n\u001b[1;32m    291\u001b[0m         \u001b[0;31m# Receive the response.\u001b[0m\u001b[0;34m\u001b[0m\u001b[0;34m\u001b[0m\u001b[0;34m\u001b[0m\u001b[0m\n\u001b[0;32m--> 292\u001b[0;31m         \u001b[0mstatus_code\u001b[0m\u001b[0;34m,\u001b[0m \u001b[0mheaders\u001b[0m \u001b[0;34m=\u001b[0m \u001b[0mself\u001b[0m\u001b[0;34m.\u001b[0m\u001b[0mreceive_response\u001b[0m\u001b[0;34m(\u001b[0m\u001b[0mtimeout\u001b[0m\u001b[0;34m)\u001b[0m\u001b[0;34m\u001b[0m\u001b[0;34m\u001b[0m\u001b[0m\n\u001b[0m\u001b[1;32m    293\u001b[0m         \u001b[0mreason_phrase\u001b[0m \u001b[0;34m=\u001b[0m \u001b[0mget_reason_phrase\u001b[0m\u001b[0;34m(\u001b[0m\u001b[0mstatus_code\u001b[0m\u001b[0;34m)\u001b[0m\u001b[0;34m\u001b[0m\u001b[0;34m\u001b[0m\u001b[0m\n\u001b[1;32m    294\u001b[0m         stream = SyncByteStream(\n",
            "\u001b[0;32m/usr/local/lib/python3.7/dist-packages/httpcore/_sync/http2.py\u001b[0m in \u001b[0;36mreceive_response\u001b[0;34m(self, timeout)\u001b[0m\n\u001b[1;32m    342\u001b[0m         \"\"\"\n\u001b[1;32m    343\u001b[0m         \u001b[0;32mwhile\u001b[0m \u001b[0;32mTrue\u001b[0m\u001b[0;34m:\u001b[0m\u001b[0;34m\u001b[0m\u001b[0;34m\u001b[0m\u001b[0m\n\u001b[0;32m--> 344\u001b[0;31m             \u001b[0mevent\u001b[0m \u001b[0;34m=\u001b[0m \u001b[0mself\u001b[0m\u001b[0;34m.\u001b[0m\u001b[0mconnection\u001b[0m\u001b[0;34m.\u001b[0m\u001b[0mwait_for_event\u001b[0m\u001b[0;34m(\u001b[0m\u001b[0mself\u001b[0m\u001b[0;34m.\u001b[0m\u001b[0mstream_id\u001b[0m\u001b[0;34m,\u001b[0m \u001b[0mtimeout\u001b[0m\u001b[0;34m)\u001b[0m\u001b[0;34m\u001b[0m\u001b[0;34m\u001b[0m\u001b[0m\n\u001b[0m\u001b[1;32m    345\u001b[0m             \u001b[0;32mif\u001b[0m \u001b[0misinstance\u001b[0m\u001b[0;34m(\u001b[0m\u001b[0mevent\u001b[0m\u001b[0;34m,\u001b[0m \u001b[0mh2\u001b[0m\u001b[0;34m.\u001b[0m\u001b[0mevents\u001b[0m\u001b[0;34m.\u001b[0m\u001b[0mResponseReceived\u001b[0m\u001b[0;34m)\u001b[0m\u001b[0;34m:\u001b[0m\u001b[0;34m\u001b[0m\u001b[0;34m\u001b[0m\u001b[0m\n\u001b[1;32m    346\u001b[0m                 \u001b[0;32mbreak\u001b[0m\u001b[0;34m\u001b[0m\u001b[0;34m\u001b[0m\u001b[0m\n",
            "\u001b[0;32m/usr/local/lib/python3.7/dist-packages/httpcore/_sync/http2.py\u001b[0m in \u001b[0;36mwait_for_event\u001b[0;34m(self, stream_id, timeout)\u001b[0m\n\u001b[1;32m    195\u001b[0m         \u001b[0;32mwith\u001b[0m \u001b[0mself\u001b[0m\u001b[0;34m.\u001b[0m\u001b[0mread_lock\u001b[0m\u001b[0;34m:\u001b[0m\u001b[0;34m\u001b[0m\u001b[0;34m\u001b[0m\u001b[0m\n\u001b[1;32m    196\u001b[0m             \u001b[0;32mwhile\u001b[0m \u001b[0;32mnot\u001b[0m \u001b[0mself\u001b[0m\u001b[0;34m.\u001b[0m\u001b[0mevents\u001b[0m\u001b[0;34m[\u001b[0m\u001b[0mstream_id\u001b[0m\u001b[0;34m]\u001b[0m\u001b[0;34m:\u001b[0m\u001b[0;34m\u001b[0m\u001b[0;34m\u001b[0m\u001b[0m\n\u001b[0;32m--> 197\u001b[0;31m                 \u001b[0mself\u001b[0m\u001b[0;34m.\u001b[0m\u001b[0mreceive_events\u001b[0m\u001b[0;34m(\u001b[0m\u001b[0mtimeout\u001b[0m\u001b[0;34m)\u001b[0m\u001b[0;34m\u001b[0m\u001b[0;34m\u001b[0m\u001b[0m\n\u001b[0m\u001b[1;32m    198\u001b[0m         \u001b[0;32mreturn\u001b[0m \u001b[0mself\u001b[0m\u001b[0;34m.\u001b[0m\u001b[0mevents\u001b[0m\u001b[0;34m[\u001b[0m\u001b[0mstream_id\u001b[0m\u001b[0;34m]\u001b[0m\u001b[0;34m.\u001b[0m\u001b[0mpop\u001b[0m\u001b[0;34m(\u001b[0m\u001b[0;36m0\u001b[0m\u001b[0;34m)\u001b[0m\u001b[0;34m\u001b[0m\u001b[0;34m\u001b[0m\u001b[0m\n\u001b[1;32m    199\u001b[0m \u001b[0;34m\u001b[0m\u001b[0m\n",
            "\u001b[0;32m/usr/local/lib/python3.7/dist-packages/httpcore/_sync/http2.py\u001b[0m in \u001b[0;36mreceive_events\u001b[0;34m(self, timeout)\u001b[0m\n\u001b[1;32m    202\u001b[0m         \u001b[0mRead\u001b[0m \u001b[0msome\u001b[0m \u001b[0mdata\u001b[0m \u001b[0;32mfrom\u001b[0m \u001b[0mthe\u001b[0m \u001b[0mnetwork\u001b[0m\u001b[0;34m,\u001b[0m \u001b[0;32mand\u001b[0m \u001b[0mupdate\u001b[0m \u001b[0mthe\u001b[0m \u001b[0mH2\u001b[0m \u001b[0mstate\u001b[0m\u001b[0;34m.\u001b[0m\u001b[0;34m\u001b[0m\u001b[0;34m\u001b[0m\u001b[0m\n\u001b[1;32m    203\u001b[0m         \"\"\"\n\u001b[0;32m--> 204\u001b[0;31m         \u001b[0mdata\u001b[0m \u001b[0;34m=\u001b[0m \u001b[0mself\u001b[0m\u001b[0;34m.\u001b[0m\u001b[0msocket\u001b[0m\u001b[0;34m.\u001b[0m\u001b[0mread\u001b[0m\u001b[0;34m(\u001b[0m\u001b[0mself\u001b[0m\u001b[0;34m.\u001b[0m\u001b[0mREAD_NUM_BYTES\u001b[0m\u001b[0;34m,\u001b[0m \u001b[0mtimeout\u001b[0m\u001b[0;34m)\u001b[0m\u001b[0;34m\u001b[0m\u001b[0;34m\u001b[0m\u001b[0m\n\u001b[0m\u001b[1;32m    205\u001b[0m         \u001b[0mevents\u001b[0m \u001b[0;34m=\u001b[0m \u001b[0mself\u001b[0m\u001b[0;34m.\u001b[0m\u001b[0mh2_state\u001b[0m\u001b[0;34m.\u001b[0m\u001b[0mreceive_data\u001b[0m\u001b[0;34m(\u001b[0m\u001b[0mdata\u001b[0m\u001b[0;34m)\u001b[0m\u001b[0;34m\u001b[0m\u001b[0;34m\u001b[0m\u001b[0m\n\u001b[1;32m    206\u001b[0m         \u001b[0;32mfor\u001b[0m \u001b[0mevent\u001b[0m \u001b[0;32min\u001b[0m \u001b[0mevents\u001b[0m\u001b[0;34m:\u001b[0m\u001b[0;34m\u001b[0m\u001b[0;34m\u001b[0m\u001b[0m\n",
            "\u001b[0;32m/usr/local/lib/python3.7/dist-packages/httpcore/_backends/sync.py\u001b[0m in \u001b[0;36mread\u001b[0;34m(self, n, timeout)\u001b[0m\n\u001b[1;32m     60\u001b[0m             \u001b[0;32mwith\u001b[0m \u001b[0mmap_exceptions\u001b[0m\u001b[0;34m(\u001b[0m\u001b[0mexc_map\u001b[0m\u001b[0;34m)\u001b[0m\u001b[0;34m:\u001b[0m\u001b[0;34m\u001b[0m\u001b[0;34m\u001b[0m\u001b[0m\n\u001b[1;32m     61\u001b[0m                 \u001b[0mself\u001b[0m\u001b[0;34m.\u001b[0m\u001b[0msock\u001b[0m\u001b[0;34m.\u001b[0m\u001b[0msettimeout\u001b[0m\u001b[0;34m(\u001b[0m\u001b[0mread_timeout\u001b[0m\u001b[0;34m)\u001b[0m\u001b[0;34m\u001b[0m\u001b[0;34m\u001b[0m\u001b[0m\n\u001b[0;32m---> 62\u001b[0;31m                 \u001b[0;32mreturn\u001b[0m \u001b[0mself\u001b[0m\u001b[0;34m.\u001b[0m\u001b[0msock\u001b[0m\u001b[0;34m.\u001b[0m\u001b[0mrecv\u001b[0m\u001b[0;34m(\u001b[0m\u001b[0mn\u001b[0m\u001b[0;34m)\u001b[0m\u001b[0;34m\u001b[0m\u001b[0;34m\u001b[0m\u001b[0m\n\u001b[0m\u001b[1;32m     63\u001b[0m \u001b[0;34m\u001b[0m\u001b[0m\n\u001b[1;32m     64\u001b[0m     \u001b[0;32mdef\u001b[0m \u001b[0mwrite\u001b[0m\u001b[0;34m(\u001b[0m\u001b[0mself\u001b[0m\u001b[0;34m,\u001b[0m \u001b[0mdata\u001b[0m\u001b[0;34m:\u001b[0m \u001b[0mbytes\u001b[0m\u001b[0;34m,\u001b[0m \u001b[0mtimeout\u001b[0m\u001b[0;34m:\u001b[0m \u001b[0mTimeoutDict\u001b[0m\u001b[0;34m)\u001b[0m \u001b[0;34m->\u001b[0m \u001b[0;32mNone\u001b[0m\u001b[0;34m:\u001b[0m\u001b[0;34m\u001b[0m\u001b[0;34m\u001b[0m\u001b[0m\n",
            "\u001b[0;32m/usr/lib/python3.7/ssl.py\u001b[0m in \u001b[0;36mrecv\u001b[0;34m(self, buflen, flags)\u001b[0m\n\u001b[1;32m   1054\u001b[0m                     \u001b[0;34m\"non-zero flags not allowed in calls to recv() on %s\"\u001b[0m \u001b[0;34m%\u001b[0m\u001b[0;34m\u001b[0m\u001b[0;34m\u001b[0m\u001b[0m\n\u001b[1;32m   1055\u001b[0m                     self.__class__)\n\u001b[0;32m-> 1056\u001b[0;31m             \u001b[0;32mreturn\u001b[0m \u001b[0mself\u001b[0m\u001b[0;34m.\u001b[0m\u001b[0mread\u001b[0m\u001b[0;34m(\u001b[0m\u001b[0mbuflen\u001b[0m\u001b[0;34m)\u001b[0m\u001b[0;34m\u001b[0m\u001b[0;34m\u001b[0m\u001b[0m\n\u001b[0m\u001b[1;32m   1057\u001b[0m         \u001b[0;32melse\u001b[0m\u001b[0;34m:\u001b[0m\u001b[0;34m\u001b[0m\u001b[0;34m\u001b[0m\u001b[0m\n\u001b[1;32m   1058\u001b[0m             \u001b[0;32mreturn\u001b[0m \u001b[0msuper\u001b[0m\u001b[0;34m(\u001b[0m\u001b[0;34m)\u001b[0m\u001b[0;34m.\u001b[0m\u001b[0mrecv\u001b[0m\u001b[0;34m(\u001b[0m\u001b[0mbuflen\u001b[0m\u001b[0;34m,\u001b[0m \u001b[0mflags\u001b[0m\u001b[0;34m)\u001b[0m\u001b[0;34m\u001b[0m\u001b[0;34m\u001b[0m\u001b[0m\n",
            "\u001b[0;32m/usr/lib/python3.7/ssl.py\u001b[0m in \u001b[0;36mread\u001b[0;34m(self, len, buffer)\u001b[0m\n\u001b[1;32m    929\u001b[0m                 \u001b[0;32mreturn\u001b[0m \u001b[0mself\u001b[0m\u001b[0;34m.\u001b[0m\u001b[0m_sslobj\u001b[0m\u001b[0;34m.\u001b[0m\u001b[0mread\u001b[0m\u001b[0;34m(\u001b[0m\u001b[0mlen\u001b[0m\u001b[0;34m,\u001b[0m \u001b[0mbuffer\u001b[0m\u001b[0;34m)\u001b[0m\u001b[0;34m\u001b[0m\u001b[0;34m\u001b[0m\u001b[0m\n\u001b[1;32m    930\u001b[0m             \u001b[0;32melse\u001b[0m\u001b[0;34m:\u001b[0m\u001b[0;34m\u001b[0m\u001b[0;34m\u001b[0m\u001b[0m\n\u001b[0;32m--> 931\u001b[0;31m                 \u001b[0;32mreturn\u001b[0m \u001b[0mself\u001b[0m\u001b[0;34m.\u001b[0m\u001b[0m_sslobj\u001b[0m\u001b[0;34m.\u001b[0m\u001b[0mread\u001b[0m\u001b[0;34m(\u001b[0m\u001b[0mlen\u001b[0m\u001b[0;34m)\u001b[0m\u001b[0;34m\u001b[0m\u001b[0;34m\u001b[0m\u001b[0m\n\u001b[0m\u001b[1;32m    932\u001b[0m         \u001b[0;32mexcept\u001b[0m \u001b[0mSSLError\u001b[0m \u001b[0;32mas\u001b[0m \u001b[0mx\u001b[0m\u001b[0;34m:\u001b[0m\u001b[0;34m\u001b[0m\u001b[0;34m\u001b[0m\u001b[0m\n\u001b[1;32m    933\u001b[0m             \u001b[0;32mif\u001b[0m \u001b[0mx\u001b[0m\u001b[0;34m.\u001b[0m\u001b[0margs\u001b[0m\u001b[0;34m[\u001b[0m\u001b[0;36m0\u001b[0m\u001b[0;34m]\u001b[0m \u001b[0;34m==\u001b[0m \u001b[0mSSL_ERROR_EOF\u001b[0m \u001b[0;32mand\u001b[0m \u001b[0mself\u001b[0m\u001b[0;34m.\u001b[0m\u001b[0msuppress_ragged_eofs\u001b[0m\u001b[0;34m:\u001b[0m\u001b[0;34m\u001b[0m\u001b[0;34m\u001b[0m\u001b[0m\n",
            "\u001b[0;31mKeyboardInterrupt\u001b[0m: "
          ]
        }
      ]
    },
    {
      "cell_type": "code",
      "metadata": {
        "id": "xXwtGcCTPC1U"
      },
      "source": [
        "DF.to_csv(f'/content/drive/MyDrive/han/csv/new/final_latinbtsarmy_nohashtag.csv', encoding = 'utf-8-sig',\n",
        "                index_label = False, index = False)"
      ],
      "execution_count": null,
      "outputs": []
    },
    {
      "cell_type": "markdown",
      "metadata": {
        "id": "l4-8xkrwPc8-"
      },
      "source": [
        "# Lemmatization, Tokenizing, and Pos Tagging"
      ]
    },
    {
      "cell_type": "code",
      "metadata": {
        "id": "ANUgYzWmPhqo"
      },
      "source": [
        "## Lemmatization, preprocessing, and POS tagging\n",
        "\n",
        "POS = ['NN','NNP'] # 일반명사, 고유명사\n",
        "                         #https://www.geeksforgeeks.org/python-part-of-speech-tagging-using-textblob/\n",
        "                           \n",
        "stop_words = stopwords.words('english')\n",
        "stops = ['co', 'http', 'https', 'percent', 'time', 'group', 'rate', 'place', 'number', 'thing', 'dollar', 'decade', 'area', 'point', 'example', 'said', 'line', 'step', 'side', 'year']\n",
        "stop_words.extend(stops)\n",
        "stop_words = set(stop_words) # 추가된 불용어에서 중복 제거\n",
        "\n",
        "def TB_lemmatization(texts):\n",
        "    # 위에서 트윗 전처리 단계와 동일\n",
        "    lemma_all = [] # 전체 lemmatization된 결과 저장하는 변수\n",
        "    words = [] # 개별 lemmatization된 결과 저장하는 변수(이후 위와 동일하게 빈 공간 처리)\n",
        "    for doc in texts:\n",
        "        doc = \" \".join([Word(word).lemmatize(\"n\") for word in doc.split()]) # Word: Textblob에서 Wordnet 함수를 활용하여 전처리하기 위한 펑션 / lemmatize(\"n\") Word() 안에 들어가는 단어가 명사일 경우 lemmatize 처리\n",
        "        doc = TextBlob(doc)                                                  # NLTK, Wordnet을 기반으로 하여 텍스트 처리를 수월하게 할 수 있도록 다양한 기능을 많이 포함\n",
        "\n",
        "        for word, tag in doc.tags:\n",
        "            if(len(word) < 4 or word.lower() in stop_words): # manually 추가한 stopword는 소문자이기 때문에 .lower()를 통해 소문자 처리한 단어를 검사할 수 있도록 지정\n",
        "                continue\n",
        "            if tag in POS:\n",
        "                words.append(word)\n",
        "        \n",
        "        words = \" \".join(words).lower() # POS에 해당하는 단어들을 소문자처리하여 \" \" 단위로 묶음\n",
        "        lemma_all.append(words)\n",
        "        words = []  \n",
        "\n",
        "    return lemma_all\n",
        "\n",
        "\n",
        "CONTENT_PREP = TB_lemmatization(DF['translated_content'])"
      ],
      "execution_count": null,
      "outputs": []
    },
    {
      "cell_type": "code",
      "metadata": {
        "colab": {
          "base_uri": "https://localhost:8080/",
          "height": 35
        },
        "id": "pbspYDSvQAP7",
        "outputId": "32c0c9d1-eca5-45e9-af8d-27e1cf24ba80"
      },
      "source": [
        "CONTENT_PREP[0]"
      ],
      "execution_count": null,
      "outputs": [
        {
          "output_type": "execute_result",
          "data": {
            "application/vnd.google.colaboratory.intrinsic+json": {
              "type": "string"
            },
            "text/plain": [
              "'case anyone playlist latinbtsarmy lifegoeson bts_dynamite bts_be latin flavor😘 bts_twt btsgrammy btsgrammynomeation //t.co/8qvuviylve'"
            ]
          },
          "metadata": {},
          "execution_count": 69
        }
      ]
    },
    {
      "cell_type": "code",
      "metadata": {
        "colab": {
          "base_uri": "https://localhost:8080/",
          "height": 1000
        },
        "id": "HITwmjDNQEvZ",
        "outputId": "75acddd3-689a-4d03-e927-21cf17eeb123"
      },
      "source": [
        "DF['Allwords'] = CONTENT_PREP\n",
        "\n",
        "DF.head()"
      ],
      "execution_count": null,
      "outputs": [
        {
          "output_type": "execute_result",
          "data": {
            "text/html": [
              "<div>\n",
              "<style scoped>\n",
              "    .dataframe tbody tr th:only-of-type {\n",
              "        vertical-align: middle;\n",
              "    }\n",
              "\n",
              "    .dataframe tbody tr th {\n",
              "        vertical-align: top;\n",
              "    }\n",
              "\n",
              "    .dataframe thead th {\n",
              "        text-align: right;\n",
              "    }\n",
              "</style>\n",
              "<table border=\"1\" class=\"dataframe\">\n",
              "  <thead>\n",
              "    <tr style=\"text-align: right;\">\n",
              "      <th></th>\n",
              "      <th>Unnamed: 0</th>\n",
              "      <th>url</th>\n",
              "      <th>date</th>\n",
              "      <th>content</th>\n",
              "      <th>user</th>\n",
              "      <th>likeCount</th>\n",
              "      <th>lang</th>\n",
              "      <th>hashtags</th>\n",
              "      <th>translated_content</th>\n",
              "      <th>Allwords</th>\n",
              "    </tr>\n",
              "  </thead>\n",
              "  <tbody>\n",
              "    <tr>\n",
              "      <th>0</th>\n",
              "      <td>0</td>\n",
              "      <td>https://twitter.com/Ezzy_658/status/1331427915586695171</td>\n",
              "      <td>2020-11-25 02:42:06+00:00</td>\n",
              "      <td>In case anyone is looking for a new playlist...this is mainly for my #LatinBTSARMY It is focused on #LifeGoesOn , #BTS_Dynamite and #BTS_BE with some Latin flavor😘 \\n\\n@BTS_twt #BTSGrammy #BTSGrammyNomination \\n\\n https://t.co/8qvuVIylve</td>\n",
              "      <td>{'_type': 'snscrape.modules.twitter.User', 'username': 'Ezzy_658', 'id': 1221463452247449600, 'displayname': '💜⟭⟬ Esmeralda 🐋 ⟭⟬💜', 'description': 'Love OT7 but NamJinKook biased, although Wednesdays are still dedicated to Namjoon! Ravenclaw at 💜 Fan Account 🔞', 'rawDescription': 'Love OT7 but NamJinKook biased, although Wednesdays are still dedicated to Namjoon! Ravenclaw at 💜 Fan Account 🔞', 'descriptionUrls': None, 'verified': False, 'created': '2020-01-26T16:02:47+00:00', 'followersCount': 363, 'friendsCount': 334, 'statusesCount': 9365, 'favouritesCount': 42117, 'listedCount': 6, 'mediaCount': 3143, 'location': '', 'protected': False, 'linkUrl': None, 'linkTcourl': None, 'profileImageUrl': 'https://pbs.twimg.com/profile_images/1414300632979107844/weXDDl_F_normal.jpg', 'profileBannerUrl': 'https://pbs.twimg.com/profile_banners/1221463452247449600/1624852841', 'url': 'https://twitter.com/Ezzy_658'}</td>\n",
              "      <td>3</td>\n",
              "      <td>en</td>\n",
              "      <td>['LatinBTSARMY', 'LifeGoesOn', 'BTS_Dynamite', 'BTS_BE', 'BTSGrammy', 'BTSGrammyNomination']</td>\n",
              "      <td>In case anyone is looking for a new playlist ... This is mainly for my #latinbtsarmy it is focused on #Lifegoeson, #BTS_DYNAMITE AND #BTS_BE WITH SOME LATIN FLAVOR😘\\n\\n@BTS_TWT #BTSGRAMMY #BTSGRAMMYNOMEATION.\\n\\n https://t.co/8qvuviylve.</td>\n",
              "      <td>case anyone playlist latinbtsarmy lifegoeson bts_dynamite bts_be latin flavor😘 bts_twt btsgrammy btsgrammynomeation //t.co/8qvuviylve</td>\n",
              "    </tr>\n",
              "    <tr>\n",
              "      <th>1</th>\n",
              "      <td>1</td>\n",
              "      <td>https://twitter.com/Dopaminergiica/status/1306422446824861701</td>\n",
              "      <td>2020-09-17 02:39:18+00:00</td>\n",
              "      <td>OK MAYBE IT'S SO LATE TO ASK THIS BUT PLEASEEE PLEASEEEE CONSIDER A REGGEATON SONG. PRETTY PLEASE🥺💜? @BTS_twt or a Reggeaton collab? #LatinxHeritageMonth #LatinBTSARMY #BTSARMY</td>\n",
              "      <td>{'_type': 'snscrape.modules.twitter.User', 'username': 'Dopaminergiica', 'id': 445169253, 'displayname': '⟬⟭🧜\\u200d♀️G-Mermaidᴮᴱ⁷⟭⟬_\\U0001f9c8👅', 'description': \"🌌🧜🏻\\u200d♀️🔞🌗♋ \\n💜 BTS ARMY ⟬⟭ \\n-92'😼 \\n-Researcher👩\\u200d⚕️💉🏨\\n-Fan Account of BTS/TXT🎵\\n-🐿🐹🐰biased \\n-🐱🐥🐻🐨wrecked\\n-Borahae Crew🎀 -잠시 🤠\", 'rawDescription': \"🌌🧜🏻\\u200d♀️🔞🌗♋ \\n💜 BTS ARMY ⟬⟭ \\n-92'😼 \\n-Researcher👩\\u200d⚕️💉🏨\\n-Fan Account of BTS/TXT🎵\\n-🐿🐹🐰biased \\n-🐱🐥🐻🐨wrecked\\n-Borahae Crew🎀 -잠시 🤠\", 'descriptionUrls': None, 'verified': False, 'created': '2011-12-24T03:04:19+00:00', 'followersCount': 2968, 'friendsCount': 5000, 'statusesCount': 102042, 'favouritesCount': 182593, 'listedCount': 13, 'mediaCount': 15916, 'location': 'Texas, USA', 'protected': False, 'linkUrl': None, 'linkTcourl': None, 'profileImageUrl': 'https://pbs.twimg.com/profile_images/1429670240955293705/10whAJwK_normal.jpg', 'profileBannerUrl': 'https://pbs.twimg.com/profile_banners/445169253/1629694922', 'url': 'https://twitter.com/Dopaminergiica'}</td>\n",
              "      <td>4</td>\n",
              "      <td>en</td>\n",
              "      <td>['LatinxHeritageMonth', 'LatinBTSARMY', 'BTSARMY']</td>\n",
              "      <td>OK MAYBE IT's SO LATE TO ASK THIS BUT PLEASEEE PLEASEEE CONSIDELS REGGEATON SONG.Pretty please🥺💜?@BTS_TWT OR A Reggeaton Collab?#LATINXHERITAGEMONTH #LATINBTSARMY #BTSARMY.</td>\n",
              "      <td>maybe pleaseee pleaseee considels reggeaton song.pretty please🥺💜 bts_twt reggeaton collab latinxheritagemonth latinbtsarmy btsarmy</td>\n",
              "    </tr>\n",
              "    <tr>\n",
              "      <th>2</th>\n",
              "      <td>2</td>\n",
              "      <td>https://twitter.com/Dopaminergiica/status/1305630670853738499</td>\n",
              "      <td>2020-09-14 22:13:04+00:00</td>\n",
              "      <td>Mañana es el día de la Independencia de México y por suerte/destino, no trabajo. Haré un streaming party con música mexicana + #BTS_DYNAMITE  \\nAlguna sugerencia de que debería incluir? #BTSARMY #BTSMexico #LatinBTSARMY</td>\n",
              "      <td>{'_type': 'snscrape.modules.twitter.User', 'username': 'Dopaminergiica', 'id': 445169253, 'displayname': '⟬⟭🧜\\u200d♀️G-Mermaidᴮᴱ⁷⟭⟬_\\U0001f9c8👅', 'description': \"🌌🧜🏻\\u200d♀️🔞🌗♋ \\n💜 BTS ARMY ⟬⟭ \\n-92'😼 \\n-Researcher👩\\u200d⚕️💉🏨\\n-Fan Account of BTS/TXT🎵\\n-🐿🐹🐰biased \\n-🐱🐥🐻🐨wrecked\\n-Borahae Crew🎀 -잠시 🤠\", 'rawDescription': \"🌌🧜🏻\\u200d♀️🔞🌗♋ \\n💜 BTS ARMY ⟬⟭ \\n-92'😼 \\n-Researcher👩\\u200d⚕️💉🏨\\n-Fan Account of BTS/TXT🎵\\n-🐿🐹🐰biased \\n-🐱🐥🐻🐨wrecked\\n-Borahae Crew🎀 -잠시 🤠\", 'descriptionUrls': None, 'verified': False, 'created': '2011-12-24T03:04:19+00:00', 'followersCount': 2968, 'friendsCount': 5000, 'statusesCount': 102042, 'favouritesCount': 182593, 'listedCount': 13, 'mediaCount': 15916, 'location': 'Texas, USA', 'protected': False, 'linkUrl': None, 'linkTcourl': None, 'profileImageUrl': 'https://pbs.twimg.com/profile_images/1429670240955293705/10whAJwK_normal.jpg', 'profileBannerUrl': 'https://pbs.twimg.com/profile_banners/445169253/1629694922', 'url': 'https://twitter.com/Dopaminergiica'}</td>\n",
              "      <td>3</td>\n",
              "      <td>es</td>\n",
              "      <td>['BTS_DYNAMITE', 'BTSARMY', 'BTSMexico', 'LatinBTSARMY']</td>\n",
              "      <td>Tomorrow is the day of Mexico independence and luckily / destination, I do not work.I will do a streaming party with Mexican music + #BTS_DYNAMITE\\nAny suggestion that you should include?#BTSARMY #BTSMEXICO #LATINBTSARMY.</td>\n",
              "      <td>tomorrow mexico independence destination party music bts_dynamite suggestion btsarmy btsmexico latinbtsarmy</td>\n",
              "    </tr>\n",
              "    <tr>\n",
              "      <th>3</th>\n",
              "      <td>3</td>\n",
              "      <td>https://twitter.com/AdorKabLe_Me2/status/968580388472999936</td>\n",
              "      <td>2018-02-27 20:15:34+00:00</td>\n",
              "      <td>When you wanna tweet about \\n#dominicanindependenceday \\nBut you also wanna keep the votes up for @BTS_twt \\n😂😂😂❤❤❤\\n¿Considerando mi armys dominicano? \\n#LATINBTSARMY 🌼🇩🇴🌼\\n\\n🌹💖💝 #BTSARMY #BestFanArmy #iHeartAwards\\n@BTS_twt 💕\\n\\n*hugs* https://t.co/u7Ag9ialRy</td>\n",
              "      <td>{'_type': 'snscrape.modules.twitter.User', 'username': 'AdorKabLe_Me2', 'id': 83841071, 'displayname': '*THE NOSEY (nice) MULTI*🥳🔥🔥', 'description': \"𖧵×𖧵 ⁷MultiStan University\\nへ(._へ)sᴋʀskrrr \\n☆𝐍𝐚𝐦𝐣𝐨𝐨𝐧: 𝕀 𝕒𝕞 𝕒 𝕓𝕝𝕒𝕔𝕜 𝕞𝕒𝕟★\\n#BLM\\nFelix's mum❤🥺\\n#skzSTAY #YOONGICULT\\n20+ \\nproud afrolatina🇩🇴🥰\", 'rawDescription': \"𖧵×𖧵 ⁷MultiStan University\\nへ(._へ)sᴋʀskrrr \\n☆𝐍𝐚𝐦𝐣𝐨𝐨𝐧: 𝕀 𝕒𝕞 𝕒 𝕓𝕝𝕒𝕔𝕜 𝕞𝕒𝕟★\\n#BLM\\nFelix's mum❤🥺\\n#skzSTAY #YOONGICULT\\n20+ \\nproud afrolatina🇩🇴🥰\", 'descriptionUrls': None, 'verified': False, 'created': '2009-10-20T13:14:18+00:00', 'followersCount': 3037, 'friendsCount': 3782, 'statusesCount': 32372, 'favouritesCount': 50875, 'listedCount': 11, 'mediaCount': 1778, 'location': \"Markjin's child💚\", 'protected': False, 'linkUrl': 'https://kpopshop.com?sca_ref=554051.dg61NXHGwN', 'linkTcourl': 'https://t.co/8N3Z9LgueP', 'profileImageUrl': 'https://pbs.twimg.com/profile_images/1384199949231878154/5Co_wVRs_normal.jpg', 'profileBannerUrl': 'https://pbs.twimg.com/profile_banners/83841071/1618853959', 'url': 'https://twitter.com/AdorKabLe_Me2'}</td>\n",
              "      <td>0</td>\n",
              "      <td>en</td>\n",
              "      <td>['dominicanindependenceday', 'LATINBTSARMY', 'BTSARMY', 'BestFanArmy', 'iHeartAwards']</td>\n",
              "      <td>WHEN YOU WANNA TWEET About\\n#Dominicanindependenceteday.\\nBut You Also Wanna Keep The Votes Up for @bts_twt\\n😂😂😂❤❤❤\\nConsidering my Dominican Arms?\\n#LATINBTSARMY 🌼🇩🇴🌼.\\n\\n🌹💖💝 #BTSARMY #BestFanarmy #iHeartaWards\\n@BTS_TWT 💕.\\n\\n* HUGS * https://t.co/u7ag9ialry</td>\n",
              "      <td>tweet dominicanindependenceteday votes bts_twt 😂😂😂❤❤❤ considering latinbtsarmy 🌼🇩🇴🌼 btsarmy bestfanarmy bts_twt hugs //t.co/u7ag9ialry</td>\n",
              "    </tr>\n",
              "  </tbody>\n",
              "</table>\n",
              "</div>"
            ],
            "text/plain": [
              "   Unnamed: 0  ...                                                                                                                                Allwords\n",
              "0  0           ...  case anyone playlist latinbtsarmy lifegoeson bts_dynamite bts_be latin flavor😘 bts_twt btsgrammy btsgrammynomeation //t.co/8qvuviylve \n",
              "1  1           ...  maybe pleaseee pleaseee considels reggeaton song.pretty please🥺💜 bts_twt reggeaton collab latinxheritagemonth latinbtsarmy btsarmy    \n",
              "2  2           ...  tomorrow mexico independence destination party music bts_dynamite suggestion btsarmy btsmexico latinbtsarmy                           \n",
              "3  3           ...  tweet dominicanindependenceteday votes bts_twt 😂😂😂❤❤❤ considering latinbtsarmy 🌼🇩🇴🌼 btsarmy bestfanarmy bts_twt hugs //t.co/u7ag9ialry\n",
              "\n",
              "[4 rows x 10 columns]"
            ]
          },
          "metadata": {},
          "execution_count": 70
        }
      ]
    },
    {
      "cell_type": "code",
      "metadata": {
        "id": "NQtVtoakQsb6"
      },
      "source": [
        "DF.to_csv(f'/content/drive/MyDrive/han/csv/new/final_latinbtsarmy_nohashtag.csv', encoding = 'utf-8-sig',\n",
        "                index_label = False, index = False)"
      ],
      "execution_count": null,
      "outputs": []
    },
    {
      "cell_type": "markdown",
      "metadata": {
        "id": "6FpzDL_0QVjR"
      },
      "source": [
        "#**LDA 키워드 분석**"
      ]
    },
    {
      "cell_type": "code",
      "metadata": {
        "colab": {
          "base_uri": "https://localhost:8080/"
        },
        "id": "aCys9_FKQYnv",
        "outputId": "68234bdb-9b9c-4067-c179-317b5f6b7752"
      },
      "source": [
        "## Word-count\n",
        "\n",
        "vec = CountVectorizer().fit(CONTENT_PREP) # 전처리된 기사를 구성하는 단어들을 딕셔너리 형태로 구현\n",
        "bow = vec.transform(CONTENT_PREP) # 전처리된 기사-키워드를 DTM 형태로 변환\n",
        "\n",
        "sum_words = bow.sum(axis=0)\n",
        "sum_words.shape[1] # 전체 키워드 갯수"
      ],
      "execution_count": null,
      "outputs": [
        {
          "output_type": "execute_result",
          "data": {
            "text/plain": [
              "39"
            ]
          },
          "metadata": {},
          "execution_count": 72
        }
      ]
    },
    {
      "cell_type": "code",
      "metadata": {
        "colab": {
          "base_uri": "https://localhost:8080/"
        },
        "id": "iCaPkvDYQaSI",
        "outputId": "437301ab-06e2-4e6a-d892-1ee5323cd0d4"
      },
      "source": [
        "words_freq = [(word, sum_words[0, idx]) for word, idx in vec.vocabulary_.items()] # vec.vocabulary_.items() 은 전체 딕셔너리를 (word, idx)의 튜플 형태로 제시하는데\n",
        "                                                                                  # sum_words[0, idx]): word와 짝인 idx 순서를 sum_words에서 인덱싱한 값(=idx번째 단어의 빈도)을 word와 다시 매칭\n",
        "words_freq = sorted(words_freq, key = lambda x: x[1], reverse=True) # sorted 함수의 기준을 key 값에 입력하는데 lambda x: x[1] (단어, 빈도의 튜플 형태이므로 0일 경우 단어 순서 1이면 단어 빈도 기준) reverse=True 내림차순\n",
        "\n",
        "for word, freq in words_freq[0:100]:\n",
        "    print(word, freq)\n",
        "\n",
        "## 빈도를 확인하면서 자주 나오는 키워드 중 불용어 처리가 필요한 것은 위의 불용어 처리 과정에서 추가하는 방식으로 제거하면 됨\n",
        "## 그러나 빈도순에서는 확인되지 않는 키워드나 특정 주제(특정 언어로 이뤄진 기사나 트윗, 동음이의어로 수집되는 자료 등) 중에서 토픽모델링 단계에서 과대대표되는 경향이 있으므로 manually 하게 기사나 트윗을 확인하면서 제거하는 것 필요\n",
        "## (여기서는 해당 작업 거치지 않음)"
      ],
      "execution_count": null,
      "outputs": [
        {
          "output_type": "stream",
          "text": [
            "latinbtsarmy 4\n",
            "bts_twt 4\n",
            "btsarmy 3\n",
            "bts_dynamite 2\n",
            "co 2\n",
            "pleaseee 2\n",
            "reggeaton 2\n",
            "case 1\n",
            "anyone 1\n",
            "playlist 1\n",
            "lifegoeson 1\n",
            "bts_be 1\n",
            "latin 1\n",
            "flavor 1\n",
            "btsgrammy 1\n",
            "btsgrammynomeation 1\n",
            "8qvuviylve 1\n",
            "maybe 1\n",
            "considels 1\n",
            "song 1\n",
            "pretty 1\n",
            "please 1\n",
            "collab 1\n",
            "latinxheritagemonth 1\n",
            "tomorrow 1\n",
            "mexico 1\n",
            "independence 1\n",
            "destination 1\n",
            "party 1\n",
            "music 1\n",
            "suggestion 1\n",
            "btsmexico 1\n",
            "tweet 1\n",
            "dominicanindependenceteday 1\n",
            "votes 1\n",
            "considering 1\n",
            "bestfanarmy 1\n",
            "hugs 1\n",
            "u7ag9ialry 1\n"
          ],
          "name": "stdout"
        }
      ]
    },
    {
      "cell_type": "code",
      "metadata": {
        "colab": {
          "base_uri": "https://localhost:8080/"
        },
        "id": "xVAVI1V7QdA0",
        "outputId": "095ada64-75bc-49af-c19d-fd01cc0a3af6"
      },
      "source": [
        "import pandas as pd\n",
        "import re\n",
        "import numpy as np\n",
        "import tomotopy as tp\n",
        "import collections\n",
        "\n",
        "import gensim\n",
        "import pyLDAvis\n",
        "\n",
        "import matplotlib.pyplot as plt\n",
        "import matplotlib.colors as clr\n",
        "import matplotlib.font_manager as fm\n",
        "\n",
        "%matplotlib inline\n",
        "pd.set_option('display.max_colwidth', -1)"
      ],
      "execution_count": null,
      "outputs": [
        {
          "output_type": "stream",
          "text": [
            "/usr/local/lib/python3.7/dist-packages/ipykernel_launcher.py:15: FutureWarning: Passing a negative integer is deprecated in version 1.0 and will not be supported in future version. Instead, use None to not limit the column width.\n",
            "  from ipykernel import kernelapp as app\n"
          ],
          "name": "stderr"
        }
      ]
    },
    {
      "cell_type": "code",
      "metadata": {
        "colab": {
          "base_uri": "https://localhost:8080/",
          "height": 1000
        },
        "id": "hEwCRwPeQfpn",
        "outputId": "7d6182c8-9e66-4afa-bb86-921a8cfe2144"
      },
      "source": [
        "DF = pd.read_csv('/content/drive/MyDrive/han/csv/new/final_latinbtsarmy_nohashtag.csv', encoding='utf-8')\n",
        "\n",
        "DF.head()"
      ],
      "execution_count": null,
      "outputs": [
        {
          "output_type": "execute_result",
          "data": {
            "text/html": [
              "<div>\n",
              "<style scoped>\n",
              "    .dataframe tbody tr th:only-of-type {\n",
              "        vertical-align: middle;\n",
              "    }\n",
              "\n",
              "    .dataframe tbody tr th {\n",
              "        vertical-align: top;\n",
              "    }\n",
              "\n",
              "    .dataframe thead th {\n",
              "        text-align: right;\n",
              "    }\n",
              "</style>\n",
              "<table border=\"1\" class=\"dataframe\">\n",
              "  <thead>\n",
              "    <tr style=\"text-align: right;\">\n",
              "      <th></th>\n",
              "      <th>Unnamed: 0</th>\n",
              "      <th>url</th>\n",
              "      <th>date</th>\n",
              "      <th>content</th>\n",
              "      <th>user</th>\n",
              "      <th>likeCount</th>\n",
              "      <th>lang</th>\n",
              "      <th>hashtags</th>\n",
              "      <th>translated_content</th>\n",
              "      <th>Allwords</th>\n",
              "    </tr>\n",
              "  </thead>\n",
              "  <tbody>\n",
              "    <tr>\n",
              "      <th>0</th>\n",
              "      <td>0</td>\n",
              "      <td>https://twitter.com/Ezzy_658/status/1331427915586695171</td>\n",
              "      <td>2020-11-25 02:42:06+00:00</td>\n",
              "      <td>In case anyone is looking for a new playlist...this is mainly for my #LatinBTSARMY It is focused on #LifeGoesOn , #BTS_Dynamite and #BTS_BE with some Latin flavor😘 \\n\\n@BTS_twt #BTSGrammy #BTSGrammyNomination \\n\\n https://t.co/8qvuVIylve</td>\n",
              "      <td>{'_type': 'snscrape.modules.twitter.User', 'username': 'Ezzy_658', 'id': 1221463452247449600, 'displayname': '💜⟭⟬ Esmeralda 🐋 ⟭⟬💜', 'description': 'Love OT7 but NamJinKook biased, although Wednesdays are still dedicated to Namjoon! Ravenclaw at 💜 Fan Account 🔞', 'rawDescription': 'Love OT7 but NamJinKook biased, although Wednesdays are still dedicated to Namjoon! Ravenclaw at 💜 Fan Account 🔞', 'descriptionUrls': None, 'verified': False, 'created': '2020-01-26T16:02:47+00:00', 'followersCount': 363, 'friendsCount': 334, 'statusesCount': 9365, 'favouritesCount': 42117, 'listedCount': 6, 'mediaCount': 3143, 'location': '', 'protected': False, 'linkUrl': None, 'linkTcourl': None, 'profileImageUrl': 'https://pbs.twimg.com/profile_images/1414300632979107844/weXDDl_F_normal.jpg', 'profileBannerUrl': 'https://pbs.twimg.com/profile_banners/1221463452247449600/1624852841', 'url': 'https://twitter.com/Ezzy_658'}</td>\n",
              "      <td>3</td>\n",
              "      <td>en</td>\n",
              "      <td>['LatinBTSARMY', 'LifeGoesOn', 'BTS_Dynamite', 'BTS_BE', 'BTSGrammy', 'BTSGrammyNomination']</td>\n",
              "      <td>In case anyone is looking for a new playlist ... This is mainly for my #latinbtsarmy it is focused on #Lifegoeson, #BTS_DYNAMITE AND #BTS_BE WITH SOME LATIN FLAVOR😘\\n\\n@BTS_TWT #BTSGRAMMY #BTSGRAMMYNOMEATION.\\n\\n https://t.co/8qvuviylve.</td>\n",
              "      <td>case anyone playlist latinbtsarmy lifegoeson bts_dynamite bts_be latin flavor😘 bts_twt btsgrammy btsgrammynomeation //t.co/8qvuviylve</td>\n",
              "    </tr>\n",
              "    <tr>\n",
              "      <th>1</th>\n",
              "      <td>1</td>\n",
              "      <td>https://twitter.com/Dopaminergiica/status/1306422446824861701</td>\n",
              "      <td>2020-09-17 02:39:18+00:00</td>\n",
              "      <td>OK MAYBE IT'S SO LATE TO ASK THIS BUT PLEASEEE PLEASEEEE CONSIDER A REGGEATON SONG. PRETTY PLEASE🥺💜? @BTS_twt or a Reggeaton collab? #LatinxHeritageMonth #LatinBTSARMY #BTSARMY</td>\n",
              "      <td>{'_type': 'snscrape.modules.twitter.User', 'username': 'Dopaminergiica', 'id': 445169253, 'displayname': '⟬⟭🧜\\u200d♀️G-Mermaidᴮᴱ⁷⟭⟬_\\U0001f9c8👅', 'description': \"🌌🧜🏻\\u200d♀️🔞🌗♋ \\n💜 BTS ARMY ⟬⟭ \\n-92'😼 \\n-Researcher👩\\u200d⚕️💉🏨\\n-Fan Account of BTS/TXT🎵\\n-🐿🐹🐰biased \\n-🐱🐥🐻🐨wrecked\\n-Borahae Crew🎀 -잠시 🤠\", 'rawDescription': \"🌌🧜🏻\\u200d♀️🔞🌗♋ \\n💜 BTS ARMY ⟬⟭ \\n-92'😼 \\n-Researcher👩\\u200d⚕️💉🏨\\n-Fan Account of BTS/TXT🎵\\n-🐿🐹🐰biased \\n-🐱🐥🐻🐨wrecked\\n-Borahae Crew🎀 -잠시 🤠\", 'descriptionUrls': None, 'verified': False, 'created': '2011-12-24T03:04:19+00:00', 'followersCount': 2968, 'friendsCount': 5000, 'statusesCount': 102042, 'favouritesCount': 182593, 'listedCount': 13, 'mediaCount': 15916, 'location': 'Texas, USA', 'protected': False, 'linkUrl': None, 'linkTcourl': None, 'profileImageUrl': 'https://pbs.twimg.com/profile_images/1429670240955293705/10whAJwK_normal.jpg', 'profileBannerUrl': 'https://pbs.twimg.com/profile_banners/445169253/1629694922', 'url': 'https://twitter.com/Dopaminergiica'}</td>\n",
              "      <td>4</td>\n",
              "      <td>en</td>\n",
              "      <td>['LatinxHeritageMonth', 'LatinBTSARMY', 'BTSARMY']</td>\n",
              "      <td>OK MAYBE IT's SO LATE TO ASK THIS BUT PLEASEEE PLEASEEE CONSIDELS REGGEATON SONG.Pretty please🥺💜?@BTS_TWT OR A Reggeaton Collab?#LATINXHERITAGEMONTH #LATINBTSARMY #BTSARMY.</td>\n",
              "      <td>maybe pleaseee pleaseee considels reggeaton song.pretty please🥺💜 bts_twt reggeaton collab latinxheritagemonth latinbtsarmy btsarmy</td>\n",
              "    </tr>\n",
              "    <tr>\n",
              "      <th>2</th>\n",
              "      <td>2</td>\n",
              "      <td>https://twitter.com/Dopaminergiica/status/1305630670853738499</td>\n",
              "      <td>2020-09-14 22:13:04+00:00</td>\n",
              "      <td>Mañana es el día de la Independencia de México y por suerte/destino, no trabajo. Haré un streaming party con música mexicana + #BTS_DYNAMITE  \\nAlguna sugerencia de que debería incluir? #BTSARMY #BTSMexico #LatinBTSARMY</td>\n",
              "      <td>{'_type': 'snscrape.modules.twitter.User', 'username': 'Dopaminergiica', 'id': 445169253, 'displayname': '⟬⟭🧜\\u200d♀️G-Mermaidᴮᴱ⁷⟭⟬_\\U0001f9c8👅', 'description': \"🌌🧜🏻\\u200d♀️🔞🌗♋ \\n💜 BTS ARMY ⟬⟭ \\n-92'😼 \\n-Researcher👩\\u200d⚕️💉🏨\\n-Fan Account of BTS/TXT🎵\\n-🐿🐹🐰biased \\n-🐱🐥🐻🐨wrecked\\n-Borahae Crew🎀 -잠시 🤠\", 'rawDescription': \"🌌🧜🏻\\u200d♀️🔞🌗♋ \\n💜 BTS ARMY ⟬⟭ \\n-92'😼 \\n-Researcher👩\\u200d⚕️💉🏨\\n-Fan Account of BTS/TXT🎵\\n-🐿🐹🐰biased \\n-🐱🐥🐻🐨wrecked\\n-Borahae Crew🎀 -잠시 🤠\", 'descriptionUrls': None, 'verified': False, 'created': '2011-12-24T03:04:19+00:00', 'followersCount': 2968, 'friendsCount': 5000, 'statusesCount': 102042, 'favouritesCount': 182593, 'listedCount': 13, 'mediaCount': 15916, 'location': 'Texas, USA', 'protected': False, 'linkUrl': None, 'linkTcourl': None, 'profileImageUrl': 'https://pbs.twimg.com/profile_images/1429670240955293705/10whAJwK_normal.jpg', 'profileBannerUrl': 'https://pbs.twimg.com/profile_banners/445169253/1629694922', 'url': 'https://twitter.com/Dopaminergiica'}</td>\n",
              "      <td>3</td>\n",
              "      <td>es</td>\n",
              "      <td>['BTS_DYNAMITE', 'BTSARMY', 'BTSMexico', 'LatinBTSARMY']</td>\n",
              "      <td>Tomorrow is the day of Mexico independence and luckily / destination, I do not work.I will do a streaming party with Mexican music + #BTS_DYNAMITE\\nAny suggestion that you should include?#BTSARMY #BTSMEXICO #LATINBTSARMY.</td>\n",
              "      <td>tomorrow mexico independence destination party music bts_dynamite suggestion btsarmy btsmexico latinbtsarmy</td>\n",
              "    </tr>\n",
              "    <tr>\n",
              "      <th>3</th>\n",
              "      <td>3</td>\n",
              "      <td>https://twitter.com/AdorKabLe_Me2/status/968580388472999936</td>\n",
              "      <td>2018-02-27 20:15:34+00:00</td>\n",
              "      <td>When you wanna tweet about \\n#dominicanindependenceday \\nBut you also wanna keep the votes up for @BTS_twt \\n😂😂😂❤❤❤\\n¿Considerando mi armys dominicano? \\n#LATINBTSARMY 🌼🇩🇴🌼\\n\\n🌹💖💝 #BTSARMY #BestFanArmy #iHeartAwards\\n@BTS_twt 💕\\n\\n*hugs* https://t.co/u7Ag9ialRy</td>\n",
              "      <td>{'_type': 'snscrape.modules.twitter.User', 'username': 'AdorKabLe_Me2', 'id': 83841071, 'displayname': '*THE NOSEY (nice) MULTI*🥳🔥🔥', 'description': \"𖧵×𖧵 ⁷MultiStan University\\nへ(._へ)sᴋʀskrrr \\n☆𝐍𝐚𝐦𝐣𝐨𝐨𝐧: 𝕀 𝕒𝕞 𝕒 𝕓𝕝𝕒𝕔𝕜 𝕞𝕒𝕟★\\n#BLM\\nFelix's mum❤🥺\\n#skzSTAY #YOONGICULT\\n20+ \\nproud afrolatina🇩🇴🥰\", 'rawDescription': \"𖧵×𖧵 ⁷MultiStan University\\nへ(._へ)sᴋʀskrrr \\n☆𝐍𝐚𝐦𝐣𝐨𝐨𝐧: 𝕀 𝕒𝕞 𝕒 𝕓𝕝𝕒𝕔𝕜 𝕞𝕒𝕟★\\n#BLM\\nFelix's mum❤🥺\\n#skzSTAY #YOONGICULT\\n20+ \\nproud afrolatina🇩🇴🥰\", 'descriptionUrls': None, 'verified': False, 'created': '2009-10-20T13:14:18+00:00', 'followersCount': 3037, 'friendsCount': 3782, 'statusesCount': 32372, 'favouritesCount': 50875, 'listedCount': 11, 'mediaCount': 1778, 'location': \"Markjin's child💚\", 'protected': False, 'linkUrl': 'https://kpopshop.com?sca_ref=554051.dg61NXHGwN', 'linkTcourl': 'https://t.co/8N3Z9LgueP', 'profileImageUrl': 'https://pbs.twimg.com/profile_images/1384199949231878154/5Co_wVRs_normal.jpg', 'profileBannerUrl': 'https://pbs.twimg.com/profile_banners/83841071/1618853959', 'url': 'https://twitter.com/AdorKabLe_Me2'}</td>\n",
              "      <td>0</td>\n",
              "      <td>en</td>\n",
              "      <td>['dominicanindependenceday', 'LATINBTSARMY', 'BTSARMY', 'BestFanArmy', 'iHeartAwards']</td>\n",
              "      <td>WHEN YOU WANNA TWEET About\\n#Dominicanindependenceteday.\\nBut You Also Wanna Keep The Votes Up for @bts_twt\\n😂😂😂❤❤❤\\nConsidering my Dominican Arms?\\n#LATINBTSARMY 🌼🇩🇴🌼.\\n\\n🌹💖💝 #BTSARMY #BestFanarmy #iHeartaWards\\n@BTS_TWT 💕.\\n\\n* HUGS * https://t.co/u7ag9ialry</td>\n",
              "      <td>tweet dominicanindependenceteday votes bts_twt 😂😂😂❤❤❤ considering latinbtsarmy 🌼🇩🇴🌼 btsarmy bestfanarmy bts_twt hugs //t.co/u7ag9ialry</td>\n",
              "    </tr>\n",
              "  </tbody>\n",
              "</table>\n",
              "</div>"
            ],
            "text/plain": [
              "   Unnamed: 0  ...                                                                                                                                Allwords\n",
              "0  0           ...  case anyone playlist latinbtsarmy lifegoeson bts_dynamite bts_be latin flavor😘 bts_twt btsgrammy btsgrammynomeation //t.co/8qvuviylve \n",
              "1  1           ...  maybe pleaseee pleaseee considels reggeaton song.pretty please🥺💜 bts_twt reggeaton collab latinxheritagemonth latinbtsarmy btsarmy    \n",
              "2  2           ...  tomorrow mexico independence destination party music bts_dynamite suggestion btsarmy btsmexico latinbtsarmy                           \n",
              "3  3           ...  tweet dominicanindependenceteday votes bts_twt 😂😂😂❤❤❤ considering latinbtsarmy 🌼🇩🇴🌼 btsarmy bestfanarmy bts_twt hugs //t.co/u7ag9ialry\n",
              "\n",
              "[4 rows x 10 columns]"
            ]
          },
          "metadata": {},
          "execution_count": 75
        }
      ]
    },
    {
      "cell_type": "markdown",
      "metadata": {
        "id": "pMnfTldhRMX3"
      },
      "source": [
        "# Computing Coherence and Perplexity Scores \n",
        "*  coherence measuring how well the topics are extracted, \n",
        "*  perplexity measuring how well the model generalizes..\n",
        "*  The models with the lowest perplexity and highest coherence are considered \"the best\""
      ]
    },
    {
      "cell_type": "code",
      "metadata": {
        "id": "3KMoMetnRRck"
      },
      "source": [
        "# tomotopy의 lda 결과를 gensim에서 활용가능한 자료구조 형태로 변환하는 함수\n",
        "\n",
        "def get_coherence(model, coherence=None, topn=None, processes=None): # None으로 하면 자동으로 default...밑에서 값을 정해 줬으니, 정해진 값이 들어온다\n",
        "    \"\"\"\n",
        "    model: tomotopy lda\n",
        "    coherence: coherence 값을 구하는 알고리즘(u_mass 나 c_v 를 사용하는데 일반적으로 c_v 활용)\n",
        "    topn: coherence 계산할 때 고려할 토픽 키워드\n",
        "    processes: workers와 유사한 기능\n",
        "    \"\"\"\n",
        "\n",
        "    # tomotopy 에서 토픽-키워드간 데이터 추출\n",
        "    topics = []\n",
        "    for k in range(model.k): #model.k에서 뽑는게 숫자이기 때문에 레인지를 쓴다...k에 해당되는 내용이 없고\n",
        "        word_probs = model.get_topic_words(k, topn) #토픽에 해당되는 키워드에 대해 확률값을 넣어주는 것\n",
        "        topics.append([word for word, prob in word_probs])\n",
        "    \n",
        "    # tomotopy에서 토픽-문서간 데이터 추출하여 gensim에서 활용가능한 코퍼스 구현\n",
        "    texts = []\n",
        "    corpus = []\n",
        "    for doc in model.docs: #여긴 왜 range를 안넣나?...실제 문서의 내용을 가져와야 하기 때문에...리스트 형태로 있는 문서의 내용을 가져온다...doc는 내용이 있다...\n",
        "        words = [model.vocabs[token_id] for token_id in doc.words] #doc.words가 어디서 왔나? '토모토피에서 자동적으로 정해 놓은 변수이다' \n",
        "        texts.append(words) #젠심 단계에서 lda를 하기 위한 신문기사...토모토미에서 해놓은 것은 되돌리는 것....\n",
        "        freqs = list(collections.Counter(doc.words).items()) #왜 .items()가 붙은거지? collections.Counter는 반드시 젠심은 아니다...collectios 라이브러리에서...items() 함수는 튜플(x=y...검찰=100)...전체를 list형태로..\n",
        "                  #list를 통해서 각각 문서들에 대해서 진행함.....list는 전체를 하나의 집합으로 묶어 준다...\n",
        "        corpus.append(freqs)\n",
        "    \n",
        "    # gensim 형태의 자료구조 형태로 변환\n",
        "    id2word = dict(enumerate(model.vocabs)) #model.vocabs는 변수 아닌가? enumerate는 전체 문서에서 특정 단어가 언급된 숫자를 말한다...전체 오천개에서 검찰=1500번 이런 식으로....dict는 튜플형태로??\n",
        "    dictionary = gensim.corpora.dictionary.Dictionary.from_corpus(corpus, id2word) # tomotopy에 활용된 키워드들을 (단어, 빈도) 구조의 형태로 변환\n",
        "    \n",
        "    cm = gensim.models.coherencemodel.CoherenceModel(\n",
        "        topics=topics,\n",
        "        texts=texts,\n",
        "        corpus=corpus,\n",
        "        dictionary=dictionary,  \n",
        "        coherence=coherence, # (바로 아래에 있는 'c_v', 10, 5를 넣는 것임...)\n",
        "        topn=topn,\n",
        "        processes=processes,\n",
        "    )\n",
        "\n",
        "    return cm.get_coherence() #그냥 cm을 리턴하는게 아니고 여기에 또 .get_coherence()를 넣는것? 왜?; 이건 리턴했는데, 아래에서 전혀 사용되지 않네? return을 안하면 해당하는 값을 가져오지 않는다..cm은 속성값이 나온다..."
      ],
      "execution_count": null,
      "outputs": []
    },
    {
      "cell_type": "code",
      "metadata": {
        "id": "jsoyzJtoRVvw"
      },
      "source": [
        "# perplexity, coherence 값을 확인하는 함수\n",
        "\n",
        "def compute_coherence_values(doc, start, limit, step):\n",
        "    for i in range(start, limit, step):\n",
        "        mdl = tp.LDAModel(k=i)\n",
        "        for text in doc:\n",
        "            token = text.strip().split()\n",
        "            if token:\n",
        "                mdl.add_doc(token)\n",
        "\n",
        "        mdl.train(iter=100, workers=0)\n",
        "        coherence_value = get_coherence(mdl, coherence='c_v', topn=10, processes=10)\n",
        "\n",
        "        print('Topic: {}\\tLog-likelihood: {}\\tPerplexity: {}\\tCoherence: {}'\\\n",
        "        .format(\n",
        "            i,\n",
        "            mdl.ll_per_word,\n",
        "            mdl.perplexity,\n",
        "            coherence_value\n",
        "            )\n",
        "        )\n",
        "        coherence_values.append(coherence_value) \n",
        "        perplexities.append(mdl.perplexity)\n"
      ],
      "execution_count": null,
      "outputs": []
    },
    {
      "cell_type": "code",
      "metadata": {
        "colab": {
          "base_uri": "https://localhost:8080/"
        },
        "id": "AbdIXjreRdDI",
        "outputId": "1a07714f-0f94-4133-d4b8-310386186e02"
      },
      "source": [
        "DF['Allwords'].replace('', np.nan, inplace=True) # https://codesample-factory.tistory.com/1081 #비교적 짧은 단문의 경우....비어있는 값이 우연히 생길 수 있어....np.nan으로 대체하는 것(NaN)\n",
        "DF.dropna(subset=['Allwords'], inplace=True)\n",
        "\n",
        "limit = 50 # maximum topic number\n",
        "start = 10; # minimum topic number\n",
        "step = 5; # step unit\n",
        "\n",
        "coherence_values = []\n",
        "perplexities = []\n",
        "\n",
        "# coherence 확인은 gensim의 프로세싱을 따르기 때문에 시간이 상당히 소요됨\n",
        "compute_coherence_values(DF['Allwords'], start, limit, step)"
      ],
      "execution_count": null,
      "outputs": [
        {
          "output_type": "stream",
          "text": [
            "Topic: 10\tLog-likelihood: -6.403641452789307\tPerplexity: 604.0406232981549\tCoherence: 0.44790083182613405\n",
            "Topic: 15\tLog-likelihood: -6.407143931388855\tPerplexity: 606.15997197464\tCoherence: 0.5094057431878591\n",
            "Topic: 20\tLog-likelihood: -6.40889788389206\tPerplexity: 607.224080700111\tCoherence: 0.4898834736706335\n",
            "Topic: 25\tLog-likelihood: -6.422337255030871\tPerplexity: 615.439874376518\tCoherence: 0.5539110250784794\n",
            "Topic: 30\tLog-likelihood: -6.425242066383362\tPerplexity: 617.2302101453218\tCoherence: 0.5414224296892516\n",
            "Topic: 35\tLog-likelihood: -6.613384044766426\tPerplexity: 744.9998706582268\tCoherence: 0.5421096931660051\n",
            "Topic: 40\tLog-likelihood: -6.509762558043003\tPerplexity: 671.6669167485845\tCoherence: 0.5575625500648472\n",
            "Topic: 45\tLog-likelihood: -6.510955557376146\tPerplexity: 672.4686930965902\tCoherence: 0.5521282052795536\n"
          ],
          "name": "stdout"
        }
      ]
    },
    {
      "cell_type": "markdown",
      "metadata": {
        "id": "q0jBmfG6RfqF"
      },
      "source": [
        "#그래프 그리기"
      ]
    },
    {
      "cell_type": "code",
      "metadata": {
        "id": "EiWYr3GdRex8"
      },
      "source": [
        "x = range(start, limit, step)\n",
        "\n",
        "mdl_check = pd.DataFrame(list(zip(x, perplexities, coherence_values)), columns=['Num Topics', 'Perplexity', 'Coherence']) # from np.array ro pd.dataframe"
      ],
      "execution_count": null,
      "outputs": []
    },
    {
      "cell_type": "code",
      "metadata": {
        "colab": {
          "base_uri": "https://localhost:8080/",
          "height": 404
        },
        "id": "GVFHZ500RjrB",
        "outputId": "25b312b1-99b7-4e76-80d9-8bfb9bff4544"
      },
      "source": [
        "fig, ax = plt.subplots(figsize=(15,5), nrows=1, ncols=2) # nrows=1 ? ncols=2?..2개 그림 배치를 어떻게?....행1개 열2개...subplots이 쪼개는 것....fig는 figsize에 관한 것....15.5가 아래 눈에 보이는 사이즈.....(가로..세로)\n",
        "\n",
        "plt.subplots_adjust(left=0.125, #여백 간의 관계를 adjust.... 그림이 여려개 있을때 공간과 여백 설정....left=.125...반으로 쪼갠 것 내에서 배치를 어떻게...wspace는 두 그림 사이의 거리...hspace는 필요가 없다...\n",
        "                    bottom=0.1, \n",
        "                    right=0.9, \n",
        "                    top=0.9, \n",
        "                    wspace=0.3, \n",
        "                    hspace=0.5)\n",
        "\n",
        "pd.pivot_table(mdl_check, values=[\"Perplexity\", \"Coherence\"],index=\"Num Topics\")\\\n",
        "    .plot(kind='line', rot=90, ax=ax, subplots=True)  # perplexity와 coherence의 위치? \\표시는 .plot 과 연결. .plot을 어떻게 그릴거냐? 선 그래프...rotation 가로축 로테이션..위의 ax.\n",
        "                                                      # subplots=True는 두개를 나눈다....\n",
        "                                                      # \\.plot??. 아래 상단에 나오는 array....는 뭐지? 없애도 되지 않나?"
      ],
      "execution_count": null,
      "outputs": [
        {
          "output_type": "execute_result",
          "data": {
            "text/plain": [
              "array([<matplotlib.axes._subplots.AxesSubplot object at 0x7fa276e64110>,\n",
              "       <matplotlib.axes._subplots.AxesSubplot object at 0x7fa2765af950>],\n",
              "      dtype=object)"
            ]
          },
          "metadata": {},
          "execution_count": 81
        },
        {
          "output_type": "display_data",
          "data": {
            "image/png": "[encoded data removed]",
            "text/plain": [
              "<Figure size 1080x360 with 2 Axes>"
            ]
          },
          "metadata": {
            "needs_background": "light"
          }
        }
      ]
    },
    {
      "cell_type": "markdown",
      "metadata": {
        "id": "gmXN_8eZRmwP"
      },
      "source": [
        "#Training Data for Best Fitted Model"
      ]
    },
    {
      "cell_type": "code",
      "metadata": {
        "colab": {
          "base_uri": "https://localhost:8080/"
        },
        "id": "91y7_dJcRryr",
        "outputId": "b1e3aa8f-8cf2-4320-ecfe-50d473cfb7bf"
      },
      "source": [
        "mdl = tp.LDAModel(k=20)\n",
        "\n",
        "for text in DF['Allwords']:\n",
        "    token = text.strip().split()\n",
        "    if token:\n",
        "        mdl.add_doc(token)\n",
        "mdl.train(iter=100, workers=0)\n",
        "\n",
        "for k in range(mdl.k):\n",
        "    print('Top 10 words of topic #{}'.format(k))\n",
        "    print(mdl.get_topic_words(k, top_n=10))"
      ],
      "execution_count": null,
      "outputs": [
        {
          "output_type": "stream",
          "text": [
            "Top 10 words of topic #0\n",
            "[('btsmexico', 0.025641025975346565), ('collab', 0.025641025975346565), ('latinxheritagemonth', 0.025641025975346565), ('tomorrow', 0.025641025975346565), ('mexico', 0.025641025975346565), ('independence', 0.025641025975346565), ('destination', 0.025641025975346565), ('party', 0.025641025975346565), ('music', 0.025641025975346565), ('suggestion', 0.025641025975346565)]\n",
            "Top 10 words of topic #1\n",
            "[('btsarmy', 0.4710485339164734), ('latinxheritagemonth', 0.15805946290493011), ('please🥺💜', 0.15805946290493011), ('btsmexico', 0.15805946290493011), ('tweet', 0.0015649452107027173), ('tomorrow', 0.0015649452107027173), ('mexico', 0.0015649452107027173), ('independence', 0.0015649452107027173), ('destination', 0.0015649452107027173), ('party', 0.0015649452107027173)]\n",
            "Top 10 words of topic #2\n",
            "[('btsmexico', 0.025641025975346565), ('collab', 0.025641025975346565), ('latinxheritagemonth', 0.025641025975346565), ('tomorrow', 0.025641025975346565), ('mexico', 0.025641025975346565), ('independence', 0.025641025975346565), ('destination', 0.025641025975346565), ('party', 0.025641025975346565), ('music', 0.025641025975346565), ('suggestion', 0.025641025975346565)]\n",
            "Top 10 words of topic #3\n",
            "[('bts_be', 0.18738405406475067), ('collab', 0.18738405406475067), ('latin', 0.18738405406475067), ('tweet', 0.18738405406475067), ('considering', 0.18738405406475067), ('🌼🇩🇴🌼', 0.001855287584476173), ('😂😂😂❤❤❤', 0.001855287584476173), ('votes', 0.001855287584476173), ('dominicanindependenceteday', 0.001855287584476173), ('bestfanarmy', 0.001855287584476173)]\n",
            "Top 10 words of topic #4\n",
            "[('btsmexico', 0.025641025975346565), ('collab', 0.025641025975346565), ('latinxheritagemonth', 0.025641025975346565), ('tomorrow', 0.025641025975346565), ('mexico', 0.025641025975346565), ('independence', 0.025641025975346565), ('destination', 0.025641025975346565), ('party', 0.025641025975346565), ('music', 0.025641025975346565), ('suggestion', 0.025641025975346565)]\n",
            "Top 10 words of topic #5\n",
            "[('btsmexico', 0.025641025975346565), ('collab', 0.025641025975346565), ('latinxheritagemonth', 0.025641025975346565), ('tomorrow', 0.025641025975346565), ('mexico', 0.025641025975346565), ('independence', 0.025641025975346565), ('destination', 0.025641025975346565), ('party', 0.025641025975346565), ('music', 0.025641025975346565), ('suggestion', 0.025641025975346565)]\n",
            "Top 10 words of topic #6\n",
            "[('🌼🇩🇴🌼', 0.18738405406475067), ('case', 0.18738405406475067), ('music', 0.18738405406475067), ('btsgrammy', 0.18738405406475067), ('flavor😘', 0.18738405406475067), ('tweet', 0.001855287584476173), ('tomorrow', 0.001855287584476173), ('mexico', 0.001855287584476173), ('independence', 0.001855287584476173), ('destination', 0.001855287584476173)]\n",
            "Top 10 words of topic #7\n",
            "[('//t.co/u7ag9ialry', 0.18738405406475067), ('mexico', 0.18738405406475067), ('😂😂😂❤❤❤', 0.18738405406475067), ('//t.co/8qvuviylve', 0.18738405406475067), ('btsgrammynomeation', 0.18738405406475067), ('latinxheritagemonth', 0.001855287584476173), ('please🥺💜', 0.001855287584476173), ('tomorrow', 0.001855287584476173), ('independence', 0.001855287584476173), ('destination', 0.001855287584476173)]\n",
            "Top 10 words of topic #8\n",
            "[('independence', 0.4225941300392151), ('votes', 0.4225941300392151), ('btsmexico', 0.0041841003112494946), ('collab', 0.0041841003112494946), ('latinxheritagemonth', 0.0041841003112494946), ('tomorrow', 0.0041841003112494946), ('mexico', 0.0041841003112494946), ('destination', 0.0041841003112494946), ('party', 0.0041841003112494946), ('music', 0.0041841003112494946)]\n",
            "Top 10 words of topic #9\n",
            "[('playlist', 0.7266187071800232), ('tweet', 0.0071942443028092384), ('latinxheritagemonth', 0.0071942443028092384), ('tomorrow', 0.0071942443028092384), ('mexico', 0.0071942443028092384), ('independence', 0.0071942443028092384), ('destination', 0.0071942443028092384), ('party', 0.0071942443028092384), ('music', 0.0071942443028092384), ('suggestion', 0.0071942443028092384)]\n",
            "Top 10 words of topic #10\n",
            "[('hugs', 0.4225941300392151), ('dominicanindependenceteday', 0.4225941300392151), ('btsmexico', 0.0041841003112494946), ('collab', 0.0041841003112494946), ('latinxheritagemonth', 0.0041841003112494946), ('tomorrow', 0.0041841003112494946), ('mexico', 0.0041841003112494946), ('independence', 0.0041841003112494946), ('destination', 0.0041841003112494946), ('party', 0.0041841003112494946)]\n",
            "Top 10 words of topic #11\n",
            "[('btsmexico', 0.025641025975346565), ('collab', 0.025641025975346565), ('latinxheritagemonth', 0.025641025975346565), ('tomorrow', 0.025641025975346565), ('mexico', 0.025641025975346565), ('independence', 0.025641025975346565), ('destination', 0.025641025975346565), ('party', 0.025641025975346565), ('music', 0.025641025975346565), ('suggestion', 0.025641025975346565)]\n",
            "Top 10 words of topic #12\n",
            "[('suggestion', 0.7266187071800232), ('btsmexico', 0.0071942443028092384), ('collab', 0.0071942443028092384), ('latinxheritagemonth', 0.0071942443028092384), ('tomorrow', 0.0071942443028092384), ('mexico', 0.0071942443028092384), ('independence', 0.0071942443028092384), ('destination', 0.0071942443028092384), ('party', 0.0071942443028092384), ('music', 0.0071942443028092384)]\n",
            "Top 10 words of topic #13\n",
            "[('btsmexico', 0.025641025975346565), ('collab', 0.025641025975346565), ('latinxheritagemonth', 0.025641025975346565), ('tomorrow', 0.025641025975346565), ('mexico', 0.025641025975346565), ('independence', 0.025641025975346565), ('destination', 0.025641025975346565), ('party', 0.025641025975346565), ('music', 0.025641025975346565), ('suggestion', 0.025641025975346565)]\n",
            "Top 10 words of topic #14\n",
            "[('btsmexico', 0.025641025975346565), ('collab', 0.025641025975346565), ('latinxheritagemonth', 0.025641025975346565), ('tomorrow', 0.025641025975346565), ('mexico', 0.025641025975346565), ('independence', 0.025641025975346565), ('destination', 0.025641025975346565), ('party', 0.025641025975346565), ('music', 0.025641025975346565), ('suggestion', 0.025641025975346565)]\n",
            "Top 10 words of topic #15\n",
            "[('bts_twt', 0.3236481249332428), ('latinbtsarmy', 0.3236481249332428), ('pleaseee', 0.162227600812912), ('bestfanarmy', 0.08151734620332718), ('considels', 0.08151734620332718), ('tomorrow', 0.0008071024785749614), ('//t.co/u7ag9ialry', 0.0008071024785749614), ('mexico', 0.0008071024785749614), ('independence', 0.0008071024785749614), ('destination', 0.0008071024785749614)]\n",
            "Top 10 words of topic #16\n",
            "[('btsmexico', 0.025641025975346565), ('collab', 0.025641025975346565), ('latinxheritagemonth', 0.025641025975346565), ('tomorrow', 0.025641025975346565), ('mexico', 0.025641025975346565), ('independence', 0.025641025975346565), ('destination', 0.025641025975346565), ('party', 0.025641025975346565), ('music', 0.025641025975346565), ('suggestion', 0.025641025975346565)]\n",
            "Top 10 words of topic #17\n",
            "[('bts_dynamite', 0.37291279435157776), ('reggeaton', 0.37291279435157776), ('destination', 0.18738405406475067), ('dominicanindependenceteday', 0.001855287584476173), ('latinxheritagemonth', 0.001855287584476173), ('tomorrow', 0.001855287584476173), ('mexico', 0.001855287584476173), ('independence', 0.001855287584476173), ('party', 0.001855287584476173), ('music', 0.001855287584476173)]\n",
            "Top 10 words of topic #18\n",
            "[('btsmexico', 0.025641025975346565), ('collab', 0.025641025975346565), ('latinxheritagemonth', 0.025641025975346565), ('tomorrow', 0.025641025975346565), ('mexico', 0.025641025975346565), ('independence', 0.025641025975346565), ('destination', 0.025641025975346565), ('party', 0.025641025975346565), ('music', 0.025641025975346565), ('suggestion', 0.025641025975346565)]\n",
            "Top 10 words of topic #19\n",
            "[('tomorrow', 0.15805946290493011), ('song.pretty', 0.15805946290493011), ('maybe', 0.15805946290493011), ('anyone', 0.15805946290493011), ('party', 0.15805946290493011), ('lifegoeson', 0.15805946290493011), ('tweet', 0.0015649452107027173), ('mexico', 0.0015649452107027173), ('independence', 0.0015649452107027173), ('destination', 0.0015649452107027173)]\n"
          ],
          "name": "stdout"
        }
      ]
    },
    {
      "cell_type": "code",
      "metadata": {
        "id": "4kc9AujTRtix"
      },
      "source": [
        "## Pyldavis process\n",
        "\n",
        "topic_term_dists = np.stack([mdl.get_topic_word_dist(k) for k in range(mdl.k)])\n",
        "doc_topic_dists = np.stack([doc.get_topic_dist() for doc in mdl.docs])\n",
        "doc_lengths = np.array([len(doc.words) for doc in mdl.docs])\n",
        "vocab = list(mdl.used_vocabs)\n",
        "term_frequency = mdl.used_vocab_freq"
      ],
      "execution_count": null,
      "outputs": []
    },
    {
      "cell_type": "code",
      "metadata": {
        "colab": {
          "base_uri": "https://localhost:8080/",
          "height": 861
        },
        "id": "3EP6lCkMRvGT",
        "outputId": "aec7f7bf-7e62-4d40-e3de-1bc5e0557f16"
      },
      "source": [
        "prepared_data = pyLDAvis.prepare(\n",
        "    topic_term_dists, \n",
        "    doc_topic_dists, \n",
        "    doc_lengths, \n",
        "    vocab, \n",
        "    term_frequency,\n",
        "    mds='mmds'\n",
        ")\n",
        "\n",
        "pyLDAvis.display(prepared_data)\n",
        "\n",
        "## 몇몇 외래어들이 하나의 토픽을 구성하는 것 확인할 수 있음(토픽 24, 25)\n",
        "## 상기한 것처럼 이러한 자료들은 직접 자료를 확인하면서 raw data를 확인하는 단계에서 제거하는 과정 필요"
      ],
      "execution_count": null,
      "outputs": [
        {
          "output_type": "execute_result",
          "data": {
            "text/html": [
              "\n",
              "<link rel=\"stylesheet\" type=\"text/css\" href=\"https://cdn.rawgit.com/bmabey/pyLDAvis/files/ldavis.v1.0.0.css\">\n",
              "\n",
              "\n",
              "<div id=\"ldavis_el631403360248817442225181525\"></div>\n",
              "<script type=\"text/javascript\">\n",
              "\n",
              "var ldavis_el631403360248817442225181525_data = {\"mdsDat\": {\"x\": [0.45006147927956947, 0.18604346202402935, -0.3346287039584783, -0.38197011520245533, 0.18626007565606068, -0.11998518053593239, -0.31210303853504756, 0.31222512132472313, -0.052054435453952844, -0.014619718352932552, 0.2134098249088004, -0.014737641237213307, -0.01473764122526587, -0.014737641241215191, -0.014737641229801025, -0.01473764124125728, -0.014737641245168728, -0.014737641241724117, -0.014737641224912588, -0.014737641267825799], \"y\": [-0.05042950446939279, 0.3376759168626742, 0.27208491271222257, 0.009498317124945414, -0.3374534374578875, -0.4172428505543055, -0.2124284331199804, 0.14355821297621066, 0.36420524992448944, -0.2307667949328241, -0.11676882349942055, 0.02645191494193629, 0.026451914952259726, 0.02645191493724371, 0.026451914949172085, 0.026451914937157563, 0.026451914931881898, 0.026451914936569138, 0.026451914951557826, 0.02645191489549066], \"topics\": [1, 2, 3, 4, 5, 6, 7, 8, 9, 10, 11, 12, 13, 14, 15, 16, 17, 18, 19, 20], \"cluster\": [1, 1, 1, 1, 1, 1, 1, 1, 1, 1, 1, 1, 1, 1, 1, 1, 1, 1, 1, 1], \"Freq\": [23.870548092084643, 12.032311090253211, 11.93087905298934, 10.082760237472879, 10.057891779716087, 10.033023128244205, 9.940197107355765, 4.1122591890052, 3.8277045745499656, 2.0686172179652282, 2.043747862413501, 6.74088333090178e-06, 6.74088333090178e-06, 6.74088333090178e-06, 6.74088333090178e-06, 6.74088333090178e-06, 6.74088333090178e-06, 6.74088333090178e-06, 6.74088333090178e-06, 6.74088333090178e-06]}, \"tinfo\": {\"Term\": [\"latinbtsarmy\", \"bts_twt\", \"pleaseee\", \"btsarmy\", \"bts_dynamite\", \"reggeaton\", \"bestfanarmy\", \"considels\", \"maybe\", \"anyone\", \"lifegoeson\", \"party\", \"tomorrow\", \"song.pretty\", \"btsmexico\", \"latinxheritagemonth\", \"please\\ud83e\\udd7a\\ud83d\\udc9c\", \"bts_be\", \"considering\", \"collab\", \"latin\", \"tweet\", \"//t.co/8qvuviylve\", \"\\ud83d\\ude02\\ud83d\\ude02\\ud83d\\ude02\\u2764\\u2764\\u2764\", \"btsgrammynomeation\", \"//t.co/u7ag9ialry\", \"mexico\", \"destination\", \"music\", \"flavor\\ud83d\\ude18\", \"latinbtsarmy\", \"bts_twt\", \"pleaseee\", \"considels\", \"bestfanarmy\", \"suggestion\", \"playlist\", \"dominicanindependenceteday\", \"hugs\", \"votes\", \"independence\", \"\\ud83c\\udf3c\\ud83c\\udde9\\ud83c\\uddf4\\ud83c\\udf3c\", \"case\", \"music\", \"flavor\\ud83d\\ude18\", \"btsgrammy\", \"destination\", \"btsgrammynomeation\", \"//t.co/8qvuviylve\", \"//t.co/u7ag9ialry\", \"\\ud83d\\ude02\\ud83d\\ude02\\ud83d\\ude02\\u2764\\u2764\\u2764\", \"mexico\", \"please\\ud83e\\udd7a\\ud83d\\udc9c\", \"latinxheritagemonth\", \"btsmexico\", \"considering\", \"tweet\", \"latin\", \"bts_be\", \"collab\", \"btsarmy\", \"bts_dynamite\", \"reggeaton\", \"anyone\", \"song.pretty\", \"lifegoeson\", \"maybe\", \"maybe\", \"song.pretty\", \"anyone\", \"lifegoeson\", \"party\", \"tomorrow\", \"suggestion\", \"playlist\", \"hugs\", \"dominicanindependenceteday\", \"independence\", \"votes\", \"btsgrammy\", \"flavor\\ud83d\\ude18\", \"music\", \"\\ud83c\\udf3c\\ud83c\\udde9\\ud83c\\uddf4\\ud83c\\udf3c\", \"case\", \"destination\", \"mexico\", \"//t.co/8qvuviylve\", \"\\ud83d\\ude02\\ud83d\\ude02\\ud83d\\ude02\\u2764\\u2764\\u2764\", \"btsgrammynomeation\", \"//t.co/u7ag9ialry\", \"please\\ud83e\\udd7a\\ud83d\\udc9c\", \"latinxheritagemonth\", \"btsmexico\", \"collab\", \"latin\", \"bts_be\", \"tweet\", \"reggeaton\", \"pleaseee\", \"considels\", \"bts_dynamite\", \"btsarmy\", \"bts_twt\", \"bestfanarmy\", \"considering\", \"btsarmy\", \"please\\ud83e\\udd7a\\ud83d\\udc9c\", \"btsmexico\", \"latinxheritagemonth\", \"suggestion\", \"playlist\", \"dominicanindependenceteday\", \"hugs\", \"votes\", \"independence\", \"\\ud83c\\udf3c\\ud83c\\udde9\\ud83c\\uddf4\\ud83c\\udf3c\", \"case\", \"flavor\\ud83d\\ude18\", \"music\", \"btsgrammy\", \"destination\", \"btsgrammynomeation\", \"//t.co/8qvuviylve\", \"//t.co/u7ag9ialry\", \"\\ud83d\\ude02\\ud83d\\ude02\\ud83d\\ude02\\u2764\\u2764\\u2764\", \"mexico\", \"collab\", \"bts_be\", \"considering\", \"tweet\", \"latin\", \"anyone\", \"song.pretty\", \"lifegoeson\", \"party\", \"considels\", \"reggeaton\", \"pleaseee\", \"bts_dynamite\", \"bts_twt\", \"maybe\", \"bestfanarmy\", \"tweet\", \"considering\", \"collab\", \"bts_be\", \"latin\", \"suggestion\", \"playlist\", \"dominicanindependenceteday\", \"hugs\", \"votes\", \"independence\", \"btsgrammy\", \"flavor\\ud83d\\ude18\", \"\\ud83c\\udf3c\\ud83c\\udde9\\ud83c\\uddf4\\ud83c\\udf3c\", \"case\", \"music\", \"destination\", \"//t.co/u7ag9ialry\", \"mexico\", \"//t.co/8qvuviylve\", \"\\ud83d\\ude02\\ud83d\\ude02\\ud83d\\ude02\\u2764\\u2764\\u2764\", \"btsgrammynomeation\", \"please\\ud83e\\udd7a\\ud83d\\udc9c\", \"latinxheritagemonth\", \"btsmexico\", \"maybe\", \"song.pretty\", \"tomorrow\", \"party\", \"lifegoeson\", \"anyone\", \"considels\", \"reggeaton\", \"pleaseee\", \"bts_dynamite\", \"btsarmy\", \"bts_twt\", \"bestfanarmy\", \"//t.co/u7ag9ialry\", \"\\ud83d\\ude02\\ud83d\\ude02\\ud83d\\ude02\\u2764\\u2764\\u2764\", \"mexico\", \"btsgrammynomeation\", \"//t.co/8qvuviylve\", \"suggestion\", \"playlist\", \"dominicanindependenceteday\", \"hugs\", \"votes\", \"independence\", \"btsgrammy\", \"music\", \"\\ud83c\\udf3c\\ud83c\\udde9\\ud83c\\uddf4\\ud83c\\udf3c\", \"case\", \"flavor\\ud83d\\ude18\", \"destination\", \"please\\ud83e\\udd7a\\ud83d\\udc9c\", \"btsmexico\", \"latinxheritagemonth\", \"collab\", \"considering\", \"latin\", \"tweet\", \"bts_be\", \"party\", \"tomorrow\", \"maybe\", \"lifegoeson\", \"song.pretty\", \"considels\", \"anyone\", \"reggeaton\", \"pleaseee\", \"bts_dynamite\", \"btsarmy\", \"bts_twt\", \"bestfanarmy\", \"bts_dynamite\", \"reggeaton\", \"destination\", \"suggestion\", \"playlist\", \"dominicanindependenceteday\", \"hugs\", \"votes\", \"independence\", \"btsgrammy\", \"\\ud83c\\udf3c\\ud83c\\udde9\\ud83c\\uddf4\\ud83c\\udf3c\", \"case\", \"music\", \"flavor\\ud83d\\ude18\", \"btsgrammynomeation\", \"//t.co/u7ag9ialry\", \"mexico\", \"\\ud83d\\ude02\\ud83d\\ude02\\ud83d\\ude02\\u2764\\u2764\\u2764\", \"//t.co/8qvuviylve\", \"please\\ud83e\\udd7a\\ud83d\\udc9c\", \"btsmexico\", \"latinxheritagemonth\", \"considering\", \"collab\", \"tweet\", \"latin\", \"bts_be\", \"song.pretty\", \"anyone\", \"lifegoeson\", \"maybe\", \"pleaseee\", \"btsarmy\", \"bts_twt\", \"considels\", \"bestfanarmy\", \"flavor\\ud83d\\ude18\", \"case\", \"\\ud83c\\udf3c\\ud83c\\udde9\\ud83c\\uddf4\\ud83c\\udf3c\", \"btsgrammy\", \"music\", \"suggestion\", \"playlist\", \"dominicanindependenceteday\", \"hugs\", \"votes\", \"independence\", \"destination\", \"mexico\", \"//t.co/u7ag9ialry\", \"btsgrammynomeation\", \"\\ud83d\\ude02\\ud83d\\ude02\\ud83d\\ude02\\u2764\\u2764\\u2764\", \"//t.co/8qvuviylve\", \"please\\ud83e\\udd7a\\ud83d\\udc9c\", \"btsmexico\", \"latinxheritagemonth\", \"collab\", \"considering\", \"latin\", \"tweet\", \"bts_be\", \"party\", \"tomorrow\", \"maybe\", \"lifegoeson\", \"song.pretty\", \"considels\", \"anyone\", \"reggeaton\", \"pleaseee\", \"bts_dynamite\", \"btsarmy\", \"bts_twt\", \"bestfanarmy\", \"votes\", \"independence\", \"suggestion\", \"playlist\", \"dominicanindependenceteday\", \"hugs\", \"flavor\\ud83d\\ude18\", \"case\", \"\\ud83c\\udf3c\\ud83c\\udde9\\ud83c\\uddf4\\ud83c\\udf3c\", \"btsgrammy\", \"music\", \"destination\", \"mexico\", \"//t.co/u7ag9ialry\", \"btsgrammynomeation\", \"\\ud83d\\ude02\\ud83d\\ude02\\ud83d\\ude02\\u2764\\u2764\\u2764\", \"//t.co/8qvuviylve\", \"please\\ud83e\\udd7a\\ud83d\\udc9c\", \"btsmexico\", \"latinxheritagemonth\", \"collab\", \"considering\", \"latin\", \"tweet\", \"bts_be\", \"party\", \"tomorrow\", \"maybe\", \"lifegoeson\", \"song.pretty\", \"considels\", \"anyone\", \"reggeaton\", \"pleaseee\", \"bts_dynamite\", \"btsarmy\", \"bts_twt\", \"bestfanarmy\", \"dominicanindependenceteday\", \"hugs\", \"suggestion\", \"playlist\", \"votes\", \"independence\", \"flavor\\ud83d\\ude18\", \"case\", \"\\ud83c\\udf3c\\ud83c\\udde9\\ud83c\\uddf4\\ud83c\\udf3c\", \"btsgrammy\", \"music\", \"destination\", \"mexico\", \"//t.co/u7ag9ialry\", \"btsgrammynomeation\", \"\\ud83d\\ude02\\ud83d\\ude02\\ud83d\\ude02\\u2764\\u2764\\u2764\", \"//t.co/8qvuviylve\", \"please\\ud83e\\udd7a\\ud83d\\udc9c\", \"btsmexico\", \"latinxheritagemonth\", \"collab\", \"considering\", \"latin\", \"tweet\", \"bts_be\", \"party\", \"tomorrow\", \"maybe\", \"lifegoeson\", \"song.pretty\", \"considels\", \"anyone\", \"reggeaton\", \"pleaseee\", \"bts_dynamite\", \"btsarmy\", \"bts_twt\", \"bestfanarmy\", \"playlist\", \"suggestion\", \"dominicanindependenceteday\", \"hugs\", \"votes\", \"independence\", \"flavor\\ud83d\\ude18\", \"case\", \"\\ud83c\\udf3c\\ud83c\\udde9\\ud83c\\uddf4\\ud83c\\udf3c\", \"btsgrammy\", \"music\", \"destination\", \"mexico\", \"//t.co/u7ag9ialry\", \"btsgrammynomeation\", \"\\ud83d\\ude02\\ud83d\\ude02\\ud83d\\ude02\\u2764\\u2764\\u2764\", \"//t.co/8qvuviylve\", \"please\\ud83e\\udd7a\\ud83d\\udc9c\", \"btsmexico\", \"latinxheritagemonth\", \"collab\", \"considering\", \"latin\", \"tweet\", \"bts_be\", \"party\", \"tomorrow\", \"maybe\", \"lifegoeson\", \"song.pretty\", \"anyone\", \"reggeaton\", \"pleaseee\", \"bts_dynamite\", \"btsarmy\", \"bts_twt\", \"considels\", \"bestfanarmy\", \"suggestion\", \"playlist\", \"dominicanindependenceteday\", \"hugs\", \"votes\", \"independence\", \"flavor\\ud83d\\ude18\", \"case\", \"\\ud83c\\udf3c\\ud83c\\udde9\\ud83c\\uddf4\\ud83c\\udf3c\", \"btsgrammy\", \"music\", \"destination\", \"mexico\", \"//t.co/u7ag9ialry\", \"btsgrammynomeation\", \"\\ud83d\\ude02\\ud83d\\ude02\\ud83d\\ude02\\u2764\\u2764\\u2764\", \"//t.co/8qvuviylve\", \"please\\ud83e\\udd7a\\ud83d\\udc9c\", \"btsmexico\", \"latinxheritagemonth\", \"collab\", \"considering\", \"latin\", \"tweet\", \"bts_be\", \"party\", \"tomorrow\", \"maybe\", \"lifegoeson\", \"song.pretty\", \"anyone\", \"reggeaton\", \"pleaseee\", \"bts_dynamite\", \"btsarmy\", \"bts_twt\", \"considels\", \"bestfanarmy\", \"suggestion\", \"playlist\", \"dominicanindependenceteday\", \"hugs\", \"votes\", \"independence\", \"flavor\\ud83d\\ude18\", \"case\", \"\\ud83c\\udf3c\\ud83c\\udde9\\ud83c\\uddf4\\ud83c\\udf3c\", \"btsgrammy\", \"music\", \"destination\", \"mexico\", \"//t.co/u7ag9ialry\", \"btsgrammynomeation\", \"\\ud83d\\ude02\\ud83d\\ude02\\ud83d\\ude02\\u2764\\u2764\\u2764\", \"//t.co/8qvuviylve\", \"please\\ud83e\\udd7a\\ud83d\\udc9c\", \"btsmexico\", \"latinxheritagemonth\", \"collab\", \"considering\", \"latin\", \"tweet\", \"bts_be\", \"party\", \"tomorrow\", \"maybe\", \"lifegoeson\", \"song.pretty\", \"anyone\", \"reggeaton\", \"pleaseee\", \"bts_dynamite\", \"btsarmy\", \"bts_twt\", \"considels\", \"bestfanarmy\", \"suggestion\", \"playlist\", \"dominicanindependenceteday\", \"hugs\", \"votes\", \"independence\", \"flavor\\ud83d\\ude18\", \"case\", \"\\ud83c\\udf3c\\ud83c\\udde9\\ud83c\\uddf4\\ud83c\\udf3c\", \"btsgrammy\", \"music\", \"destination\", \"mexico\", \"//t.co/u7ag9ialry\", \"btsgrammynomeation\", \"\\ud83d\\ude02\\ud83d\\ude02\\ud83d\\ude02\\u2764\\u2764\\u2764\", \"//t.co/8qvuviylve\", \"please\\ud83e\\udd7a\\ud83d\\udc9c\", \"btsmexico\", \"latinxheritagemonth\", \"collab\", \"considering\", \"latin\", \"tweet\", \"bts_be\", \"party\", \"tomorrow\", \"maybe\", \"lifegoeson\", \"song.pretty\", \"anyone\", \"reggeaton\", \"pleaseee\", \"bts_dynamite\", \"btsarmy\", \"bts_twt\", \"considels\", \"bestfanarmy\", \"suggestion\", \"playlist\", \"dominicanindependenceteday\", \"hugs\", \"votes\", \"independence\", \"flavor\\ud83d\\ude18\", \"case\", \"\\ud83c\\udf3c\\ud83c\\udde9\\ud83c\\uddf4\\ud83c\\udf3c\", \"btsgrammy\", \"music\", \"destination\", \"mexico\", \"//t.co/u7ag9ialry\", \"btsgrammynomeation\", \"\\ud83d\\ude02\\ud83d\\ude02\\ud83d\\ude02\\u2764\\u2764\\u2764\", \"//t.co/8qvuviylve\", \"please\\ud83e\\udd7a\\ud83d\\udc9c\", \"btsmexico\", \"latinxheritagemonth\", \"collab\", \"considering\", \"latin\", \"tweet\", \"bts_be\", \"party\", \"tomorrow\", \"maybe\", \"lifegoeson\", \"song.pretty\", \"anyone\", \"reggeaton\", \"pleaseee\", \"bts_dynamite\", \"btsarmy\", \"bts_twt\", \"considels\", \"bestfanarmy\", \"suggestion\", \"playlist\", \"dominicanindependenceteday\", \"hugs\", \"votes\", \"independence\", \"flavor\\ud83d\\ude18\", \"case\", \"\\ud83c\\udf3c\\ud83c\\udde9\\ud83c\\uddf4\\ud83c\\udf3c\", \"btsgrammy\", \"music\", \"destination\", \"mexico\", \"//t.co/u7ag9ialry\", \"btsgrammynomeation\", \"\\ud83d\\ude02\\ud83d\\ude02\\ud83d\\ude02\\u2764\\u2764\\u2764\", \"//t.co/8qvuviylve\", \"please\\ud83e\\udd7a\\ud83d\\udc9c\", \"btsmexico\", \"latinxheritagemonth\", \"collab\", \"considering\", \"latin\", \"tweet\", \"bts_be\", \"party\", \"tomorrow\", \"maybe\", \"lifegoeson\", \"song.pretty\", \"anyone\", \"reggeaton\", \"pleaseee\", \"bts_dynamite\", \"btsarmy\", \"bts_twt\", \"considels\", \"bestfanarmy\", \"suggestion\", \"playlist\", \"dominicanindependenceteday\", \"hugs\", \"votes\", \"independence\", \"flavor\\ud83d\\ude18\", \"case\", \"\\ud83c\\udf3c\\ud83c\\udde9\\ud83c\\uddf4\\ud83c\\udf3c\", \"btsgrammy\", \"music\", \"destination\", \"mexico\", \"//t.co/u7ag9ialry\", \"btsgrammynomeation\", \"\\ud83d\\ude02\\ud83d\\ude02\\ud83d\\ude02\\u2764\\u2764\\u2764\", \"//t.co/8qvuviylve\", \"please\\ud83e\\udd7a\\ud83d\\udc9c\", \"btsmexico\", \"latinxheritagemonth\", \"collab\", \"considering\", \"latin\", \"tweet\", \"bts_be\", \"party\", \"tomorrow\", \"maybe\", \"lifegoeson\", \"song.pretty\", \"anyone\", \"reggeaton\", \"pleaseee\", \"bts_dynamite\", \"btsarmy\", \"bts_twt\", \"considels\", \"bestfanarmy\", \"suggestion\", \"playlist\", \"dominicanindependenceteday\", \"hugs\", \"votes\", \"independence\", \"flavor\\ud83d\\ude18\", \"case\", \"\\ud83c\\udf3c\\ud83c\\udde9\\ud83c\\uddf4\\ud83c\\udf3c\", \"btsgrammy\", \"music\", \"destination\", \"mexico\", \"//t.co/u7ag9ialry\", \"btsgrammynomeation\", \"\\ud83d\\ude02\\ud83d\\ude02\\ud83d\\ude02\\u2764\\u2764\\u2764\", \"//t.co/8qvuviylve\", \"please\\ud83e\\udd7a\\ud83d\\udc9c\", \"btsmexico\", \"latinxheritagemonth\", \"collab\", \"considering\", \"latin\", \"tweet\", \"bts_be\", \"party\", \"tomorrow\", \"maybe\", \"lifegoeson\", \"song.pretty\", \"anyone\", \"reggeaton\", \"pleaseee\", \"bts_dynamite\", \"btsarmy\", \"bts_twt\", \"considels\", \"bestfanarmy\", \"suggestion\", \"playlist\", \"dominicanindependenceteday\", \"hugs\", \"votes\", \"independence\", \"flavor\\ud83d\\ude18\", \"case\", \"\\ud83c\\udf3c\\ud83c\\udde9\\ud83c\\uddf4\\ud83c\\udf3c\", \"btsgrammy\", \"music\", \"destination\", \"mexico\", \"//t.co/u7ag9ialry\", \"btsgrammynomeation\", \"\\ud83d\\ude02\\ud83d\\ude02\\ud83d\\ude02\\u2764\\u2764\\u2764\", \"//t.co/8qvuviylve\", \"please\\ud83e\\udd7a\\ud83d\\udc9c\", \"btsmexico\", \"latinxheritagemonth\", \"collab\", \"considering\", \"latin\", \"tweet\", \"bts_be\", \"party\", \"tomorrow\", \"maybe\", \"lifegoeson\", \"song.pretty\", \"anyone\", \"reggeaton\", \"pleaseee\", \"bts_dynamite\", \"btsarmy\", \"bts_twt\", \"considels\", \"bestfanarmy\", \"suggestion\", \"playlist\", \"dominicanindependenceteday\", \"hugs\", \"votes\", \"independence\", \"flavor\\ud83d\\ude18\", \"case\", \"\\ud83c\\udf3c\\ud83c\\udde9\\ud83c\\uddf4\\ud83c\\udf3c\", \"btsgrammy\", \"music\", \"destination\", \"mexico\", \"//t.co/u7ag9ialry\", \"btsgrammynomeation\", \"\\ud83d\\ude02\\ud83d\\ude02\\ud83d\\ude02\\u2764\\u2764\\u2764\", \"//t.co/8qvuviylve\", \"please\\ud83e\\udd7a\\ud83d\\udc9c\", \"btsmexico\", \"latinxheritagemonth\", \"collab\", \"considering\", \"latin\", \"tweet\", \"bts_be\", \"party\", \"tomorrow\", \"maybe\", \"lifegoeson\", \"song.pretty\", \"anyone\", \"reggeaton\", \"pleaseee\", \"bts_dynamite\", \"btsarmy\", \"bts_twt\", \"considels\", \"bestfanarmy\", \"suggestion\", \"playlist\", \"dominicanindependenceteday\", \"hugs\", \"votes\", \"independence\", \"flavor\\ud83d\\ude18\", \"case\", \"\\ud83c\\udf3c\\ud83c\\udde9\\ud83c\\uddf4\\ud83c\\udf3c\", \"btsgrammy\", \"music\", \"destination\", \"mexico\", \"//t.co/u7ag9ialry\", \"btsgrammynomeation\", \"\\ud83d\\ude02\\ud83d\\ude02\\ud83d\\ude02\\u2764\\u2764\\u2764\", \"//t.co/8qvuviylve\", \"please\\ud83e\\udd7a\\ud83d\\udc9c\", \"btsmexico\", \"latinxheritagemonth\", \"collab\", \"considering\", \"latin\", \"tweet\", \"bts_be\", \"party\", \"tomorrow\", \"maybe\", \"lifegoeson\", \"song.pretty\", \"anyone\", \"reggeaton\", \"pleaseee\", \"bts_dynamite\", \"btsarmy\", \"bts_twt\", \"considels\", \"bestfanarmy\"], \"Freq\": [3.0, 3.0, 2.0, 2.0, 1.0, 1.0, 1.0, 1.0, 1.0, 1.0, 1.0, 1.0, 1.0, 1.0, 1.0, 1.0, 1.0, 1.0, 1.0, 1.0, 1.0, 1.0, 1.0, 1.0, 1.0, 1.0, 1.0, 1.0, 1.0, 1.0, 3.86282918247587, 3.86282918247587, 1.9362309321347682, 0.9729318958889411, 0.9729318958889411, 0.009632989556577959, 0.009632989556577959, 0.009632989556577959, 0.009632989556577959, 0.009632989556577959, 0.009632989556577959, 0.009632989556577959, 0.009632989556577959, 0.009632989556577959, 0.009632989556577959, 0.009632989556577959, 0.009632989556577959, 0.009632989556577959, 0.009632989556577959, 0.009632989556577959, 0.009632989556577959, 0.009632989556577959, 0.009632989556577959, 0.009632989556577959, 0.009632989556577959, 0.009632989556577959, 0.009632989556577959, 0.009632989556577959, 0.009632989556577959, 0.009632989556577959, 0.009632989556577959, 0.009632989556577959, 0.009632989556577959, 0.009632989556577959, 0.009632989556577959, 0.009632989556577959, 0.009632989556577959, 0.9509103429948621, 0.9509103429948621, 0.9509103429948621, 0.9509103429948621, 0.9509103429948621, 0.9509103429948621, 0.009414954092135351, 0.009414954092135351, 0.009414954092135351, 0.009414954092135351, 0.009414954092135351, 0.009414954092135351, 0.009414954092135351, 0.009414954092135351, 0.009414954092135351, 0.009414954092135351, 0.009414954092135351, 0.009414954092135351, 0.009414954092135351, 0.009414954092135351, 0.009414954092135351, 0.009414954092135351, 0.009414954092135351, 0.009414954092135351, 0.009414954092135351, 0.009414954092135351, 0.009414954092135351, 0.009414954092135351, 0.009414954092135351, 0.009414954092135351, 0.009414954092135351, 0.009414954092135351, 0.009414954092135351, 0.009414954092135351, 0.009414954092135351, 0.009414954092135351, 0.009414954092135351, 0.009414954092135351, 2.810011628168679, 0.9428941960866104, 0.9428941960866104, 0.9428941960866104, 0.0093355862992693, 0.0093355862992693, 0.0093355862992693, 0.0093355862992693, 0.0093355862992693, 0.0093355862992693, 0.0093355862992693, 0.0093355862992693, 0.0093355862992693, 0.0093355862992693, 0.0093355862992693, 0.0093355862992693, 0.0093355862992693, 0.0093355862992693, 0.0093355862992693, 0.0093355862992693, 0.0093355862992693, 0.0093355862992693, 0.0093355862992693, 0.0093355862992693, 0.0093355862992693, 0.0093355862992693, 0.0093355862992693, 0.0093355862992693, 0.0093355862992693, 0.0093355862992693, 0.0093355862992693, 0.0093355862992693, 0.0093355862992693, 0.0093355862992693, 0.0093355862992693, 0.0093355862992693, 0.0093355862992693, 0.944674273321165, 0.944674273321165, 0.944674273321165, 0.944674273321165, 0.944674273321165, 0.009353210225994906, 0.009353210225994906, 0.009353210225994906, 0.009353210225994906, 0.009353210225994906, 0.009353210225994906, 0.009353210225994906, 0.009353210225994906, 0.009353210225994906, 0.009353210225994906, 0.009353210225994906, 0.009353210225994906, 0.009353210225994906, 0.009353210225994906, 0.009353210225994906, 0.009353210225994906, 0.009353210225994906, 0.009353210225994906, 0.009353210225994906, 0.009353210225994906, 0.009353210225994906, 0.009353210225994906, 0.009353210225994906, 0.009353210225994906, 0.009353210225994906, 0.009353210225994906, 0.009353210225994906, 0.009353210225994906, 0.009353210225994906, 0.009353210225994906, 0.009353210225994906, 0.009353210225994906, 0.009353210225994906, 0.9423442970342446, 0.9423442970342446, 0.9423442970342446, 0.9423442970342446, 0.9423442970342446, 0.009330141154836089, 0.009330141154836089, 0.009330141154836089, 0.009330141154836089, 0.009330141154836089, 0.009330141154836089, 0.009330141154836089, 0.009330141154836089, 0.009330141154836089, 0.009330141154836089, 0.009330141154836089, 0.009330141154836089, 0.009330141154836089, 0.009330141154836089, 0.009330141154836089, 0.009330141154836089, 0.009330141154836089, 0.009330141154836089, 0.009330141154836089, 0.009330141154836089, 0.009330141154836089, 0.009330141154836089, 0.009330141154836089, 0.009330141154836089, 0.009330141154836089, 0.009330141154836089, 0.009330141154836089, 0.009330141154836089, 0.009330141154836089, 0.009330141154836089, 0.009330141154836089, 0.009330141154836089, 0.009330141154836089, 1.870721401891814, 1.870721401891814, 0.9400143025977642, 0.009307071903978666, 0.009307071903978666, 0.009307071903978666, 0.009307071903978666, 0.009307071903978666, 0.009307071903978666, 0.009307071903978666, 0.009307071903978666, 0.009307071903978666, 0.009307071903978666, 0.009307071903978666, 0.009307071903978666, 0.009307071903978666, 0.009307071903978666, 0.009307071903978666, 0.009307071903978666, 0.009307071903978666, 0.009307071903978666, 0.009307071903978666, 0.009307071903978666, 0.009307071903978666, 0.009307071903978666, 0.009307071903978666, 0.009307071903978666, 0.009307071903978666, 0.009307071903978666, 0.009307071903978666, 0.009307071903978666, 0.009307071903978666, 0.009307071903978666, 0.009307071903978666, 0.009307071903978666, 0.009307071903978666, 0.931317244276157, 0.931317244276157, 0.931317244276157, 0.931317244276157, 0.931317244276157, 0.009220962419337207, 0.009220962419337207, 0.009220962419337207, 0.009220962419337207, 0.009220962419337207, 0.009220962419337207, 0.009220962419337207, 0.009220962419337207, 0.009220962419337207, 0.009220962419337207, 0.009220962419337207, 0.009220962419337207, 0.009220962419337207, 0.009220962419337207, 0.009220962419337207, 0.009220962419337207, 0.009220962419337207, 0.009220962419337207, 0.009220962419337207, 0.009220962419337207, 0.009220962419337207, 0.009220962419337207, 0.009220962419337207, 0.009220962419337207, 0.009220962419337207, 0.009220962419337207, 0.009220962419337207, 0.009220962419337207, 0.009220962419337207, 0.009220962419337207, 0.009220962419337207, 0.009220962419337207, 0.009220962419337207, 0.8689083235345243, 0.8689083235345243, 0.008603052736702022, 0.008603052736702022, 0.008603052736702022, 0.008603052736702022, 0.008603052736702022, 0.008603052736702022, 0.008603052736702022, 0.008603052736702022, 0.008603052736702022, 0.008603052736702022, 0.008603052736702022, 0.008603052736702022, 0.008603052736702022, 0.008603052736702022, 0.008603052736702022, 0.008603052736702022, 0.008603052736702022, 0.008603052736702022, 0.008603052736702022, 0.008603052736702022, 0.008603052736702022, 0.008603052736702022, 0.008603052736702022, 0.008603052736702022, 0.008603052736702022, 0.008603052736702022, 0.008603052736702022, 0.008603052736702022, 0.008603052736702022, 0.008603052736702022, 0.008603052736702022, 0.008603052736702022, 0.008603052736702022, 0.008603052736702022, 0.008603052736702022, 0.008603052736702022, 0.8087827668426264, 0.8087827668426264, 0.00800775019323017, 0.00800775019323017, 0.00800775019323017, 0.00800775019323017, 0.00800775019323017, 0.00800775019323017, 0.00800775019323017, 0.00800775019323017, 0.00800775019323017, 0.00800775019323017, 0.00800775019323017, 0.00800775019323017, 0.00800775019323017, 0.00800775019323017, 0.00800775019323017, 0.00800775019323017, 0.00800775019323017, 0.00800775019323017, 0.00800775019323017, 0.00800775019323017, 0.00800775019323017, 0.00800775019323017, 0.00800775019323017, 0.00800775019323017, 0.00800775019323017, 0.00800775019323017, 0.00800775019323017, 0.00800775019323017, 0.00800775019323017, 0.00800775019323017, 0.00800775019323017, 0.00800775019323017, 0.00800775019323017, 0.00800775019323017, 0.00800775019323017, 0.00800775019323017, 0.7515480070299781, 0.007441069042726274, 0.007441069042726274, 0.007441069042726274, 0.007441069042726274, 0.007441069042726274, 0.007441069042726274, 0.007441069042726274, 0.007441069042726274, 0.007441069042726274, 0.007441069042726274, 0.007441069042726274, 0.007441069042726274, 0.007441069042726274, 0.007441069042726274, 0.007441069042726274, 0.007441069042726274, 0.007441069042726274, 0.007441069042726274, 0.007441069042726274, 0.007441069042726274, 0.007441069042726274, 0.007441069042726274, 0.007441069042726274, 0.007441069042726274, 0.007441069042726274, 0.007441069042726274, 0.007441069042726274, 0.007441069042726274, 0.007441069042726274, 0.007441069042726274, 0.007441069042726274, 0.007441069042726274, 0.007441069042726274, 0.007441069042726274, 0.007441069042726274, 0.007441069042726274, 0.007441069042726274, 0.7425127372668243, 0.007351610930272517, 0.007351610930272517, 0.007351610930272517, 0.007351610930272517, 0.007351610930272517, 0.007351610930272517, 0.007351610930272517, 0.007351610930272517, 0.007351610930272517, 0.007351610930272517, 0.007351610930272517, 0.007351610930272517, 0.007351610930272517, 0.007351610930272517, 0.007351610930272517, 0.007351610930272517, 0.007351610930272517, 0.007351610930272517, 0.007351610930272517, 0.007351610930272517, 0.007351610930272517, 0.007351610930272517, 0.007351610930272517, 0.007351610930272517, 0.007351610930272517, 0.007351610930272517, 0.007351610930272517, 0.007351610930272517, 0.007351610930272517, 0.007351610930272517, 0.007351610930272517, 0.007351610930272517, 0.007351610930272517, 0.007351610930272517, 0.007351610930272517, 0.007351610930272517, 0.007351610930272517, 8.642158490779606e-08, 8.642158490779606e-08, 8.642158490779606e-08, 8.642158490779606e-08, 8.642158490779606e-08, 8.642158490779606e-08, 8.642158490779606e-08, 8.642158490779606e-08, 8.642158490779606e-08, 8.642158490779606e-08, 8.642158490779606e-08, 8.642158490779606e-08, 8.642158490779606e-08, 8.642158490779606e-08, 8.642158490779606e-08, 8.642158490779606e-08, 8.642158490779606e-08, 8.642158490779606e-08, 8.642158490779606e-08, 8.642158490779606e-08, 8.642158490779606e-08, 8.642158490779606e-08, 8.642158490779606e-08, 8.642158490779606e-08, 8.642158490779606e-08, 8.642158490779606e-08, 8.642158490779606e-08, 8.642158490779606e-08, 8.642158490779606e-08, 8.642158490779606e-08, 8.642158490779606e-08, 8.642158490779606e-08, 8.642158490779606e-08, 8.642158490779606e-08, 8.642158490779606e-08, 8.642158490779606e-08, 8.642158490779606e-08, 8.642158490779606e-08, 8.642158490779606e-08, 8.642158490779606e-08, 8.642158490779606e-08, 8.642158490779606e-08, 8.642158490779606e-08, 8.642158490779606e-08, 8.642158490779606e-08, 8.642158490779606e-08, 8.642158490779606e-08, 8.642158490779606e-08, 8.642158490779606e-08, 8.642158490779606e-08, 8.642158490779606e-08, 8.642158490779606e-08, 8.642158490779606e-08, 8.642158490779606e-08, 8.642158490779606e-08, 8.642158490779606e-08, 8.642158490779606e-08, 8.642158490779606e-08, 8.642158490779606e-08, 8.642158490779606e-08, 8.642158490779606e-08, 8.642158490779606e-08, 8.642158490779606e-08, 8.642158490779606e-08, 8.642158490779606e-08, 8.642158490779606e-08, 8.642158490779606e-08, 8.642158490779606e-08, 8.642158490779606e-08, 8.642158490779606e-08, 8.642158490779606e-08, 8.642158490779606e-08, 8.642158490779606e-08, 8.642158490779606e-08, 8.642158490779606e-08, 8.642158490779606e-08, 8.642158490779606e-08, 8.642158490779606e-08, 8.642158490779606e-08, 8.642158490779606e-08, 8.642158490779606e-08, 8.642158490779606e-08, 8.642158490779606e-08, 8.642158490779606e-08, 8.642158490779606e-08, 8.642158490779606e-08, 8.642158490779606e-08, 8.642158490779606e-08, 8.642158490779606e-08, 8.642158490779606e-08, 8.642158490779606e-08, 8.642158490779606e-08, 8.642158490779606e-08, 8.642158490779606e-08, 8.642158490779606e-08, 8.642158490779606e-08, 8.642158490779606e-08, 8.642158490779606e-08, 8.642158490779606e-08, 8.642158490779606e-08, 8.642158490779606e-08, 8.642158490779606e-08, 8.642158490779606e-08, 8.642158490779606e-08, 8.642158490779606e-08, 8.642158490779606e-08, 8.642158490779606e-08, 8.642158490779606e-08, 8.642158490779606e-08, 8.642158490779606e-08, 8.642158490779606e-08, 8.642158490779606e-08, 8.642158490779606e-08, 8.642158490779606e-08, 8.642158490779606e-08, 8.642158490779606e-08, 8.642158490779606e-08, 8.642158490779606e-08, 8.642158490779606e-08, 8.642158490779606e-08, 8.642158490779606e-08, 8.642158490779606e-08, 8.642158490779606e-08, 8.642158490779606e-08, 8.642158490779606e-08, 8.642158490779606e-08, 8.642158490779606e-08, 8.642158490779606e-08, 8.642158490779606e-08, 8.642158490779606e-08, 8.642158490779606e-08, 8.642158490779606e-08, 8.642158490779606e-08, 8.642158490779606e-08, 8.642158490779606e-08, 8.642158490779606e-08, 8.642158490779606e-08, 8.642158490779606e-08, 8.642158490779606e-08, 8.642158490779606e-08, 8.642158490779606e-08, 8.642158490779606e-08, 8.642158490779606e-08, 8.642158490779606e-08, 8.642158490779606e-08, 8.642158490779606e-08, 8.642158490779606e-08, 8.642158490779606e-08, 8.642158490779606e-08, 8.642158490779606e-08, 8.642158490779606e-08, 8.642158490779606e-08, 8.642158490779606e-08, 8.642158490779606e-08, 8.642158490779606e-08, 8.642158490779606e-08, 8.642158490779606e-08, 8.642158490779606e-08, 8.642158490779606e-08, 8.642158490779606e-08, 8.642158490779606e-08, 8.642158490779606e-08, 8.642158490779606e-08, 8.642158490779606e-08, 8.642158490779606e-08, 8.642158490779606e-08, 8.642158490779606e-08, 8.642158490779606e-08, 8.642158490779606e-08, 8.642158490779606e-08, 8.642158490779606e-08, 8.642158490779606e-08, 8.642158490779606e-08, 8.642158490779606e-08, 8.642158490779606e-08, 8.642158490779606e-08, 8.642158490779606e-08, 8.642158490779606e-08, 8.642158490779606e-08, 8.642158490779606e-08, 8.642158490779606e-08, 8.642158490779606e-08, 8.642158490779606e-08, 8.642158490779606e-08, 8.642158490779606e-08, 8.642158490779606e-08, 8.642158490779606e-08, 8.642158490779606e-08, 8.642158490779606e-08, 8.642158490779606e-08, 8.642158490779606e-08, 8.642158490779606e-08, 8.642158490779606e-08, 8.642158490779606e-08, 8.642158490779606e-08, 8.642158490779606e-08, 8.642158490779606e-08, 8.642158490779606e-08, 8.642158490779606e-08, 8.642158490779606e-08, 8.642158490779606e-08, 8.642158490779606e-08, 8.642158490779606e-08, 8.642158490779606e-08, 8.642158490779606e-08, 8.642158490779606e-08, 8.642158490779606e-08, 8.642158490779606e-08, 8.642158490779606e-08, 8.642158490779606e-08, 8.642158490779606e-08, 8.642158490779606e-08, 8.642158490779606e-08, 8.642158490779606e-08, 8.642158490779606e-08, 8.642158490779606e-08, 8.642158490779606e-08, 8.642158490779606e-08, 8.642158490779606e-08, 8.642158490779606e-08, 8.642158490779606e-08, 8.642158490779606e-08, 8.642158490779606e-08, 8.642158490779606e-08, 8.642158490779606e-08, 8.642158490779606e-08, 8.642158490779606e-08, 8.642158490779606e-08, 8.642158490779606e-08, 8.642158490779606e-08, 8.642158490779606e-08, 8.642158490779606e-08, 8.642158490779606e-08, 8.642158490779606e-08, 8.642158490779606e-08, 8.642158490779606e-08, 8.642158490779606e-08, 8.642158490779606e-08, 8.642158490779606e-08, 8.642158490779606e-08, 8.642158490779606e-08, 8.642158490779606e-08, 8.642158490779606e-08, 8.642158490779606e-08, 8.642158490779606e-08, 8.642158490779606e-08, 8.642158490779606e-08, 8.642158490779606e-08, 8.642158490779606e-08, 8.642158490779606e-08, 8.642158490779606e-08, 8.642158490779606e-08, 8.642158490779606e-08, 8.642158490779606e-08, 8.642158490779606e-08, 8.642158490779606e-08, 8.642158490779606e-08, 8.642158490779606e-08, 8.642158490779606e-08, 8.642158490779606e-08, 8.642158490779606e-08, 8.642158490779606e-08, 8.642158490779606e-08, 8.642158490779606e-08, 8.642158490779606e-08, 8.642158490779606e-08, 8.642158490779606e-08, 8.642158490779606e-08, 8.642158490779606e-08, 8.642158490779606e-08, 8.642158490779606e-08, 8.642158490779606e-08, 8.642158490779606e-08, 8.642158490779606e-08, 8.642158490779606e-08, 8.642158490779606e-08, 8.642158490779606e-08, 8.642158490779606e-08, 8.642158490779606e-08, 8.642158490779606e-08, 8.642158490779606e-08, 8.642158490779606e-08, 8.642158490779606e-08, 8.642158490779606e-08, 8.642158490779606e-08, 8.642158490779606e-08, 8.642158490779606e-08, 8.642158490779606e-08, 8.642158490779606e-08, 8.642158490779606e-08, 8.642158490779606e-08, 8.642158490779606e-08, 8.642158490779606e-08, 8.642158490779606e-08, 8.642158490779606e-08, 8.642158490779606e-08, 8.642158490779606e-08, 8.642158490779606e-08, 8.642158490779606e-08, 8.642158490779606e-08, 8.642158490779606e-08, 8.642158490779606e-08, 8.642158490779606e-08, 8.642158490779606e-08, 8.642158490779606e-08, 8.642158490779606e-08, 8.642158490779606e-08, 8.642158490779606e-08, 8.642158490779606e-08, 8.642158490779606e-08, 8.642158490779606e-08, 8.642158490779606e-08, 8.642158490779606e-08, 8.642158490779606e-08, 8.642158490779606e-08, 8.642158490779606e-08, 8.642158490779606e-08, 8.642158490779606e-08, 8.642158490779606e-08, 8.642158490779606e-08, 8.642158490779606e-08, 8.642158490779606e-08, 8.642158490779606e-08, 8.642158490779606e-08, 8.642158490779606e-08, 8.642158490779606e-08, 8.642158490779606e-08, 8.642158490779606e-08, 8.642158490779606e-08, 8.642158490779606e-08, 8.642158490779606e-08, 8.642158490779606e-08, 8.642158490779606e-08, 8.642158490779606e-08, 8.642158490779606e-08, 8.642158490779606e-08, 8.642158490779606e-08, 8.642158490779606e-08, 8.642158490779606e-08, 8.642158490779606e-08, 8.642158490779606e-08, 8.642158490779606e-08], \"Total\": [3.0, 3.0, 2.0, 2.0, 1.0, 1.0, 1.0, 1.0, 1.0, 1.0, 1.0, 1.0, 1.0, 1.0, 1.0, 1.0, 1.0, 1.0, 1.0, 1.0, 1.0, 1.0, 1.0, 1.0, 1.0, 1.0, 1.0, 1.0, 1.0, 1.0, 3.9501953692686174, 3.9501953692686174, 2.0235971189275155, 1.0602980826816886, 1.0602980826816886, 0.8321603026858763, 0.8411061143365763, 0.8977741929987206, 0.8977741929987206, 0.9573044471471467, 0.9573044471471467, 1.019095458206145, 1.019095458206145, 1.019095458206145, 1.019095458206145, 1.019095458206145, 1.0277064070431108, 1.0300133322287337, 1.0300133322287337, 1.0300133322287337, 1.0300133322287337, 1.0300133322287337, 1.0305577861366664, 1.0305577861366664, 1.0305577861366664, 1.0323202394444955, 1.0323202394444955, 1.0323202394444955, 1.0323202394444955, 1.0323202394444955, 2.897675218218735, 1.9584135063371604, 1.9584135063371604, 1.038494565252052, 1.038494565252052, 1.038494565252052, 1.038494565252052, 1.038494565252052, 1.038494565252052, 1.038494565252052, 1.038494565252052, 1.038494565252052, 1.038494565252052, 0.8321603026858763, 0.8411061143365763, 0.8977741929987206, 0.8977741929987206, 0.9573044471471467, 0.9573044471471467, 1.019095458206145, 1.019095458206145, 1.019095458206145, 1.019095458206145, 1.019095458206145, 1.0277064070431108, 1.0300133322287337, 1.0300133322287337, 1.0300133322287337, 1.0300133322287337, 1.0300133322287337, 1.0305577861366664, 1.0305577861366664, 1.0305577861366664, 1.0323202394444955, 1.0323202394444955, 1.0323202394444955, 1.0323202394444955, 1.9584135063371604, 2.0235971189275155, 1.0602980826816886, 1.9584135063371604, 2.897675218218735, 3.9501953692686174, 1.0602980826816886, 1.0323202394444955, 2.897675218218735, 1.0305577861366664, 1.0305577861366664, 1.0305577861366664, 0.8321603026858763, 0.8411061143365763, 0.8977741929987206, 0.8977741929987206, 0.9573044471471467, 0.9573044471471467, 1.019095458206145, 1.019095458206145, 1.019095458206145, 1.019095458206145, 1.019095458206145, 1.0277064070431108, 1.0300133322287337, 1.0300133322287337, 1.0300133322287337, 1.0300133322287337, 1.0300133322287337, 1.0323202394444955, 1.0323202394444955, 1.0323202394444955, 1.0323202394444955, 1.0323202394444955, 1.038494565252052, 1.038494565252052, 1.038494565252052, 1.038494565252052, 1.0602980826816886, 1.9584135063371604, 2.0235971189275155, 1.9584135063371604, 3.9501953692686174, 1.038494565252052, 1.0602980826816886, 1.0323202394444955, 1.0323202394444955, 1.0323202394444955, 1.0323202394444955, 1.0323202394444955, 0.8321603026858763, 0.8411061143365763, 0.8977741929987206, 0.8977741929987206, 0.9573044471471467, 0.9573044471471467, 1.019095458206145, 1.019095458206145, 1.019095458206145, 1.019095458206145, 1.019095458206145, 1.0277064070431108, 1.0300133322287337, 1.0300133322287337, 1.0300133322287337, 1.0300133322287337, 1.0300133322287337, 1.0305577861366664, 1.0305577861366664, 1.0305577861366664, 1.038494565252052, 1.038494565252052, 1.038494565252052, 1.038494565252052, 1.038494565252052, 1.038494565252052, 1.0602980826816886, 1.9584135063371604, 2.0235971189275155, 1.9584135063371604, 2.897675218218735, 3.9501953692686174, 1.0602980826816886, 1.0300133322287337, 1.0300133322287337, 1.0300133322287337, 1.0300133322287337, 1.0300133322287337, 0.8321603026858763, 0.8411061143365763, 0.8977741929987206, 0.8977741929987206, 0.9573044471471467, 0.9573044471471467, 1.019095458206145, 1.019095458206145, 1.019095458206145, 1.019095458206145, 1.019095458206145, 1.0277064070431108, 1.0305577861366664, 1.0305577861366664, 1.0305577861366664, 1.0323202394444955, 1.0323202394444955, 1.0323202394444955, 1.0323202394444955, 1.0323202394444955, 1.038494565252052, 1.038494565252052, 1.038494565252052, 1.038494565252052, 1.038494565252052, 1.0602980826816886, 1.038494565252052, 1.9584135063371604, 2.0235971189275155, 1.9584135063371604, 2.897675218218735, 3.9501953692686174, 1.0602980826816886, 1.9584135063371604, 1.9584135063371604, 1.0277064070431108, 0.8321603026858763, 0.8411061143365763, 0.8977741929987206, 0.8977741929987206, 0.9573044471471467, 0.9573044471471467, 1.019095458206145, 1.019095458206145, 1.019095458206145, 1.019095458206145, 1.019095458206145, 1.0300133322287337, 1.0300133322287337, 1.0300133322287337, 1.0300133322287337, 1.0300133322287337, 1.0305577861366664, 1.0305577861366664, 1.0305577861366664, 1.0323202394444955, 1.0323202394444955, 1.0323202394444955, 1.0323202394444955, 1.0323202394444955, 1.038494565252052, 1.038494565252052, 1.038494565252052, 1.038494565252052, 2.0235971189275155, 2.897675218218735, 3.9501953692686174, 1.0602980826816886, 1.0602980826816886, 1.019095458206145, 1.019095458206145, 1.019095458206145, 1.019095458206145, 1.019095458206145, 0.8321603026858763, 0.8411061143365763, 0.8977741929987206, 0.8977741929987206, 0.9573044471471467, 0.9573044471471467, 1.0277064070431108, 1.0300133322287337, 1.0300133322287337, 1.0300133322287337, 1.0300133322287337, 1.0300133322287337, 1.0305577861366664, 1.0305577861366664, 1.0305577861366664, 1.0323202394444955, 1.0323202394444955, 1.0323202394444955, 1.0323202394444955, 1.0323202394444955, 1.038494565252052, 1.038494565252052, 1.038494565252052, 1.038494565252052, 1.038494565252052, 1.0602980826816886, 1.038494565252052, 1.9584135063371604, 2.0235971189275155, 1.9584135063371604, 2.897675218218735, 3.9501953692686174, 1.0602980826816886, 0.9573044471471467, 0.9573044471471467, 0.8321603026858763, 0.8411061143365763, 0.8977741929987206, 0.8977741929987206, 1.019095458206145, 1.019095458206145, 1.019095458206145, 1.019095458206145, 1.019095458206145, 1.0277064070431108, 1.0300133322287337, 1.0300133322287337, 1.0300133322287337, 1.0300133322287337, 1.0300133322287337, 1.0305577861366664, 1.0305577861366664, 1.0305577861366664, 1.0323202394444955, 1.0323202394444955, 1.0323202394444955, 1.0323202394444955, 1.0323202394444955, 1.038494565252052, 1.038494565252052, 1.038494565252052, 1.038494565252052, 1.038494565252052, 1.0602980826816886, 1.038494565252052, 1.9584135063371604, 2.0235971189275155, 1.9584135063371604, 2.897675218218735, 3.9501953692686174, 1.0602980826816886, 0.8977741929987206, 0.8977741929987206, 0.8321603026858763, 0.8411061143365763, 0.9573044471471467, 0.9573044471471467, 1.019095458206145, 1.019095458206145, 1.019095458206145, 1.019095458206145, 1.019095458206145, 1.0277064070431108, 1.0300133322287337, 1.0300133322287337, 1.0300133322287337, 1.0300133322287337, 1.0300133322287337, 1.0305577861366664, 1.0305577861366664, 1.0305577861366664, 1.0323202394444955, 1.0323202394444955, 1.0323202394444955, 1.0323202394444955, 1.0323202394444955, 1.038494565252052, 1.038494565252052, 1.038494565252052, 1.038494565252052, 1.038494565252052, 1.0602980826816886, 1.038494565252052, 1.9584135063371604, 2.0235971189275155, 1.9584135063371604, 2.897675218218735, 3.9501953692686174, 1.0602980826816886, 0.8411061143365763, 0.8321603026858763, 0.8977741929987206, 0.8977741929987206, 0.9573044471471467, 0.9573044471471467, 1.019095458206145, 1.019095458206145, 1.019095458206145, 1.019095458206145, 1.019095458206145, 1.0277064070431108, 1.0300133322287337, 1.0300133322287337, 1.0300133322287337, 1.0300133322287337, 1.0300133322287337, 1.0305577861366664, 1.0305577861366664, 1.0305577861366664, 1.0323202394444955, 1.0323202394444955, 1.0323202394444955, 1.0323202394444955, 1.0323202394444955, 1.038494565252052, 1.038494565252052, 1.038494565252052, 1.038494565252052, 1.038494565252052, 1.038494565252052, 1.9584135063371604, 2.0235971189275155, 1.9584135063371604, 2.897675218218735, 3.9501953692686174, 1.0602980826816886, 1.0602980826816886, 0.8321603026858763, 0.8411061143365763, 0.8977741929987206, 0.8977741929987206, 0.9573044471471467, 0.9573044471471467, 1.019095458206145, 1.019095458206145, 1.019095458206145, 1.019095458206145, 1.019095458206145, 1.0277064070431108, 1.0300133322287337, 1.0300133322287337, 1.0300133322287337, 1.0300133322287337, 1.0300133322287337, 1.0305577861366664, 1.0305577861366664, 1.0305577861366664, 1.0323202394444955, 1.0323202394444955, 1.0323202394444955, 1.0323202394444955, 1.0323202394444955, 1.038494565252052, 1.038494565252052, 1.038494565252052, 1.038494565252052, 1.038494565252052, 1.038494565252052, 1.9584135063371604, 2.0235971189275155, 1.9584135063371604, 2.897675218218735, 3.9501953692686174, 1.0602980826816886, 1.0602980826816886, 0.8321603026858763, 0.8411061143365763, 0.8977741929987206, 0.8977741929987206, 0.9573044471471467, 0.9573044471471467, 1.019095458206145, 1.019095458206145, 1.019095458206145, 1.019095458206145, 1.019095458206145, 1.0277064070431108, 1.0300133322287337, 1.0300133322287337, 1.0300133322287337, 1.0300133322287337, 1.0300133322287337, 1.0305577861366664, 1.0305577861366664, 1.0305577861366664, 1.0323202394444955, 1.0323202394444955, 1.0323202394444955, 1.0323202394444955, 1.0323202394444955, 1.038494565252052, 1.038494565252052, 1.038494565252052, 1.038494565252052, 1.038494565252052, 1.038494565252052, 1.9584135063371604, 2.0235971189275155, 1.9584135063371604, 2.897675218218735, 3.9501953692686174, 1.0602980826816886, 1.0602980826816886, 0.8321603026858763, 0.8411061143365763, 0.8977741929987206, 0.8977741929987206, 0.9573044471471467, 0.9573044471471467, 1.019095458206145, 1.019095458206145, 1.019095458206145, 1.019095458206145, 1.019095458206145, 1.0277064070431108, 1.0300133322287337, 1.0300133322287337, 1.0300133322287337, 1.0300133322287337, 1.0300133322287337, 1.0305577861366664, 1.0305577861366664, 1.0305577861366664, 1.0323202394444955, 1.0323202394444955, 1.0323202394444955, 1.0323202394444955, 1.0323202394444955, 1.038494565252052, 1.038494565252052, 1.038494565252052, 1.038494565252052, 1.038494565252052, 1.038494565252052, 1.9584135063371604, 2.0235971189275155, 1.9584135063371604, 2.897675218218735, 3.9501953692686174, 1.0602980826816886, 1.0602980826816886, 0.8321603026858763, 0.8411061143365763, 0.8977741929987206, 0.8977741929987206, 0.9573044471471467, 0.9573044471471467, 1.019095458206145, 1.019095458206145, 1.019095458206145, 1.019095458206145, 1.019095458206145, 1.0277064070431108, 1.0300133322287337, 1.0300133322287337, 1.0300133322287337, 1.0300133322287337, 1.0300133322287337, 1.0305577861366664, 1.0305577861366664, 1.0305577861366664, 1.0323202394444955, 1.0323202394444955, 1.0323202394444955, 1.0323202394444955, 1.0323202394444955, 1.038494565252052, 1.038494565252052, 1.038494565252052, 1.038494565252052, 1.038494565252052, 1.038494565252052, 1.9584135063371604, 2.0235971189275155, 1.9584135063371604, 2.897675218218735, 3.9501953692686174, 1.0602980826816886, 1.0602980826816886, 0.8321603026858763, 0.8411061143365763, 0.8977741929987206, 0.8977741929987206, 0.9573044471471467, 0.9573044471471467, 1.019095458206145, 1.019095458206145, 1.019095458206145, 1.019095458206145, 1.019095458206145, 1.0277064070431108, 1.0300133322287337, 1.0300133322287337, 1.0300133322287337, 1.0300133322287337, 1.0300133322287337, 1.0305577861366664, 1.0305577861366664, 1.0305577861366664, 1.0323202394444955, 1.0323202394444955, 1.0323202394444955, 1.0323202394444955, 1.0323202394444955, 1.038494565252052, 1.038494565252052, 1.038494565252052, 1.038494565252052, 1.038494565252052, 1.038494565252052, 1.9584135063371604, 2.0235971189275155, 1.9584135063371604, 2.897675218218735, 3.9501953692686174, 1.0602980826816886, 1.0602980826816886, 0.8321603026858763, 0.8411061143365763, 0.8977741929987206, 0.8977741929987206, 0.9573044471471467, 0.9573044471471467, 1.019095458206145, 1.019095458206145, 1.019095458206145, 1.019095458206145, 1.019095458206145, 1.0277064070431108, 1.0300133322287337, 1.0300133322287337, 1.0300133322287337, 1.0300133322287337, 1.0300133322287337, 1.0305577861366664, 1.0305577861366664, 1.0305577861366664, 1.0323202394444955, 1.0323202394444955, 1.0323202394444955, 1.0323202394444955, 1.0323202394444955, 1.038494565252052, 1.038494565252052, 1.038494565252052, 1.038494565252052, 1.038494565252052, 1.038494565252052, 1.9584135063371604, 2.0235971189275155, 1.9584135063371604, 2.897675218218735, 3.9501953692686174, 1.0602980826816886, 1.0602980826816886, 0.8321603026858763, 0.8411061143365763, 0.8977741929987206, 0.8977741929987206, 0.9573044471471467, 0.9573044471471467, 1.019095458206145, 1.019095458206145, 1.019095458206145, 1.019095458206145, 1.019095458206145, 1.0277064070431108, 1.0300133322287337, 1.0300133322287337, 1.0300133322287337, 1.0300133322287337, 1.0300133322287337, 1.0305577861366664, 1.0305577861366664, 1.0305577861366664, 1.0323202394444955, 1.0323202394444955, 1.0323202394444955, 1.0323202394444955, 1.0323202394444955, 1.038494565252052, 1.038494565252052, 1.038494565252052, 1.038494565252052, 1.038494565252052, 1.038494565252052, 1.9584135063371604, 2.0235971189275155, 1.9584135063371604, 2.897675218218735, 3.9501953692686174, 1.0602980826816886, 1.0602980826816886, 0.8321603026858763, 0.8411061143365763, 0.8977741929987206, 0.8977741929987206, 0.9573044471471467, 0.9573044471471467, 1.019095458206145, 1.019095458206145, 1.019095458206145, 1.019095458206145, 1.019095458206145, 1.0277064070431108, 1.0300133322287337, 1.0300133322287337, 1.0300133322287337, 1.0300133322287337, 1.0300133322287337, 1.0305577861366664, 1.0305577861366664, 1.0305577861366664, 1.0323202394444955, 1.0323202394444955, 1.0323202394444955, 1.0323202394444955, 1.0323202394444955, 1.038494565252052, 1.038494565252052, 1.038494565252052, 1.038494565252052, 1.038494565252052, 1.038494565252052, 1.9584135063371604, 2.0235971189275155, 1.9584135063371604, 2.897675218218735, 3.9501953692686174, 1.0602980826816886, 1.0602980826816886, 0.8321603026858763, 0.8411061143365763, 0.8977741929987206, 0.8977741929987206, 0.9573044471471467, 0.9573044471471467, 1.019095458206145, 1.019095458206145, 1.019095458206145, 1.019095458206145, 1.019095458206145, 1.0277064070431108, 1.0300133322287337, 1.0300133322287337, 1.0300133322287337, 1.0300133322287337, 1.0300133322287337, 1.0305577861366664, 1.0305577861366664, 1.0305577861366664, 1.0323202394444955, 1.0323202394444955, 1.0323202394444955, 1.0323202394444955, 1.0323202394444955, 1.038494565252052, 1.038494565252052, 1.038494565252052, 1.038494565252052, 1.038494565252052, 1.038494565252052, 1.9584135063371604, 2.0235971189275155, 1.9584135063371604, 2.897675218218735, 3.9501953692686174, 1.0602980826816886, 1.0602980826816886, 0.8321603026858763, 0.8411061143365763, 0.8977741929987206, 0.8977741929987206, 0.9573044471471467, 0.9573044471471467, 1.019095458206145, 1.019095458206145, 1.019095458206145, 1.019095458206145, 1.019095458206145, 1.0277064070431108, 1.0300133322287337, 1.0300133322287337, 1.0300133322287337, 1.0300133322287337, 1.0300133322287337, 1.0305577861366664, 1.0305577861366664, 1.0305577861366664, 1.0323202394444955, 1.0323202394444955, 1.0323202394444955, 1.0323202394444955, 1.0323202394444955, 1.038494565252052, 1.038494565252052, 1.038494565252052, 1.038494565252052, 1.038494565252052, 1.038494565252052, 1.9584135063371604, 2.0235971189275155, 1.9584135063371604, 2.897675218218735, 3.9501953692686174, 1.0602980826816886, 1.0602980826816886], \"Category\": [\"Default\", \"Default\", \"Default\", \"Default\", \"Default\", \"Default\", \"Default\", \"Default\", \"Default\", \"Default\", \"Default\", \"Default\", \"Default\", \"Default\", \"Default\", \"Default\", \"Default\", \"Default\", \"Default\", \"Default\", \"Default\", \"Default\", \"Default\", \"Default\", \"Default\", \"Default\", \"Default\", \"Default\", \"Default\", \"Default\", \"Topic1\", \"Topic1\", \"Topic1\", \"Topic1\", \"Topic1\", \"Topic1\", \"Topic1\", \"Topic1\", \"Topic1\", \"Topic1\", \"Topic1\", \"Topic1\", \"Topic1\", \"Topic1\", \"Topic1\", \"Topic1\", \"Topic1\", \"Topic1\", \"Topic1\", \"Topic1\", \"Topic1\", \"Topic1\", \"Topic1\", \"Topic1\", \"Topic1\", \"Topic1\", \"Topic1\", \"Topic1\", \"Topic1\", \"Topic1\", \"Topic1\", \"Topic1\", \"Topic1\", \"Topic1\", \"Topic1\", \"Topic1\", \"Topic1\", \"Topic2\", \"Topic2\", \"Topic2\", \"Topic2\", \"Topic2\", \"Topic2\", \"Topic2\", \"Topic2\", \"Topic2\", \"Topic2\", \"Topic2\", \"Topic2\", \"Topic2\", \"Topic2\", \"Topic2\", \"Topic2\", \"Topic2\", \"Topic2\", \"Topic2\", \"Topic2\", \"Topic2\", \"Topic2\", \"Topic2\", \"Topic2\", \"Topic2\", \"Topic2\", \"Topic2\", \"Topic2\", \"Topic2\", \"Topic2\", \"Topic2\", \"Topic2\", \"Topic2\", \"Topic2\", \"Topic2\", \"Topic2\", \"Topic2\", \"Topic2\", \"Topic3\", \"Topic3\", \"Topic3\", \"Topic3\", \"Topic3\", \"Topic3\", \"Topic3\", \"Topic3\", \"Topic3\", \"Topic3\", \"Topic3\", \"Topic3\", \"Topic3\", \"Topic3\", \"Topic3\", \"Topic3\", \"Topic3\", \"Topic3\", \"Topic3\", \"Topic3\", \"Topic3\", \"Topic3\", \"Topic3\", \"Topic3\", \"Topic3\", \"Topic3\", \"Topic3\", \"Topic3\", \"Topic3\", \"Topic3\", \"Topic3\", \"Topic3\", \"Topic3\", \"Topic3\", \"Topic3\", \"Topic3\", \"Topic3\", \"Topic4\", \"Topic4\", \"Topic4\", \"Topic4\", \"Topic4\", \"Topic4\", \"Topic4\", \"Topic4\", \"Topic4\", \"Topic4\", \"Topic4\", \"Topic4\", \"Topic4\", \"Topic4\", \"Topic4\", \"Topic4\", \"Topic4\", \"Topic4\", \"Topic4\", \"Topic4\", \"Topic4\", \"Topic4\", \"Topic4\", \"Topic4\", \"Topic4\", \"Topic4\", \"Topic4\", \"Topic4\", \"Topic4\", \"Topic4\", \"Topic4\", \"Topic4\", \"Topic4\", \"Topic4\", \"Topic4\", \"Topic4\", \"Topic4\", \"Topic4\", \"Topic5\", \"Topic5\", \"Topic5\", \"Topic5\", \"Topic5\", \"Topic5\", \"Topic5\", \"Topic5\", \"Topic5\", \"Topic5\", \"Topic5\", \"Topic5\", \"Topic5\", \"Topic5\", \"Topic5\", \"Topic5\", \"Topic5\", \"Topic5\", \"Topic5\", \"Topic5\", \"Topic5\", \"Topic5\", \"Topic5\", \"Topic5\", \"Topic5\", \"Topic5\", \"Topic5\", \"Topic5\", \"Topic5\", \"Topic5\", \"Topic5\", \"Topic5\", \"Topic5\", \"Topic5\", \"Topic5\", \"Topic5\", \"Topic5\", \"Topic5\", \"Topic6\", \"Topic6\", \"Topic6\", \"Topic6\", \"Topic6\", \"Topic6\", \"Topic6\", \"Topic6\", \"Topic6\", \"Topic6\", \"Topic6\", \"Topic6\", \"Topic6\", \"Topic6\", \"Topic6\", \"Topic6\", \"Topic6\", \"Topic6\", \"Topic6\", \"Topic6\", \"Topic6\", \"Topic6\", \"Topic6\", \"Topic6\", \"Topic6\", \"Topic6\", \"Topic6\", \"Topic6\", \"Topic6\", \"Topic6\", \"Topic6\", \"Topic6\", \"Topic6\", \"Topic6\", \"Topic6\", \"Topic6\", \"Topic7\", \"Topic7\", \"Topic7\", \"Topic7\", \"Topic7\", \"Topic7\", \"Topic7\", \"Topic7\", \"Topic7\", \"Topic7\", \"Topic7\", \"Topic7\", \"Topic7\", \"Topic7\", \"Topic7\", \"Topic7\", \"Topic7\", \"Topic7\", \"Topic7\", \"Topic7\", \"Topic7\", \"Topic7\", \"Topic7\", \"Topic7\", \"Topic7\", \"Topic7\", \"Topic7\", \"Topic7\", \"Topic7\", \"Topic7\", \"Topic7\", \"Topic7\", \"Topic7\", \"Topic7\", \"Topic7\", \"Topic7\", \"Topic7\", \"Topic7\", \"Topic8\", \"Topic8\", \"Topic8\", \"Topic8\", \"Topic8\", \"Topic8\", \"Topic8\", \"Topic8\", \"Topic8\", \"Topic8\", \"Topic8\", \"Topic8\", \"Topic8\", \"Topic8\", \"Topic8\", \"Topic8\", \"Topic8\", \"Topic8\", \"Topic8\", \"Topic8\", \"Topic8\", \"Topic8\", \"Topic8\", \"Topic8\", \"Topic8\", \"Topic8\", \"Topic8\", \"Topic8\", \"Topic8\", \"Topic8\", \"Topic8\", \"Topic8\", \"Topic8\", \"Topic8\", \"Topic8\", \"Topic8\", \"Topic8\", \"Topic8\", \"Topic9\", \"Topic9\", \"Topic9\", \"Topic9\", \"Topic9\", \"Topic9\", \"Topic9\", \"Topic9\", \"Topic9\", \"Topic9\", \"Topic9\", \"Topic9\", \"Topic9\", \"Topic9\", \"Topic9\", \"Topic9\", \"Topic9\", \"Topic9\", \"Topic9\", \"Topic9\", \"Topic9\", \"Topic9\", \"Topic9\", \"Topic9\", \"Topic9\", \"Topic9\", \"Topic9\", \"Topic9\", \"Topic9\", \"Topic9\", \"Topic9\", \"Topic9\", \"Topic9\", \"Topic9\", \"Topic9\", \"Topic9\", \"Topic9\", \"Topic9\", \"Topic10\", \"Topic10\", \"Topic10\", \"Topic10\", \"Topic10\", \"Topic10\", \"Topic10\", \"Topic10\", \"Topic10\", \"Topic10\", \"Topic10\", \"Topic10\", \"Topic10\", \"Topic10\", \"Topic10\", \"Topic10\", \"Topic10\", \"Topic10\", \"Topic10\", \"Topic10\", \"Topic10\", \"Topic10\", \"Topic10\", \"Topic10\", \"Topic10\", \"Topic10\", \"Topic10\", \"Topic10\", \"Topic10\", \"Topic10\", \"Topic10\", \"Topic10\", \"Topic10\", \"Topic10\", \"Topic10\", \"Topic10\", \"Topic10\", \"Topic10\", \"Topic11\", \"Topic11\", \"Topic11\", \"Topic11\", \"Topic11\", \"Topic11\", \"Topic11\", \"Topic11\", \"Topic11\", \"Topic11\", \"Topic11\", \"Topic11\", \"Topic11\", \"Topic11\", \"Topic11\", \"Topic11\", \"Topic11\", \"Topic11\", \"Topic11\", \"Topic11\", \"Topic11\", \"Topic11\", \"Topic11\", \"Topic11\", \"Topic11\", \"Topic11\", \"Topic11\", \"Topic11\", \"Topic11\", \"Topic11\", \"Topic11\", \"Topic11\", \"Topic11\", \"Topic11\", \"Topic11\", \"Topic11\", \"Topic11\", \"Topic11\", \"Topic12\", \"Topic12\", \"Topic12\", \"Topic12\", \"Topic12\", \"Topic12\", \"Topic12\", \"Topic12\", \"Topic12\", \"Topic12\", \"Topic12\", \"Topic12\", \"Topic12\", \"Topic12\", \"Topic12\", \"Topic12\", \"Topic12\", \"Topic12\", \"Topic12\", \"Topic12\", \"Topic12\", \"Topic12\", \"Topic12\", \"Topic12\", \"Topic12\", \"Topic12\", \"Topic12\", \"Topic12\", \"Topic12\", \"Topic12\", \"Topic12\", \"Topic12\", \"Topic12\", \"Topic12\", \"Topic12\", \"Topic12\", \"Topic12\", \"Topic12\", \"Topic13\", \"Topic13\", \"Topic13\", \"Topic13\", \"Topic13\", \"Topic13\", \"Topic13\", \"Topic13\", \"Topic13\", \"Topic13\", \"Topic13\", \"Topic13\", \"Topic13\", \"Topic13\", \"Topic13\", \"Topic13\", \"Topic13\", \"Topic13\", \"Topic13\", \"Topic13\", \"Topic13\", \"Topic13\", \"Topic13\", \"Topic13\", \"Topic13\", \"Topic13\", \"Topic13\", \"Topic13\", \"Topic13\", \"Topic13\", \"Topic13\", \"Topic13\", \"Topic13\", \"Topic13\", \"Topic13\", \"Topic13\", \"Topic13\", \"Topic13\", \"Topic14\", \"Topic14\", \"Topic14\", \"Topic14\", \"Topic14\", \"Topic14\", \"Topic14\", \"Topic14\", \"Topic14\", \"Topic14\", \"Topic14\", \"Topic14\", \"Topic14\", \"Topic14\", \"Topic14\", \"Topic14\", \"Topic14\", \"Topic14\", \"Topic14\", \"Topic14\", \"Topic14\", \"Topic14\", \"Topic14\", \"Topic14\", \"Topic14\", \"Topic14\", \"Topic14\", \"Topic14\", \"Topic14\", \"Topic14\", \"Topic14\", \"Topic14\", \"Topic14\", \"Topic14\", \"Topic14\", \"Topic14\", \"Topic14\", \"Topic14\", \"Topic15\", \"Topic15\", \"Topic15\", \"Topic15\", \"Topic15\", \"Topic15\", \"Topic15\", \"Topic15\", \"Topic15\", \"Topic15\", \"Topic15\", \"Topic15\", \"Topic15\", \"Topic15\", \"Topic15\", \"Topic15\", \"Topic15\", \"Topic15\", \"Topic15\", \"Topic15\", \"Topic15\", \"Topic15\", \"Topic15\", \"Topic15\", \"Topic15\", \"Topic15\", \"Topic15\", \"Topic15\", \"Topic15\", \"Topic15\", \"Topic15\", \"Topic15\", \"Topic15\", \"Topic15\", \"Topic15\", \"Topic15\", \"Topic15\", \"Topic15\", \"Topic16\", \"Topic16\", \"Topic16\", \"Topic16\", \"Topic16\", \"Topic16\", \"Topic16\", \"Topic16\", \"Topic16\", \"Topic16\", \"Topic16\", \"Topic16\", \"Topic16\", \"Topic16\", \"Topic16\", \"Topic16\", \"Topic16\", \"Topic16\", \"Topic16\", \"Topic16\", \"Topic16\", \"Topic16\", \"Topic16\", \"Topic16\", \"Topic16\", \"Topic16\", \"Topic16\", \"Topic16\", \"Topic16\", \"Topic16\", \"Topic16\", \"Topic16\", \"Topic16\", \"Topic16\", \"Topic16\", \"Topic16\", \"Topic16\", \"Topic16\", \"Topic17\", \"Topic17\", \"Topic17\", \"Topic17\", \"Topic17\", \"Topic17\", \"Topic17\", \"Topic17\", \"Topic17\", \"Topic17\", \"Topic17\", \"Topic17\", \"Topic17\", \"Topic17\", \"Topic17\", \"Topic17\", \"Topic17\", \"Topic17\", \"Topic17\", \"Topic17\", \"Topic17\", \"Topic17\", \"Topic17\", \"Topic17\", \"Topic17\", \"Topic17\", \"Topic17\", \"Topic17\", \"Topic17\", \"Topic17\", \"Topic17\", \"Topic17\", \"Topic17\", \"Topic17\", \"Topic17\", \"Topic17\", \"Topic17\", \"Topic17\", \"Topic18\", \"Topic18\", \"Topic18\", \"Topic18\", \"Topic18\", \"Topic18\", \"Topic18\", \"Topic18\", \"Topic18\", \"Topic18\", \"Topic18\", \"Topic18\", \"Topic18\", \"Topic18\", \"Topic18\", \"Topic18\", \"Topic18\", \"Topic18\", \"Topic18\", \"Topic18\", \"Topic18\", \"Topic18\", \"Topic18\", \"Topic18\", \"Topic18\", \"Topic18\", \"Topic18\", \"Topic18\", \"Topic18\", \"Topic18\", \"Topic18\", \"Topic18\", \"Topic18\", \"Topic18\", \"Topic18\", \"Topic18\", \"Topic18\", \"Topic18\", \"Topic19\", \"Topic19\", \"Topic19\", \"Topic19\", \"Topic19\", \"Topic19\", \"Topic19\", \"Topic19\", \"Topic19\", \"Topic19\", \"Topic19\", \"Topic19\", \"Topic19\", \"Topic19\", \"Topic19\", \"Topic19\", \"Topic19\", \"Topic19\", \"Topic19\", \"Topic19\", \"Topic19\", \"Topic19\", \"Topic19\", \"Topic19\", \"Topic19\", \"Topic19\", \"Topic19\", \"Topic19\", \"Topic19\", \"Topic19\", \"Topic19\", \"Topic19\", \"Topic19\", \"Topic19\", \"Topic19\", \"Topic19\", \"Topic19\", \"Topic19\", \"Topic20\", \"Topic20\", \"Topic20\", \"Topic20\", \"Topic20\", \"Topic20\", \"Topic20\", \"Topic20\", \"Topic20\", \"Topic20\", \"Topic20\", \"Topic20\", \"Topic20\", \"Topic20\", \"Topic20\", \"Topic20\", \"Topic20\", \"Topic20\", \"Topic20\", \"Topic20\", \"Topic20\", \"Topic20\", \"Topic20\", \"Topic20\", \"Topic20\", \"Topic20\", \"Topic20\", \"Topic20\", \"Topic20\", \"Topic20\", \"Topic20\", \"Topic20\", \"Topic20\", \"Topic20\", \"Topic20\", \"Topic20\", \"Topic20\", \"Topic20\"], \"logprob\": [30.0, 29.0, 28.0, 27.0, 26.0, 25.0, 24.0, 23.0, 22.0, 21.0, 20.0, 19.0, 18.0, 17.0, 16.0, 15.0, 14.0, 13.0, 12.0, 11.0, 10.0, 9.0, 8.0, 7.0, 6.0, 5.0, 4.0, 3.0, 2.0, 1.0, -1.128100037574768, -1.128100037574768, -1.8187999725341797, -2.5069000720977783, -2.5069000720977783, -7.122099876403809, -7.122099876403809, -7.122099876403809, -7.122099876403809, -7.122099876403809, -7.122099876403809, -7.122099876403809, -7.122099876403809, -7.122099876403809, -7.122099876403809, -7.122099876403809, -7.122099876403809, -7.122099876403809, -7.122099876403809, -7.122099876403809, -7.122099876403809, -7.122099876403809, -7.122099876403809, -7.122099876403809, -7.122099876403809, -7.122099876403809, -7.122099876403809, -7.122099876403809, -7.122099876403809, -7.122099876403809, -7.122099876403809, -7.122099876403809, -7.122099876403809, -7.122099876403809, -7.122099876403809, -7.122099876403809, -7.122099876403809, -1.8447999954223633, -1.8447999954223633, -1.8447999954223633, -1.8447999954223633, -1.8447999954223633, -1.8447999954223633, -6.45989990234375, -6.45989990234375, -6.45989990234375, -6.45989990234375, -6.45989990234375, -6.45989990234375, -6.45989990234375, -6.45989990234375, -6.45989990234375, -6.45989990234375, -6.45989990234375, -6.45989990234375, -6.45989990234375, -6.45989990234375, -6.45989990234375, -6.45989990234375, -6.45989990234375, -6.45989990234375, -6.45989990234375, -6.45989990234375, -6.45989990234375, -6.45989990234375, -6.45989990234375, -6.45989990234375, -6.45989990234375, -6.45989990234375, -6.45989990234375, -6.45989990234375, -6.45989990234375, -6.45989990234375, -6.45989990234375, -6.45989990234375, -0.7527999877929688, -1.8447999954223633, -1.8447999954223633, -1.8447999954223633, -6.45989990234375, -6.45989990234375, -6.45989990234375, -6.45989990234375, -6.45989990234375, -6.45989990234375, -6.45989990234375, -6.45989990234375, -6.45989990234375, -6.45989990234375, -6.45989990234375, -6.45989990234375, -6.45989990234375, -6.45989990234375, -6.45989990234375, -6.45989990234375, -6.45989990234375, -6.45989990234375, -6.45989990234375, -6.45989990234375, -6.45989990234375, -6.45989990234375, -6.45989990234375, -6.45989990234375, -6.45989990234375, -6.45989990234375, -6.45989990234375, -6.45989990234375, -6.45989990234375, -6.45989990234375, -6.45989990234375, -6.45989990234375, -6.45989990234375, -1.6746000051498413, -1.6746000051498413, -1.6746000051498413, -1.6746000051498413, -1.6746000051498413, -6.289700031280518, -6.289700031280518, -6.289700031280518, -6.289700031280518, -6.289700031280518, -6.289700031280518, -6.289700031280518, -6.289700031280518, -6.289700031280518, -6.289700031280518, -6.289700031280518, -6.289700031280518, -6.289700031280518, -6.289700031280518, -6.289700031280518, -6.289700031280518, -6.289700031280518, -6.289700031280518, -6.289700031280518, -6.289700031280518, -6.289700031280518, -6.289700031280518, -6.289700031280518, -6.289700031280518, -6.289700031280518, -6.289700031280518, -6.289700031280518, -6.289700031280518, -6.289700031280518, -6.289700031280518, -6.289700031280518, -6.289700031280518, -6.289700031280518, -1.6746000051498413, -1.6746000051498413, -1.6746000051498413, -1.6746000051498413, -1.6746000051498413, -6.289700031280518, -6.289700031280518, -6.289700031280518, -6.289700031280518, -6.289700031280518, -6.289700031280518, -6.289700031280518, -6.289700031280518, -6.289700031280518, -6.289700031280518, -6.289700031280518, -6.289700031280518, -6.289700031280518, -6.289700031280518, -6.289700031280518, -6.289700031280518, -6.289700031280518, -6.289700031280518, -6.289700031280518, -6.289700031280518, -6.289700031280518, -6.289700031280518, -6.289700031280518, -6.289700031280518, -6.289700031280518, -6.289700031280518, -6.289700031280518, -6.289700031280518, -6.289700031280518, -6.289700031280518, -6.289700031280518, -6.289700031280518, -6.289700031280518, -0.9864000082015991, -0.9864000082015991, -1.6746000051498413, -6.289700031280518, -6.289700031280518, -6.289700031280518, -6.289700031280518, -6.289700031280518, -6.289700031280518, -6.289700031280518, -6.289700031280518, -6.289700031280518, -6.289700031280518, -6.289700031280518, -6.289700031280518, -6.289700031280518, -6.289700031280518, -6.289700031280518, -6.289700031280518, -6.289700031280518, -6.289700031280518, -6.289700031280518, -6.289700031280518, -6.289700031280518, -6.289700031280518, -6.289700031280518, -6.289700031280518, -6.289700031280518, -6.289700031280518, -6.289700031280518, -6.289700031280518, -6.289700031280518, -6.289700031280518, -6.289700031280518, -6.289700031280518, -6.289700031280518, -1.6746000051498413, -1.6746000051498413, -1.6746000051498413, -1.6746000051498413, -1.6746000051498413, -6.289700031280518, -6.289700031280518, -6.289700031280518, -6.289700031280518, -6.289700031280518, -6.289700031280518, -6.289700031280518, -6.289700031280518, -6.289700031280518, -6.289700031280518, -6.289700031280518, -6.289700031280518, -6.289700031280518, -6.289700031280518, -6.289700031280518, -6.289700031280518, -6.289700031280518, -6.289700031280518, -6.289700031280518, -6.289700031280518, -6.289700031280518, -6.289700031280518, -6.289700031280518, -6.289700031280518, -6.289700031280518, -6.289700031280518, -6.289700031280518, -6.289700031280518, -6.289700031280518, -6.289700031280518, -6.289700031280518, -6.289700031280518, -6.289700031280518, -0.861299991607666, -0.861299991607666, -5.476500034332275, -5.476500034332275, -5.476500034332275, -5.476500034332275, -5.476500034332275, -5.476500034332275, -5.476500034332275, -5.476500034332275, -5.476500034332275, -5.476500034332275, -5.476500034332275, -5.476500034332275, -5.476500034332275, -5.476500034332275, -5.476500034332275, -5.476500034332275, -5.476500034332275, -5.476500034332275, -5.476500034332275, -5.476500034332275, -5.476500034332275, -5.476500034332275, -5.476500034332275, -5.476500034332275, -5.476500034332275, -5.476500034332275, -5.476500034332275, -5.476500034332275, -5.476500034332275, -5.476500034332275, -5.476500034332275, -5.476500034332275, -5.476500034332275, -5.476500034332275, -5.476500034332275, -5.476500034332275, -0.861299991607666, -0.861299991607666, -5.476500034332275, -5.476500034332275, -5.476500034332275, -5.476500034332275, -5.476500034332275, -5.476500034332275, -5.476500034332275, -5.476500034332275, -5.476500034332275, -5.476500034332275, -5.476500034332275, -5.476500034332275, -5.476500034332275, -5.476500034332275, -5.476500034332275, -5.476500034332275, -5.476500034332275, -5.476500034332275, -5.476500034332275, -5.476500034332275, -5.476500034332275, -5.476500034332275, -5.476500034332275, -5.476500034332275, -5.476500034332275, -5.476500034332275, -5.476500034332275, -5.476500034332275, -5.476500034332275, -5.476500034332275, -5.476500034332275, -5.476500034332275, -5.476500034332275, -5.476500034332275, -5.476500034332275, -5.476500034332275, -0.31940001249313354, -4.934500217437744, -4.934500217437744, -4.934500217437744, -4.934500217437744, -4.934500217437744, -4.934500217437744, -4.934500217437744, -4.934500217437744, -4.934500217437744, -4.934500217437744, -4.934500217437744, -4.934500217437744, -4.934500217437744, -4.934500217437744, -4.934500217437744, -4.934500217437744, -4.934500217437744, -4.934500217437744, -4.934500217437744, -4.934500217437744, -4.934500217437744, -4.934500217437744, -4.934500217437744, -4.934500217437744, -4.934500217437744, -4.934500217437744, -4.934500217437744, -4.934500217437744, -4.934500217437744, -4.934500217437744, -4.934500217437744, -4.934500217437744, -4.934500217437744, -4.934500217437744, -4.934500217437744, -4.934500217437744, -4.934500217437744, -0.31940001249313354, -4.934500217437744, -4.934500217437744, -4.934500217437744, -4.934500217437744, -4.934500217437744, -4.934500217437744, -4.934500217437744, -4.934500217437744, -4.934500217437744, -4.934500217437744, -4.934500217437744, -4.934500217437744, -4.934500217437744, -4.934500217437744, -4.934500217437744, -4.934500217437744, -4.934500217437744, -4.934500217437744, -4.934500217437744, -4.934500217437744, -4.934500217437744, -4.934500217437744, -4.934500217437744, -4.934500217437744, -4.934500217437744, -4.934500217437744, -4.934500217437744, -4.934500217437744, -4.934500217437744, -4.934500217437744, -4.934500217437744, -4.934500217437744, -4.934500217437744, -4.934500217437744, -4.934500217437744, -4.934500217437744, -4.934500217437744, -3.663599967956543, -3.663599967956543, -3.663599967956543, -3.663599967956543, -3.663599967956543, -3.663599967956543, -3.663599967956543, -3.663599967956543, -3.663599967956543, -3.663599967956543, -3.663599967956543, -3.663599967956543, -3.663599967956543, -3.663599967956543, -3.663599967956543, -3.663599967956543, -3.663599967956543, -3.663599967956543, -3.663599967956543, -3.663599967956543, -3.663599967956543, -3.663599967956543, -3.663599967956543, -3.663599967956543, -3.663599967956543, -3.663599967956543, -3.663599967956543, -3.663599967956543, -3.663599967956543, -3.663599967956543, -3.663599967956543, -3.663599967956543, -3.663599967956543, -3.663599967956543, -3.663599967956543, -3.663599967956543, -3.663599967956543, -3.663599967956543, -3.663599967956543, -3.663599967956543, -3.663599967956543, -3.663599967956543, -3.663599967956543, -3.663599967956543, -3.663599967956543, -3.663599967956543, -3.663599967956543, -3.663599967956543, -3.663599967956543, -3.663599967956543, -3.663599967956543, -3.663599967956543, -3.663599967956543, -3.663599967956543, -3.663599967956543, -3.663599967956543, -3.663599967956543, -3.663599967956543, -3.663599967956543, -3.663599967956543, -3.663599967956543, -3.663599967956543, -3.663599967956543, -3.663599967956543, -3.663599967956543, -3.663599967956543, -3.663599967956543, -3.663599967956543, -3.663599967956543, -3.663599967956543, -3.663599967956543, -3.663599967956543, -3.663599967956543, -3.663599967956543, -3.663599967956543, -3.663599967956543, -3.663599967956543, -3.663599967956543, -3.663599967956543, -3.663599967956543, -3.663599967956543, -3.663599967956543, -3.663599967956543, -3.663599967956543, -3.663599967956543, -3.663599967956543, -3.663599967956543, -3.663599967956543, -3.663599967956543, -3.663599967956543, -3.663599967956543, -3.663599967956543, -3.663599967956543, -3.663599967956543, -3.663599967956543, -3.663599967956543, -3.663599967956543, -3.663599967956543, -3.663599967956543, -3.663599967956543, -3.663599967956543, -3.663599967956543, -3.663599967956543, -3.663599967956543, -3.663599967956543, -3.663599967956543, -3.663599967956543, -3.663599967956543, -3.663599967956543, -3.663599967956543, -3.663599967956543, -3.663599967956543, -3.663599967956543, -3.663599967956543, -3.663599967956543, -3.663599967956543, -3.663599967956543, -3.663599967956543, -3.663599967956543, -3.663599967956543, -3.663599967956543, -3.663599967956543, -3.663599967956543, -3.663599967956543, -3.663599967956543, -3.663599967956543, -3.663599967956543, -3.663599967956543, -3.663599967956543, -3.663599967956543, -3.663599967956543, -3.663599967956543, -3.663599967956543, -3.663599967956543, -3.663599967956543, -3.663599967956543, -3.663599967956543, -3.663599967956543, -3.663599967956543, -3.663599967956543, -3.663599967956543, -3.663599967956543, -3.663599967956543, -3.663599967956543, -3.663599967956543, -3.663599967956543, -3.663599967956543, -3.663599967956543, -3.663599967956543, -3.663599967956543, -3.663599967956543, -3.663599967956543, -3.663599967956543, -3.663599967956543, -3.663599967956543, -3.663599967956543, -3.663599967956543, -3.663599967956543, -3.663599967956543, -3.663599967956543, -3.663599967956543, -3.663599967956543, -3.663599967956543, -3.663599967956543, -3.663599967956543, -3.663599967956543, -3.663599967956543, -3.663599967956543, -3.663599967956543, -3.663599967956543, -3.663599967956543, -3.663599967956543, -3.663599967956543, -3.663599967956543, -3.663599967956543, -3.663599967956543, -3.663599967956543, -3.663599967956543, -3.663599967956543, -3.663599967956543, -3.663599967956543, -3.663599967956543, -3.663599967956543, -3.663599967956543, -3.663599967956543, -3.663599967956543, -3.663599967956543, -3.663599967956543, -3.663599967956543, -3.663599967956543, -3.663599967956543, -3.663599967956543, -3.663599967956543, -3.663599967956543, -3.663599967956543, -3.663599967956543, -3.663599967956543, -3.663599967956543, -3.663599967956543, -3.663599967956543, -3.663599967956543, -3.663599967956543, -3.663599967956543, -3.663599967956543, -3.663599967956543, -3.663599967956543, -3.663599967956543, -3.663599967956543, -3.663599967956543, -3.663599967956543, -3.663599967956543, -3.663599967956543, -3.663599967956543, -3.663599967956543, -3.663599967956543, -3.663599967956543, -3.663599967956543, -3.663599967956543, -3.663599967956543, -3.663599967956543, -3.663599967956543, -3.663599967956543, -3.663599967956543, -3.663599967956543, -3.663599967956543, -3.663599967956543, -3.663599967956543, -3.663599967956543, -3.663599967956543, -3.663599967956543, -3.663599967956543, -3.663599967956543, -3.663599967956543, -3.663599967956543, -3.663599967956543, -3.663599967956543, -3.663599967956543, -3.663599967956543, -3.663599967956543, -3.663599967956543, -3.663599967956543, -3.663599967956543, -3.663599967956543, -3.663599967956543, -3.663599967956543, -3.663599967956543, -3.663599967956543, -3.663599967956543, -3.663599967956543, -3.663599967956543, -3.663599967956543, -3.663599967956543, -3.663599967956543, -3.663599967956543, -3.663599967956543, -3.663599967956543, -3.663599967956543, -3.663599967956543, -3.663599967956543, -3.663599967956543, -3.663599967956543, -3.663599967956543, -3.663599967956543, -3.663599967956543, -3.663599967956543, -3.663599967956543, -3.663599967956543, -3.663599967956543, -3.663599967956543, -3.663599967956543, -3.663599967956543, -3.663599967956543, -3.663599967956543, -3.663599967956543, -3.663599967956543, -3.663599967956543, -3.663599967956543, -3.663599967956543, -3.663599967956543, -3.663599967956543, -3.663599967956543, -3.663599967956543, -3.663599967956543, -3.663599967956543, -3.663599967956543, -3.663599967956543, -3.663599967956543, -3.663599967956543, -3.663599967956543, -3.663599967956543, -3.663599967956543, -3.663599967956543, -3.663599967956543, -3.663599967956543, -3.663599967956543, -3.663599967956543, -3.663599967956543, -3.663599967956543, -3.663599967956543, -3.663599967956543, -3.663599967956543, -3.663599967956543, -3.663599967956543, -3.663599967956543, -3.663599967956543, -3.663599967956543, -3.663599967956543, -3.663599967956543, -3.663599967956543, -3.663599967956543, -3.663599967956543, -3.663599967956543, -3.663599967956543, -3.663599967956543, -3.663599967956543, -3.663599967956543, -3.663599967956543, -3.663599967956543, -3.663599967956543, -3.663599967956543, -3.663599967956543, -3.663599967956543, -3.663599967956543, -3.663599967956543, -3.663599967956543, -3.663599967956543, -3.663599967956543, -3.663599967956543, -3.663599967956543, -3.663599967956543, -3.663599967956543, -3.663599967956543, -3.663599967956543, -3.663599967956543, -3.663599967956543, -3.663599967956543, -3.663599967956543, -3.663599967956543, -3.663599967956543, -3.663599967956543, -3.663599967956543, -3.663599967956543], \"loglift\": [30.0, 29.0, 28.0, 27.0, 26.0, 25.0, 24.0, 23.0, 22.0, 21.0, 20.0, 19.0, 18.0, 17.0, 16.0, 15.0, 14.0, 13.0, 12.0, 11.0, 10.0, 9.0, 8.0, 7.0, 6.0, 5.0, 4.0, 3.0, 2.0, 1.0, 1.4102, 1.4102, 1.3884, 1.3465, 1.3465, -3.0263, -3.037, -3.1022, -3.1022, -3.1664, -3.1664, -3.229, -3.229, -3.229, -3.229, -3.229, -3.2374, -3.2396, -3.2396, -3.2396, -3.2396, -3.2396, -3.2401, -3.2401, -3.2401, -3.2418, -3.2418, -3.2418, -3.2418, -3.2418, -4.2739, -3.8822, -3.8822, -3.2478, -3.2478, -3.2478, -3.2478, 2.0295, 2.0295, 2.0295, 2.0295, 2.0295, 2.0295, -2.3642, -2.3748, -2.44, -2.44, -2.5042, -2.5042, -2.5668, -2.5668, -2.5668, -2.5668, -2.5668, -2.5752, -2.5775, -2.5775, -2.5775, -2.5775, -2.5775, -2.578, -2.578, -2.578, -2.5797, -2.5797, -2.5797, -2.5797, -3.22, -3.2528, -2.6064, -3.22, -3.6118, -3.9216, -2.6064, -2.5797, 2.0953, 2.0371, 2.0371, 2.0371, -2.3642, -2.3748, -2.44, -2.44, -2.5042, -2.5042, -2.5668, -2.5668, -2.5668, -2.5668, -2.5668, -2.5752, -2.5775, -2.5775, -2.5775, -2.5775, -2.5775, -2.5797, -2.5797, -2.5797, -2.5797, -2.5797, -2.5857, -2.5857, -2.5857, -2.5857, -2.6064, -3.22, -3.2528, -3.22, -3.9216, -2.5857, -2.6064, 2.2056, 2.2056, 2.2056, 2.2056, 2.2056, -2.194, -2.2047, -2.2699, -2.2699, -2.3341, -2.3341, -2.3966, -2.3966, -2.3966, -2.3966, -2.3966, -2.405, -2.4073, -2.4073, -2.4073, -2.4073, -2.4073, -2.4078, -2.4078, -2.4078, -2.4155, -2.4155, -2.4155, -2.4155, -2.4155, -2.4155, -2.4362, -3.0498, -3.0826, -3.0498, -3.4416, -3.7515, -2.4362, 2.2079, 2.2079, 2.2079, 2.2079, 2.2079, -2.194, -2.2047, -2.2699, -2.2699, -2.3341, -2.3341, -2.3966, -2.3966, -2.3966, -2.3966, -2.3966, -2.405, -2.4078, -2.4078, -2.4078, -2.4095, -2.4095, -2.4095, -2.4095, -2.4095, -2.4155, -2.4155, -2.4155, -2.4155, -2.4155, -2.4362, -2.4155, -3.0498, -3.0826, -3.0498, -3.4416, -3.7515, -2.4362, 2.2535, 2.2535, 2.2101, -2.194, -2.2047, -2.2699, -2.2699, -2.3341, -2.3341, -2.3966, -2.3966, -2.3966, -2.3966, -2.3966, -2.4073, -2.4073, -2.4073, -2.4073, -2.4073, -2.4078, -2.4078, -2.4078, -2.4095, -2.4095, -2.4095, -2.4095, -2.4095, -2.4155, -2.4155, -2.4155, -2.4155, -3.0826, -3.4416, -3.7515, -2.4362, -2.4362, 2.2185, 2.2185, 2.2185, 2.2185, 2.2185, -2.194, -2.2047, -2.2699, -2.2699, -2.3341, -2.3341, -2.405, -2.4073, -2.4073, -2.4073, -2.4073, -2.4073, -2.4078, -2.4078, -2.4078, -2.4095, -2.4095, -2.4095, -2.4095, -2.4095, -2.4155, -2.4155, -2.4155, -2.4155, -2.4155, -2.4362, -2.4155, -3.0498, -3.0826, -3.0498, -3.4416, -3.7515, -2.4362, 3.0943, 3.0943, -1.3807, -1.3914, -1.4566, -1.4566, -1.5834, -1.5834, -1.5834, -1.5834, -1.5834, -1.5918, -1.594, -1.594, -1.594, -1.594, -1.594, -1.5945, -1.5945, -1.5945, -1.5962, -1.5962, -1.5962, -1.5962, -1.5962, -1.6022, -1.6022, -1.6022, -1.6022, -1.6022, -1.623, -1.6022, -2.2366, -2.2693, -2.2366, -2.6283, -2.9382, -1.623, 3.1585, 3.1585, -1.3807, -1.3914, -1.5208, -1.5208, -1.5834, -1.5834, -1.5834, -1.5834, -1.5834, -1.5918, -1.594, -1.594, -1.594, -1.594, -1.594, -1.5945, -1.5945, -1.5945, -1.5962, -1.5962, -1.5962, -1.5962, -1.5962, -1.6022, -1.6022, -1.6022, -1.6022, -1.6022, -1.623, -1.6022, -2.2366, -2.2693, -2.2366, -2.6283, -2.9382, -1.623, 3.7657, -0.8387, -0.9146, -0.9146, -0.9788, -0.9788, -1.0414, -1.0414, -1.0414, -1.0414, -1.0414, -1.0498, -1.052, -1.052, -1.052, -1.052, -1.052, -1.0526, -1.0526, -1.0526, -1.0543, -1.0543, -1.0543, -1.0543, -1.0543, -1.0602, -1.0602, -1.0602, -1.0602, -1.0602, -1.0602, -1.6946, -1.7273, -1.6946, -2.0864, -2.3962, -1.081, -1.081, 3.7764, -0.8494, -0.9146, -0.9146, -0.9788, -0.9788, -1.0414, -1.0414, -1.0414, -1.0414, -1.0414, -1.0498, -1.052, -1.052, -1.052, -1.052, -1.052, -1.0526, -1.0526, -1.0526, -1.0543, -1.0543, -1.0543, -1.0543, -1.0543, -1.0602, -1.0602, -1.0602, -1.0602, -1.0602, -1.0602, -1.6946, -1.7273, -1.6946, -2.0864, -2.3962, -1.081, -1.081, 0.4322, 0.4215, 0.3563, 0.3563, 0.2921, 0.2921, 0.2295, 0.2295, 0.2295, 0.2295, 0.2295, 0.2211, 0.2189, 0.2189, 0.2189, 0.2189, 0.2189, 0.2184, 0.2184, 0.2184, 0.2167, 0.2167, 0.2167, 0.2167, 0.2167, 0.2107, 0.2107, 0.2107, 0.2107, 0.2107, 0.2107, -0.4237, -0.4564, -0.4237, -0.8154, -1.1253, 0.1899, 0.1899, 0.4322, 0.4215, 0.3563, 0.3563, 0.2921, 0.2921, 0.2295, 0.2295, 0.2295, 0.2295, 0.2295, 0.2211, 0.2189, 0.2189, 0.2189, 0.2189, 0.2189, 0.2184, 0.2184, 0.2184, 0.2167, 0.2167, 0.2167, 0.2167, 0.2167, 0.2107, 0.2107, 0.2107, 0.2107, 0.2107, 0.2107, -0.4237, -0.4564, -0.4237, -0.8154, -1.1253, 0.1899, 0.1899, 0.4322, 0.4215, 0.3563, 0.3563, 0.2921, 0.2921, 0.2295, 0.2295, 0.2295, 0.2295, 0.2295, 0.2211, 0.2189, 0.2189, 0.2189, 0.2189, 0.2189, 0.2184, 0.2184, 0.2184, 0.2167, 0.2167, 0.2167, 0.2167, 0.2167, 0.2107, 0.2107, 0.2107, 0.2107, 0.2107, 0.2107, -0.4237, -0.4564, -0.4237, -0.8154, -1.1253, 0.1899, 0.1899, 0.4322, 0.4215, 0.3563, 0.3563, 0.2921, 0.2921, 0.2295, 0.2295, 0.2295, 0.2295, 0.2295, 0.2211, 0.2189, 0.2189, 0.2189, 0.2189, 0.2189, 0.2184, 0.2184, 0.2184, 0.2167, 0.2167, 0.2167, 0.2167, 0.2167, 0.2107, 0.2107, 0.2107, 0.2107, 0.2107, 0.2107, -0.4237, -0.4564, -0.4237, -0.8154, -1.1253, 0.1899, 0.1899, 0.4322, 0.4215, 0.3563, 0.3563, 0.2921, 0.2921, 0.2295, 0.2295, 0.2295, 0.2295, 0.2295, 0.2211, 0.2189, 0.2189, 0.2189, 0.2189, 0.2189, 0.2184, 0.2184, 0.2184, 0.2167, 0.2167, 0.2167, 0.2167, 0.2167, 0.2107, 0.2107, 0.2107, 0.2107, 0.2107, 0.2107, -0.4237, -0.4564, -0.4237, -0.8154, -1.1253, 0.1899, 0.1899, 0.4322, 0.4215, 0.3563, 0.3563, 0.2921, 0.2921, 0.2295, 0.2295, 0.2295, 0.2295, 0.2295, 0.2211, 0.2189, 0.2189, 0.2189, 0.2189, 0.2189, 0.2184, 0.2184, 0.2184, 0.2167, 0.2167, 0.2167, 0.2167, 0.2167, 0.2107, 0.2107, 0.2107, 0.2107, 0.2107, 0.2107, -0.4237, -0.4564, -0.4237, -0.8154, -1.1253, 0.1899, 0.1899, 0.4322, 0.4215, 0.3563, 0.3563, 0.2921, 0.2921, 0.2295, 0.2295, 0.2295, 0.2295, 0.2295, 0.2211, 0.2189, 0.2189, 0.2189, 0.2189, 0.2189, 0.2184, 0.2184, 0.2184, 0.2167, 0.2167, 0.2167, 0.2167, 0.2167, 0.2107, 0.2107, 0.2107, 0.2107, 0.2107, 0.2107, -0.4237, -0.4564, -0.4237, -0.8154, -1.1253, 0.1899, 0.1899, 0.4322, 0.4215, 0.3563, 0.3563, 0.2921, 0.2921, 0.2295, 0.2295, 0.2295, 0.2295, 0.2295, 0.2211, 0.2189, 0.2189, 0.2189, 0.2189, 0.2189, 0.2184, 0.2184, 0.2184, 0.2167, 0.2167, 0.2167, 0.2167, 0.2167, 0.2107, 0.2107, 0.2107, 0.2107, 0.2107, 0.2107, -0.4237, -0.4564, -0.4237, -0.8154, -1.1253, 0.1899, 0.1899, 0.4322, 0.4215, 0.3563, 0.3563, 0.2921, 0.2921, 0.2295, 0.2295, 0.2295, 0.2295, 0.2295, 0.2211, 0.2189, 0.2189, 0.2189, 0.2189, 0.2189, 0.2184, 0.2184, 0.2184, 0.2167, 0.2167, 0.2167, 0.2167, 0.2167, 0.2107, 0.2107, 0.2107, 0.2107, 0.2107, 0.2107, -0.4237, -0.4564, -0.4237, -0.8154, -1.1253, 0.1899, 0.1899]}, \"token.table\": {\"Topic\": [5, 5, 2, 1, 4, 6, 1, 3, 7, 5, 3, 7, 4, 1, 4, 6, 9, 7, 9, 8, 4, 1, 3, 2, 2, 5, 7, 2, 10, 1, 3, 6, 2, 11, 2, 4, 8, 7, 5], \"Freq\": [0.9708612196661658, 0.9708612196661658, 0.9629323382711116, 0.94313100847152, 0.968691653801259, 1.0212347869989005, 1.0126081436677408, 1.0353127159102966, 0.9812623458848911, 0.9708612196661658, 0.9703483040468591, 0.9812623458848911, 0.968691653801259, 0.94313100847152, 0.968691653801259, 0.9730405426557309, 1.1138658337458192, 0.9812623458848911, 1.1138658337458192, 1.0445997644532938, 0.968691653801259, 1.0126081436677408, 0.9703483040468591, 0.9629323382711116, 0.9629323382711116, 0.9708612196661658, 0.9812623458848911, 0.9629323382711116, 1.1889106296519452, 0.9883390232636713, 0.9703483040468591, 1.0212347869989005, 0.9629323382711116, 1.2016915452135908, 0.9629323382711116, 0.968691653801259, 1.0445997644532938, 0.9812623458848911, 0.9708612196661658], \"Term\": [\"//t.co/8qvuviylve\", \"//t.co/u7ag9ialry\", \"anyone\", \"bestfanarmy\", \"bts_be\", \"bts_dynamite\", \"bts_twt\", \"btsarmy\", \"btsgrammy\", \"btsgrammynomeation\", \"btsmexico\", \"case\", \"collab\", \"considels\", \"considering\", \"destination\", \"dominicanindependenceteday\", \"flavor\\ud83d\\ude18\", \"hugs\", \"independence\", \"latin\", \"latinbtsarmy\", \"latinxheritagemonth\", \"lifegoeson\", \"maybe\", \"mexico\", \"music\", \"party\", \"playlist\", \"pleaseee\", \"please\\ud83e\\udd7a\\ud83d\\udc9c\", \"reggeaton\", \"song.pretty\", \"suggestion\", \"tomorrow\", \"tweet\", \"votes\", \"\\ud83c\\udf3c\\ud83c\\udde9\\ud83c\\uddf4\\ud83c\\udf3c\", \"\\ud83d\\ude02\\ud83d\\ude02\\ud83d\\ude02\\u2764\\u2764\\u2764\"]}, \"R\": 30, \"lambda.step\": 0.01, \"plot.opts\": {\"xlab\": \"PC1\", \"ylab\": \"PC2\"}, \"topic.order\": [16, 20, 2, 4, 8, 18, 7, 9, 11, 10, 13, 19, 12, 14, 6, 5, 15, 3, 17, 1]};\n",
              "\n",
              "function LDAvis_load_lib(url, callback){\n",
              "  var s = document.createElement('script');\n",
              "  s.src = url;\n",
              "  s.async = true;\n",
              "  s.onreadystatechange = s.onload = callback;\n",
              "  s.onerror = function(){console.warn(\"failed to load library \" + url);};\n",
              "  document.getElementsByTagName(\"head\")[0].appendChild(s);\n",
              "}\n",
              "\n",
              "if(typeof(LDAvis) !== \"undefined\"){\n",
              "   // already loaded: just create the visualization\n",
              "   !function(LDAvis){\n",
              "       new LDAvis(\"#\" + \"ldavis_el631403360248817442225181525\", ldavis_el631403360248817442225181525_data);\n",
              "   }(LDAvis);\n",
              "}else if(typeof define === \"function\" && define.amd){\n",
              "   // require.js is available: use it to load d3/LDAvis\n",
              "   require.config({paths: {d3: \"https://cdnjs.cloudflare.com/ajax/libs/d3/3.5.5/d3.min\"}});\n",
              "   require([\"d3\"], function(d3){\n",
              "      window.d3 = d3;\n",
              "      LDAvis_load_lib(\"https://cdn.rawgit.com/bmabey/pyLDAvis/files/ldavis.v1.0.0.js\", function(){\n",
              "        new LDAvis(\"#\" + \"ldavis_el631403360248817442225181525\", ldavis_el631403360248817442225181525_data);\n",
              "      });\n",
              "    });\n",
              "}else{\n",
              "    // require.js not available: dynamically load d3 & LDAvis\n",
              "    LDAvis_load_lib(\"https://cdnjs.cloudflare.com/ajax/libs/d3/3.5.5/d3.min.js\", function(){\n",
              "         LDAvis_load_lib(\"https://cdn.rawgit.com/bmabey/pyLDAvis/files/ldavis.v1.0.0.js\", function(){\n",
              "                 new LDAvis(\"#\" + \"ldavis_el631403360248817442225181525\", ldavis_el631403360248817442225181525_data);\n",
              "            })\n",
              "         });\n",
              "}\n",
              "</script>"
            ],
            "text/plain": [
              "<IPython.core.display.HTML object>"
            ]
          },
          "metadata": {},
          "execution_count": 84
        }
      ]
    }
  ]
}